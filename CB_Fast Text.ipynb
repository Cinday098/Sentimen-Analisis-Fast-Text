{
  "nbformat": 4,
  "nbformat_minor": 0,
  "metadata": {
    "colab": {
      "name": "update Cyberbullying_Classification with fast text.ipynb",
      "provenance": [],
      "collapsed_sections": []
    },
    "kernelspec": {
      "name": "python3",
      "display_name": "Python 3"
    },
    "widgets": {
      "application/vnd.jupyter.widget-state+json": {
        "9d199a627a3a418a9f37ab227da14e80": {
          "model_module": "@jupyter-widgets/controls",
          "model_name": "HBoxModel",
          "state": {
            "_view_name": "HBoxView",
            "_dom_classes": [],
            "_model_name": "HBoxModel",
            "_view_module": "@jupyter-widgets/controls",
            "_model_module_version": "1.5.0",
            "_view_count": null,
            "_view_module_version": "1.5.0",
            "box_style": "",
            "layout": "IPY_MODEL_163c12cc903348b68756c3b2005d5b12",
            "_model_module": "@jupyter-widgets/controls",
            "children": [
              "IPY_MODEL_b18400fb1e644a34af5bb7c9a862523c",
              "IPY_MODEL_82d5d402eff0475797f61d96931e669a"
            ]
          }
        },
        "163c12cc903348b68756c3b2005d5b12": {
          "model_module": "@jupyter-widgets/base",
          "model_name": "LayoutModel",
          "state": {
            "_view_name": "LayoutView",
            "grid_template_rows": null,
            "right": null,
            "justify_content": null,
            "_view_module": "@jupyter-widgets/base",
            "overflow": null,
            "_model_module_version": "1.2.0",
            "_view_count": null,
            "flex_flow": null,
            "width": null,
            "min_width": null,
            "border": null,
            "align_items": null,
            "bottom": null,
            "_model_module": "@jupyter-widgets/base",
            "top": null,
            "grid_column": null,
            "overflow_y": null,
            "overflow_x": null,
            "grid_auto_flow": null,
            "grid_area": null,
            "grid_template_columns": null,
            "flex": null,
            "_model_name": "LayoutModel",
            "justify_items": null,
            "grid_row": null,
            "max_height": null,
            "align_content": null,
            "visibility": null,
            "align_self": null,
            "height": null,
            "min_height": null,
            "padding": null,
            "grid_auto_rows": null,
            "grid_gap": null,
            "max_width": null,
            "order": null,
            "_view_module_version": "1.2.0",
            "grid_template_areas": null,
            "object_position": null,
            "object_fit": null,
            "grid_auto_columns": null,
            "margin": null,
            "display": null,
            "left": null
          }
        },
        "b18400fb1e644a34af5bb7c9a862523c": {
          "model_module": "@jupyter-widgets/controls",
          "model_name": "FloatProgressModel",
          "state": {
            "_view_name": "ProgressView",
            "style": "IPY_MODEL_81d051b85e7b4946b5ec3a8ce29b888e",
            "_dom_classes": [],
            "description": "100%",
            "_model_name": "FloatProgressModel",
            "bar_style": "success",
            "max": 1600,
            "_view_module": "@jupyter-widgets/controls",
            "_model_module_version": "1.5.0",
            "value": 1600,
            "_view_count": null,
            "_view_module_version": "1.5.0",
            "orientation": "horizontal",
            "min": 0,
            "description_tooltip": null,
            "_model_module": "@jupyter-widgets/controls",
            "layout": "IPY_MODEL_e3c09a7e31b54464b358d5c8225f2377"
          }
        },
        "82d5d402eff0475797f61d96931e669a": {
          "model_module": "@jupyter-widgets/controls",
          "model_name": "HTMLModel",
          "state": {
            "_view_name": "HTMLView",
            "style": "IPY_MODEL_4b8ae7c7097c40249fc8a73e9a6d847c",
            "_dom_classes": [],
            "description": "",
            "_model_name": "HTMLModel",
            "placeholder": "​",
            "_view_module": "@jupyter-widgets/controls",
            "_model_module_version": "1.5.0",
            "value": " 1600/1600 [00:00&lt;00:00, 2899.17it/s]",
            "_view_count": null,
            "_view_module_version": "1.5.0",
            "description_tooltip": null,
            "_model_module": "@jupyter-widgets/controls",
            "layout": "IPY_MODEL_739d11d7d1b1468fb33033f93e99b814"
          }
        },
        "81d051b85e7b4946b5ec3a8ce29b888e": {
          "model_module": "@jupyter-widgets/controls",
          "model_name": "ProgressStyleModel",
          "state": {
            "_view_name": "StyleView",
            "_model_name": "ProgressStyleModel",
            "description_width": "initial",
            "_view_module": "@jupyter-widgets/base",
            "_model_module_version": "1.5.0",
            "_view_count": null,
            "_view_module_version": "1.2.0",
            "bar_color": null,
            "_model_module": "@jupyter-widgets/controls"
          }
        },
        "e3c09a7e31b54464b358d5c8225f2377": {
          "model_module": "@jupyter-widgets/base",
          "model_name": "LayoutModel",
          "state": {
            "_view_name": "LayoutView",
            "grid_template_rows": null,
            "right": null,
            "justify_content": null,
            "_view_module": "@jupyter-widgets/base",
            "overflow": null,
            "_model_module_version": "1.2.0",
            "_view_count": null,
            "flex_flow": null,
            "width": null,
            "min_width": null,
            "border": null,
            "align_items": null,
            "bottom": null,
            "_model_module": "@jupyter-widgets/base",
            "top": null,
            "grid_column": null,
            "overflow_y": null,
            "overflow_x": null,
            "grid_auto_flow": null,
            "grid_area": null,
            "grid_template_columns": null,
            "flex": null,
            "_model_name": "LayoutModel",
            "justify_items": null,
            "grid_row": null,
            "max_height": null,
            "align_content": null,
            "visibility": null,
            "align_self": null,
            "height": null,
            "min_height": null,
            "padding": null,
            "grid_auto_rows": null,
            "grid_gap": null,
            "max_width": null,
            "order": null,
            "_view_module_version": "1.2.0",
            "grid_template_areas": null,
            "object_position": null,
            "object_fit": null,
            "grid_auto_columns": null,
            "margin": null,
            "display": null,
            "left": null
          }
        },
        "4b8ae7c7097c40249fc8a73e9a6d847c": {
          "model_module": "@jupyter-widgets/controls",
          "model_name": "DescriptionStyleModel",
          "state": {
            "_view_name": "StyleView",
            "_model_name": "DescriptionStyleModel",
            "description_width": "",
            "_view_module": "@jupyter-widgets/base",
            "_model_module_version": "1.5.0",
            "_view_count": null,
            "_view_module_version": "1.2.0",
            "_model_module": "@jupyter-widgets/controls"
          }
        },
        "739d11d7d1b1468fb33033f93e99b814": {
          "model_module": "@jupyter-widgets/base",
          "model_name": "LayoutModel",
          "state": {
            "_view_name": "LayoutView",
            "grid_template_rows": null,
            "right": null,
            "justify_content": null,
            "_view_module": "@jupyter-widgets/base",
            "overflow": null,
            "_model_module_version": "1.2.0",
            "_view_count": null,
            "flex_flow": null,
            "width": null,
            "min_width": null,
            "border": null,
            "align_items": null,
            "bottom": null,
            "_model_module": "@jupyter-widgets/base",
            "top": null,
            "grid_column": null,
            "overflow_y": null,
            "overflow_x": null,
            "grid_auto_flow": null,
            "grid_area": null,
            "grid_template_columns": null,
            "flex": null,
            "_model_name": "LayoutModel",
            "justify_items": null,
            "grid_row": null,
            "max_height": null,
            "align_content": null,
            "visibility": null,
            "align_self": null,
            "height": null,
            "min_height": null,
            "padding": null,
            "grid_auto_rows": null,
            "grid_gap": null,
            "max_width": null,
            "order": null,
            "_view_module_version": "1.2.0",
            "grid_template_areas": null,
            "object_position": null,
            "object_fit": null,
            "grid_auto_columns": null,
            "margin": null,
            "display": null,
            "left": null
          }
        }
      }
    }
  },
  "cells": [
    {
      "cell_type": "markdown",
      "metadata": {
        "id": "ArGn63nwCVo4"
      },
      "source": [
        "# Cyberbullying Classification\n",
        "\n",
        "The data used to create a data set is a textual conversation taken from the Kaggle which provides 1,600 conversations in Formspring.me."
      ]
    },
    {
      "cell_type": "code",
      "metadata": {
        "id": "-ibpz0bgYe5q",
        "colab": {
          "base_uri": "https://localhost:8080/"
        },
        "outputId": "e9ec614a-9b33-4b77-8a64-76a68ebea67b"
      },
      "source": [
        "import pandas as pd\n",
        "## Read excel file via Panda\n",
        "df = pd.read_excel(\"dataset.xlsx\")\n",
        "\n",
        "# define shared column name as variables\n",
        "severity1_column = \"severity1 LOW\"\n",
        "severity2_column = \"severity2 Middle\"\n",
        "severity3_column = \"severity3 hight\"\n",
        "\n",
        "## CAST COLUMN TO INTEGER!\n",
        "df[severity1_column] = pd.to_numeric(df[severity1_column], errors='coerce')\n",
        "df[severity2_column] = pd.to_numeric(df[severity2_column], errors='coerce')\n",
        "df[severity3_column] = pd.to_numeric(df[severity3_column], errors='coerce')\n",
        "\n",
        "print(f\"No of Rows - Original : {df.shape[0]}\")\n",
        "print(df)"
      ],
      "execution_count": 1,
      "outputs": [
        {
          "output_type": "stream",
          "text": [
            "No of Rows - Original : 12306\n",
            "                userid  ... bully3\n",
            "0      aguitarplayer94  ...    NaN\n",
            "1          aprilpooh15  ...    NaN\n",
            "2          aprilpooh15  ...    NaN\n",
            "3          aprilpooh15  ...    NaN\n",
            "4          aprilpooh15  ...    NaN\n",
            "...                ...  ...    ...\n",
            "12301       outlaw9000  ...    NaN\n",
            "12302       outlaw9000  ...    NaN\n",
            "12303       outlaw9000  ...    NaN\n",
            "12304       outlaw9000  ...    NaN\n",
            "12305         xoaall13  ...   None\n",
            "\n",
            "[12306 rows x 14 columns]\n"
          ],
          "name": "stdout"
        }
      ]
    },
    {
      "cell_type": "code",
      "metadata": {
        "id": "dt_-PuRfMst3",
        "colab": {
          "base_uri": "https://localhost:8080/"
        },
        "outputId": "bbdfd30f-9a76-484d-e9b6-cb52db1e657c"
      },
      "source": [
        "from google.colab import drive\n",
        "drive.mount('/content/drive')"
      ],
      "execution_count": 2,
      "outputs": [
        {
          "output_type": "stream",
          "text": [
            "Mounted at /content/drive\n"
          ],
          "name": "stdout"
        }
      ]
    },
    {
      "cell_type": "markdown",
      "metadata": {
        "id": "XrhUjCrX-HM5"
      },
      "source": [
        "#**Data Cleansing**\n",
        "\n",
        "Filter out some records with the following criteria:\n",
        "- total characters < 15 letters\n",
        "- having meaningless words like \"haha\", \"hehe\", \"wkwk\", \"emm\", \"umm\""
      ]
    },
    {
      "cell_type": "code",
      "metadata": {
        "id": "-WjNTx98YKAA"
      },
      "source": [
        ""
      ],
      "execution_count": 2,
      "outputs": []
    },
    {
      "cell_type": "code",
      "metadata": {
        "colab": {
          "base_uri": "https://localhost:8080/"
        },
        "id": "uBh9-YA3-tDH",
        "outputId": "15db20a3-c8ca-43f8-cab3-5a88a7188f83"
      },
      "source": [
        "post_column = \"post\"\n",
        "question_column = \"ques\"\n",
        "\n",
        "post_more_than_15_letters = (df[post_column].str.len() >= 15)\n",
        "question_more_than_15_letters = (df[question_column].str.len() >= 15)\n",
        "\n",
        "meaningless_words = \"haha|hehe|wkwk|emm|umm\"\n",
        "post_not_have_meaningless_words = (~df[post_column].str.contains(meaningless_words))\n",
        "question_not_have_meaningless_words = (~df[question_column].str.contains(meaningless_words))\n",
        "\n",
        "cleansed_df = df.loc[post_more_than_15_letters & question_more_than_15_letters & post_not_have_meaningless_words]\n",
        "print(f\"No of Rows - Cleansed : {cleansed_df.shape[0]}\")\n"
      ],
      "execution_count": 3,
      "outputs": [
        {
          "output_type": "stream",
          "text": [
            "No of Rows - Cleansed : 9507\n"
          ],
          "name": "stdout"
        }
      ]
    },
    {
      "cell_type": "markdown",
      "metadata": {
        "id": "GvFl6DLWEaBk"
      },
      "source": [
        "#**Data Balancing**\n",
        "\n",
        "Balance the dataset into several categories:\n",
        "- **2 Classes (Cyberbully, Non-Cyberbully)**\n",
        "With Total Data : 1600\n",
        "- 800 data with label \"No\"severity 0\n",
        "- 800 data with label \"Yes\"severity 1-10\n"
      ]
    },
    {
      "cell_type": "code",
      "metadata": {
        "colab": {
          "base_uri": "https://localhost:8080/"
        },
        "id": "6Dt3R5pfHRPy",
        "outputId": "5bbeb4a3-55d7-41de-e085-db5f33faf91f"
      },
      "source": [
        "no_of_2_class_samples = 800\n",
        "\n",
        "# defines filtering rules into 2 group!\n",
        "ans1_positives = (df[\"ans1\"] == \"Yes\")\n",
        "ans1_negatives = (~ans1_positives)\n",
        "\n",
        "_2class_positives = cleansed_df.loc[ans1_positives].sample(n=no_of_2_class_samples, replace=True)\n",
        "_2class_negatives = cleansed_df.loc[ans1_negatives].sample(n=no_of_2_class_samples)\n",
        "\n",
        "print(_2class_positives)\n",
        "print(_2class_negatives)\n"
      ],
      "execution_count": 4,
      "outputs": [
        {
          "output_type": "stream",
          "text": [
            "            userid  ...                                             bully3\n",
            "4351    lauraaatxd  ...                                                NaN\n",
            "11585   outlaw9000  ...                                                NaN\n",
            "9702   lalabitches  ...                                                NaN\n",
            "4395    lauraaatxd  ...                                                NaN\n",
            "11580   outlaw9000  ...                                                NaN\n",
            "...            ...  ...                                                ...\n",
            "7685      avlarios  ...                                                NaN\n",
            "6412       zooshay  ...                                                NaN\n",
            "4366    lauraaatxd  ...                                are you a virgin???\n",
            "10509   outlaw9000  ...                                                NaN\n",
            "3885       bksully  ...  : why are you such a bitch/whore cunt?r i hate...\n",
            "\n",
            "[800 rows x 14 columns]\n",
            "           userid  ... bully3\n",
            "8438  kellyblake1  ...    NaN\n",
            "923     teaachgee  ...    NaN\n",
            "985     teaachgee  ...    NaN\n",
            "9069  kellyblake1  ...    NaN\n",
            "2701      h0ttb0i  ...    NaN\n",
            "...           ...  ...    ...\n",
            "3463     xxrachxx  ...    NaN\n",
            "5031      zooshay  ...    NaN\n",
            "2215    teaachgee  ...    NaN\n",
            "2350    teaachgee  ...    NaN\n",
            "2429  dearalexiis  ...    NaN\n",
            "\n",
            "[800 rows x 14 columns]\n"
          ],
          "name": "stdout"
        }
      ]
    },
    {
      "cell_type": "code",
      "metadata": {
        "id": "kbSU4jA3qjKl"
      },
      "source": [
        "data = pd.concat([_2class_positives, _2class_negatives])"
      ],
      "execution_count": 5,
      "outputs": []
    },
    {
      "cell_type": "markdown",
      "metadata": {
        "id": "QW6Px-R9CgVf"
      },
      "source": [
        "#**Tokenization**\n",
        "\n"
      ]
    },
    {
      "cell_type": "code",
      "metadata": {
        "colab": {
          "base_uri": "https://localhost:8080/"
        },
        "id": "vzQxN-BfCvER",
        "outputId": "5f210730-1a53-4f18-8ee6-2907cc4aab03"
      },
      "source": [
        "import nltk\n",
        "nltk.download('punkt')\n",
        "\n",
        "output_tokenized_post_column = \"tokenized_post\"\n",
        "\n",
        "def tokenization(text):\n",
        "  return nltk.word_tokenize(text)\n",
        "\n",
        "data[output_tokenized_post_column] = data[post_column].apply(tokenization)\n",
        "\n",
        "\n",
        "print(data)\n"
      ],
      "execution_count": 6,
      "outputs": [
        {
          "output_type": "stream",
          "text": [
            "[nltk_data] Downloading package punkt to /root/nltk_data...\n",
            "[nltk_data]   Unzipping tokenizers/punkt.zip.\n",
            "            userid  ...                                     tokenized_post\n",
            "4351    lauraaatxd  ...  [Q, :, (, ., ), (, ., ), boobies, are, my, pas...\n",
            "11585   outlaw9000  ...  [Q, :, Real, outlaw, ?, Nice, (, :, Bad, to, t...\n",
            "9702   lalabitches  ...  [Q, :, peyton, (, ugly, wite, skranyy, hoeish,...\n",
            "4395    lauraaatxd  ...  [Q, :, Did, you, hangout, with, moises, today,...\n",
            "11580   outlaw9000  ...  [Q, :, r, u, a, boy, or, girl, ?, <, br, >, A,...\n",
            "...            ...  ...                                                ...\n",
            "3463      xxrachxx  ...  [Q, :, What, are, you, getting, for, Xmas, :, ...\n",
            "5031       zooshay  ...  [Q, :, Do, you, believe, that, he, or, she, wi...\n",
            "2215     teaachgee  ...  [Q, :, Where, did, you, learn, how, to, drive,...\n",
            "2350     teaachgee  ...  [Q, :, Would, you, ever, want, to, swim, with,...\n",
            "2429   dearalexiis  ...            [Q, :, 809, 9501, <, --, --, Alexis, &]\n",
            "\n",
            "[1600 rows x 15 columns]\n"
          ],
          "name": "stdout"
        }
      ]
    },
    {
      "cell_type": "markdown",
      "metadata": {
        "id": "y31b0l-ZHd4O"
      },
      "source": [
        "# Transform Case"
      ]
    },
    {
      "cell_type": "code",
      "metadata": {
        "colab": {
          "base_uri": "https://localhost:8080/"
        },
        "id": "2L-p4ZfaHf7X",
        "outputId": "7c03b904-72f4-4e4a-e340-86d2b1ab454d"
      },
      "source": [
        "output_lowered_tokenized_post_column = \"lowered_tokenized_post\"\n",
        "\n",
        "\n",
        "def transform_lower_case(column):\n",
        "  lower_cased = []\n",
        "  for text in column:\n",
        "    lower_cased.append(text.lower())\n",
        "  return lower_cased\n",
        "\n",
        "data[output_lowered_tokenized_post_column] = data[output_tokenized_post_column].apply(transform_lower_case)\n",
        "\n",
        "print(data)"
      ],
      "execution_count": 7,
      "outputs": [
        {
          "output_type": "stream",
          "text": [
            "            userid  ...                             lowered_tokenized_post\n",
            "4351    lauraaatxd  ...  [q, :, (, ., ), (, ., ), boobies, are, my, pas...\n",
            "11585   outlaw9000  ...  [q, :, real, outlaw, ?, nice, (, :, bad, to, t...\n",
            "9702   lalabitches  ...  [q, :, peyton, (, ugly, wite, skranyy, hoeish,...\n",
            "4395    lauraaatxd  ...  [q, :, did, you, hangout, with, moises, today,...\n",
            "11580   outlaw9000  ...  [q, :, r, u, a, boy, or, girl, ?, <, br, >, a,...\n",
            "...            ...  ...                                                ...\n",
            "3463      xxrachxx  ...  [q, :, what, are, you, getting, for, xmas, :, ...\n",
            "5031       zooshay  ...  [q, :, do, you, believe, that, he, or, she, wi...\n",
            "2215     teaachgee  ...  [q, :, where, did, you, learn, how, to, drive,...\n",
            "2350     teaachgee  ...  [q, :, would, you, ever, want, to, swim, with,...\n",
            "2429   dearalexiis  ...            [q, :, 809, 9501, <, --, --, alexis, &]\n",
            "\n",
            "[1600 rows x 16 columns]\n"
          ],
          "name": "stdout"
        }
      ]
    },
    {
      "cell_type": "markdown",
      "metadata": {
        "id": "7uG1hW9WJ91_"
      },
      "source": [
        "# Stop Words Removal"
      ]
    },
    {
      "cell_type": "code",
      "metadata": {
        "colab": {
          "base_uri": "https://localhost:8080/"
        },
        "id": "-NkPydStKhYs",
        "outputId": "f327435a-20a7-4f9c-8852-d002184816e7"
      },
      "source": [
        "from nltk.corpus import stopwords\n",
        "nltk.download('stopwords')\n",
        "stopword = stopwords.words(\"english\")\n",
        "\n",
        "output_stop_words_post_column = \"stop_words_lower_tokenized_post\"\n",
        "output_stop_words_question_column= \"stop_words_lower_tokenized_ques\"\n",
        "\n",
        "def stop_words_removal(column):\n",
        "  result = []\n",
        "  ## add more if necessary!\n",
        "  custom_stop_words = [\"?\"]\n",
        "  for text in column:\n",
        "    if text not in stopword + custom_stop_words:\n",
        "      result.append(text)\n",
        "  return result\n",
        "\n",
        "data[output_stop_words_post_column] = data[output_lowered_tokenized_post_column].apply(stop_words_removal)\n",
        "\n",
        "print(data)"
      ],
      "execution_count": 8,
      "outputs": [
        {
          "output_type": "stream",
          "text": [
            "[nltk_data] Downloading package stopwords to /root/nltk_data...\n",
            "[nltk_data]   Unzipping corpora/stopwords.zip.\n",
            "            userid  ...                    stop_words_lower_tokenized_post\n",
            "4351    lauraaatxd  ...  [q, :, (, ., ), (, ., ), boobies, passion, !, ...\n",
            "11585   outlaw9000  ...  [q, :, real, outlaw, nice, (, :, bad, bone, <,...\n",
            "9702   lalabitches  ...  [q, :, peyton, (, ugly, wite, skranyy, hoeish,...\n",
            "4395    lauraaatxd  ...  [q, :, hangout, moises, today, saw, status, sa...\n",
            "11580   outlaw9000  ...          [q, :, r, u, boy, girl, <, br, >, :, man]\n",
            "...            ...  ...                                                ...\n",
            "3463      xxrachxx  ...  [q, :, getting, xmas, :, <, br, >, :, got, ipo...\n",
            "5031       zooshay  ...  [q, :, believe, always, special, place, heart,...\n",
            "2215     teaachgee  ...  [q, :, learn, drive, learned, freeway, lol, pa...\n",
            "2350     teaachgee  ...  [q, :, would, ever, want, swim, sharks, <, br,...\n",
            "2429   dearalexiis  ...            [q, :, 809, 9501, <, --, --, alexis, &]\n",
            "\n",
            "[1600 rows x 17 columns]\n"
          ],
          "name": "stdout"
        }
      ]
    },
    {
      "cell_type": "markdown",
      "metadata": {
        "id": "n9_IczwaL5XX"
      },
      "source": [
        "# Filter Token"
      ]
    },
    {
      "cell_type": "code",
      "metadata": {
        "colab": {
          "base_uri": "https://localhost:8080/"
        },
        "id": "0d9IoiRoL67w",
        "outputId": "abdf1654-2802-488e-d383-793bb43ade3d"
      },
      "source": [
        "output_filtered_post_column = \"filtered_tokenized_post\"\n",
        "\n",
        "def filter_token(column):\n",
        "  result = []\n",
        "  for text in column:\n",
        "    if len(text) >= 3 and len(text) <= 25:\n",
        "      result.append(text)\n",
        "  return result\n",
        "\n",
        "data[output_filtered_post_column] = data[output_stop_words_post_column].apply(filter_token)\n",
        "\n",
        "print(data)"
      ],
      "execution_count": 9,
      "outputs": [
        {
          "output_type": "stream",
          "text": [
            "            userid  ...                            filtered_tokenized_post\n",
            "4351    lauraaatxd  ...                      [boobies, passion, ..., cool]\n",
            "11585   outlaw9000  ...  [real, outlaw, nice, bad, bone, dec, got, jail...\n",
            "9702   lalabitches  ...  [peyton, ugly, wite, skranyy, hoeish, stank, w...\n",
            "4395    lauraaatxd  ...  [hangout, moises, today, saw, status, said, na...\n",
            "11580   outlaw9000  ...                                   [boy, girl, man]\n",
            "...            ...  ...                                                ...\n",
            "3463      xxrachxx  ...  [getting, xmas, got, ipod, ipod, dock, clothes...\n",
            "5031       zooshay  ...  [believe, always, special, place, heart, dont,...\n",
            "2215     teaachgee  ...  [learn, drive, learned, freeway, lol, paranoid...\n",
            "2350     teaachgee  ...  [would, ever, want, swim, sharks, course, sure...\n",
            "2429   dearalexiis  ...                                [809, 9501, alexis]\n",
            "\n",
            "[1600 rows x 18 columns]\n"
          ],
          "name": "stdout"
        }
      ]
    },
    {
      "cell_type": "markdown",
      "metadata": {
        "id": "iu1fy2a5NZ84"
      },
      "source": [
        "# Stemming"
      ]
    },
    {
      "cell_type": "code",
      "metadata": {
        "colab": {
          "base_uri": "https://localhost:8080/"
        },
        "id": "dzHTjIanNb2I",
        "outputId": "fbc6a0e4-204c-478c-c516-2b9935b53287"
      },
      "source": [
        "from nltk.stem import WordNetLemmatizer\n",
        "nltk.download('wordnet')\n",
        "wordnet_lemmatizer = WordNetLemmatizer()\n",
        "#is based on The Porter Stemming Algorithm\n",
        "\n",
        "output_stemmed_post_column = \"stemmed_post\"\n",
        "\n",
        "\n",
        "def stemming_token(column):\n",
        "  result = []\n",
        "  for text in column:\n",
        "    result.append(wordnet_lemmatizer.lemmatize(text))\n",
        "  return result\n",
        "\n",
        "data[output_stemmed_post_column] = data[output_filtered_post_column].apply(stemming_token)\n",
        "\n",
        "print(data)\n",
        "\n"
      ],
      "execution_count": 10,
      "outputs": [
        {
          "output_type": "stream",
          "text": [
            "[nltk_data] Downloading package wordnet to /root/nltk_data...\n",
            "[nltk_data]   Unzipping corpora/wordnet.zip.\n",
            "            userid  ...                                       stemmed_post\n",
            "4351    lauraaatxd  ...                        [booby, passion, ..., cool]\n",
            "11585   outlaw9000  ...  [real, outlaw, nice, bad, bone, dec, got, jail...\n",
            "9702   lalabitches  ...  [peyton, ugly, wite, skranyy, hoeish, stank, w...\n",
            "4395    lauraaatxd  ...  [hangout, moises, today, saw, status, said, na...\n",
            "11580   outlaw9000  ...                                   [boy, girl, man]\n",
            "...            ...  ...                                                ...\n",
            "3463      xxrachxx  ...  [getting, xmas, got, ipod, ipod, dock, clothes...\n",
            "5031       zooshay  ...  [believe, always, special, place, heart, dont,...\n",
            "2215     teaachgee  ...  [learn, drive, learned, freeway, lol, paranoid...\n",
            "2350     teaachgee  ...  [would, ever, want, swim, shark, course, sure,...\n",
            "2429   dearalexiis  ...                                [809, 9501, alexis]\n",
            "\n",
            "[1600 rows x 19 columns]\n"
          ],
          "name": "stdout"
        }
      ]
    },
    {
      "cell_type": "code",
      "metadata": {
        "id": "t7pjiV2PYoTo"
      },
      "source": [
        "data.to_csv('dataclean.csv')"
      ],
      "execution_count": 11,
      "outputs": []
    },
    {
      "cell_type": "markdown",
      "metadata": {
        "id": "oiZsYPc8Dnys"
      },
      "source": [
        "#Fast Text"
      ]
    },
    {
      "cell_type": "code",
      "metadata": {
        "id": "BBRNh1ZL6kW5"
      },
      "source": [
        "import os\n",
        "import pandas as pd\n",
        "from tqdm.auto import tqdm\n",
        "from nltk.tokenize import word_tokenize\n",
        "from gensim.models import FastText"
      ],
      "execution_count": 12,
      "outputs": []
    },
    {
      "cell_type": "markdown",
      "metadata": {
        "id": "7iC5nXZOD0J9"
      },
      "source": [
        "#Prepare Corpus"
      ]
    },
    {
      "cell_type": "code",
      "metadata": {
        "colab": {
          "base_uri": "https://localhost:8080/",
          "height": 715
        },
        "id": "glKRW7Pt65hp",
        "outputId": "32b4e126-e74d-4433-9a11-38a2fb5a328c"
      },
      "source": [
        "df = pd.read_csv(\"dataclean.csv\") \n",
        "df.head()"
      ],
      "execution_count": 13,
      "outputs": [
        {
          "output_type": "execute_result",
          "data": {
            "text/html": [
              "<div>\n",
              "<style scoped>\n",
              "    .dataframe tbody tr th:only-of-type {\n",
              "        vertical-align: middle;\n",
              "    }\n",
              "\n",
              "    .dataframe tbody tr th {\n",
              "        vertical-align: top;\n",
              "    }\n",
              "\n",
              "    .dataframe thead th {\n",
              "        text-align: right;\n",
              "    }\n",
              "</style>\n",
              "<table border=\"1\" class=\"dataframe\">\n",
              "  <thead>\n",
              "    <tr style=\"text-align: right;\">\n",
              "      <th></th>\n",
              "      <th>Unnamed: 0</th>\n",
              "      <th>userid</th>\n",
              "      <th>post</th>\n",
              "      <th>ques</th>\n",
              "      <th>ans</th>\n",
              "      <th>asker</th>\n",
              "      <th>ans1</th>\n",
              "      <th>severity1 LOW</th>\n",
              "      <th>bully1</th>\n",
              "      <th>ans2</th>\n",
              "      <th>severity2 Middle</th>\n",
              "      <th>bully2</th>\n",
              "      <th>ans3</th>\n",
              "      <th>severity3 hight</th>\n",
              "      <th>bully3</th>\n",
              "      <th>tokenized_post</th>\n",
              "      <th>lowered_tokenized_post</th>\n",
              "      <th>stop_words_lower_tokenized_post</th>\n",
              "      <th>filtered_tokenized_post</th>\n",
              "      <th>stemmed_post</th>\n",
              "    </tr>\n",
              "  </thead>\n",
              "  <tbody>\n",
              "    <tr>\n",
              "      <th>0</th>\n",
              "      <td>4351</td>\n",
              "      <td>lauraaatxd</td>\n",
              "      <td>Q: (.) (.) boobies are my passion!&lt;br&gt;A: ... c...</td>\n",
              "      <td>(.) (.) boobies are my passion!</td>\n",
              "      <td>... cool?</td>\n",
              "      <td>None</td>\n",
              "      <td>Yes</td>\n",
              "      <td>6.0</td>\n",
              "      <td>(.) (.) boobies are my passion!</td>\n",
              "      <td>No</td>\n",
              "      <td>0.0</td>\n",
              "      <td>NaN</td>\n",
              "      <td>No</td>\n",
              "      <td>0.0</td>\n",
              "      <td>NaN</td>\n",
              "      <td>['Q', ':', '(', '.', ')', '(', '.', ')', 'boob...</td>\n",
              "      <td>['q', ':', '(', '.', ')', '(', '.', ')', 'boob...</td>\n",
              "      <td>['q', ':', '(', '.', ')', '(', '.', ')', 'boob...</td>\n",
              "      <td>['boobies', 'passion', '...', 'cool']</td>\n",
              "      <td>['booby', 'passion', '...', 'cool']</td>\n",
              "    </tr>\n",
              "    <tr>\n",
              "      <th>1</th>\n",
              "      <td>11585</td>\n",
              "      <td>outlaw9000</td>\n",
              "      <td>Q: Real outlaw? Nice(: Bad to the bone?&lt;br&gt;A: ...</td>\n",
              "      <td>Real outlaw? Nice(: Bad to the bone?</td>\n",
              "      <td>very In Dec I got out of jail after a 6 month ...</td>\n",
              "      <td>None</td>\n",
              "      <td>Yes</td>\n",
              "      <td>3.0</td>\n",
              "      <td>I am still on probation for that shit.</td>\n",
              "      <td>No</td>\n",
              "      <td>0.0</td>\n",
              "      <td>NaN</td>\n",
              "      <td>No</td>\n",
              "      <td>0.0</td>\n",
              "      <td>NaN</td>\n",
              "      <td>['Q', ':', 'Real', 'outlaw', '?', 'Nice', '(',...</td>\n",
              "      <td>['q', ':', 'real', 'outlaw', '?', 'nice', '(',...</td>\n",
              "      <td>['q', ':', 'real', 'outlaw', 'nice', '(', ':',...</td>\n",
              "      <td>['real', 'outlaw', 'nice', 'bad', 'bone', 'dec...</td>\n",
              "      <td>['real', 'outlaw', 'nice', 'bad', 'bone', 'dec...</td>\n",
              "    </tr>\n",
              "    <tr>\n",
              "      <th>2</th>\n",
              "      <td>9702</td>\n",
              "      <td>lalabitches</td>\n",
              "      <td>Q: peyton (ugly wite skranyy hoeish  stank  wa...</td>\n",
              "      <td>peyton (ugly wite skranyy hoeish  stank  wanna...</td>\n",
              "      <td>yup i think i rote this myself lol ahaaa;] and...</td>\n",
              "      <td>None</td>\n",
              "      <td>Yes</td>\n",
              "      <td>8.0</td>\n",
              "      <td>peyton (ugly wite skranyy hoeish stank wannabe...</td>\n",
              "      <td>No</td>\n",
              "      <td>0.0</td>\n",
              "      <td>NaN</td>\n",
              "      <td>No</td>\n",
              "      <td>0.0</td>\n",
              "      <td>NaN</td>\n",
              "      <td>['Q', ':', 'peyton', '(', 'ugly', 'wite', 'skr...</td>\n",
              "      <td>['q', ':', 'peyton', '(', 'ugly', 'wite', 'skr...</td>\n",
              "      <td>['q', ':', 'peyton', '(', 'ugly', 'wite', 'skr...</td>\n",
              "      <td>['peyton', 'ugly', 'wite', 'skranyy', 'hoeish'...</td>\n",
              "      <td>['peyton', 'ugly', 'wite', 'skranyy', 'hoeish'...</td>\n",
              "    </tr>\n",
              "    <tr>\n",
              "      <th>3</th>\n",
              "      <td>4395</td>\n",
              "      <td>lauraaatxd</td>\n",
              "      <td>Q: Did you hangout with moises today  because ...</td>\n",
              "      <td>Did you hangout with moises today  because i s...</td>\n",
              "      <td>yes i did and dont worry about it:)</td>\n",
              "      <td>None</td>\n",
              "      <td>Yes</td>\n",
              "      <td>4.0</td>\n",
              "      <td>Did you hangout with moises today because i sa...</td>\n",
              "      <td>Yes</td>\n",
              "      <td>4.0</td>\n",
              "      <td>your in 7th grade for crying out loud???</td>\n",
              "      <td>No</td>\n",
              "      <td>0.0</td>\n",
              "      <td>NaN</td>\n",
              "      <td>['Q', ':', 'Did', 'you', 'hangout', 'with', 'm...</td>\n",
              "      <td>['q', ':', 'did', 'you', 'hangout', 'with', 'm...</td>\n",
              "      <td>['q', ':', 'hangout', 'moises', 'today', 'saw'...</td>\n",
              "      <td>['hangout', 'moises', 'today', 'saw', 'status'...</td>\n",
              "      <td>['hangout', 'moises', 'today', 'saw', 'status'...</td>\n",
              "    </tr>\n",
              "    <tr>\n",
              "      <th>4</th>\n",
              "      <td>11580</td>\n",
              "      <td>outlaw9000</td>\n",
              "      <td>Q: r u a boy or girl?&lt;br&gt;A: Man</td>\n",
              "      <td>r u a boy or girl?</td>\n",
              "      <td>Man</td>\n",
              "      <td>None</td>\n",
              "      <td>Yes</td>\n",
              "      <td>4.0</td>\n",
              "      <td>are u a boy or girl</td>\n",
              "      <td>No</td>\n",
              "      <td>0.0</td>\n",
              "      <td>NaN</td>\n",
              "      <td>No</td>\n",
              "      <td>0.0</td>\n",
              "      <td>NaN</td>\n",
              "      <td>['Q', ':', 'r', 'u', 'a', 'boy', 'or', 'girl',...</td>\n",
              "      <td>['q', ':', 'r', 'u', 'a', 'boy', 'or', 'girl',...</td>\n",
              "      <td>['q', ':', 'r', 'u', 'boy', 'girl', '&lt;', 'br',...</td>\n",
              "      <td>['boy', 'girl', 'man']</td>\n",
              "      <td>['boy', 'girl', 'man']</td>\n",
              "    </tr>\n",
              "  </tbody>\n",
              "</table>\n",
              "</div>"
            ],
            "text/plain": [
              "   Unnamed: 0  ...                                       stemmed_post\n",
              "0        4351  ...                ['booby', 'passion', '...', 'cool']\n",
              "1       11585  ...  ['real', 'outlaw', 'nice', 'bad', 'bone', 'dec...\n",
              "2        9702  ...  ['peyton', 'ugly', 'wite', 'skranyy', 'hoeish'...\n",
              "3        4395  ...  ['hangout', 'moises', 'today', 'saw', 'status'...\n",
              "4       11580  ...                             ['boy', 'girl', 'man']\n",
              "\n",
              "[5 rows x 20 columns]"
            ]
          },
          "metadata": {
            "tags": []
          },
          "execution_count": 13
        }
      ]
    },
    {
      "cell_type": "code",
      "metadata": {
        "colab": {
          "base_uri": "https://localhost:8080/",
          "height": 1000,
          "referenced_widgets": [
            "9d199a627a3a418a9f37ab227da14e80",
            "163c12cc903348b68756c3b2005d5b12",
            "b18400fb1e644a34af5bb7c9a862523c",
            "82d5d402eff0475797f61d96931e669a",
            "81d051b85e7b4946b5ec3a8ce29b888e",
            "e3c09a7e31b54464b358d5c8225f2377",
            "4b8ae7c7097c40249fc8a73e9a6d847c",
            "739d11d7d1b1468fb33033f93e99b814"
          ]
        },
        "id": "GOrGLS8-6_Ac",
        "outputId": "a37da894-21e4-4256-b2f5-33e1d0b885f3"
      },
      "source": [
        "sentences = [word_tokenize(review.lower()) for review in tqdm(df.post)]\n",
        "sentences[:6]"
      ],
      "execution_count": 14,
      "outputs": [
        {
          "output_type": "display_data",
          "data": {
            "application/vnd.jupyter.widget-view+json": {
              "model_id": "9d199a627a3a418a9f37ab227da14e80",
              "version_minor": 0,
              "version_major": 2
            },
            "text/plain": [
              "HBox(children=(FloatProgress(value=0.0, max=1600.0), HTML(value='')))"
            ]
          },
          "metadata": {
            "tags": []
          }
        },
        {
          "output_type": "stream",
          "text": [
            "\n"
          ],
          "name": "stdout"
        },
        {
          "output_type": "execute_result",
          "data": {
            "text/plain": [
              "[['q',\n",
              "  ':',\n",
              "  '(',\n",
              "  '.',\n",
              "  ')',\n",
              "  '(',\n",
              "  '.',\n",
              "  ')',\n",
              "  'boobies',\n",
              "  'are',\n",
              "  'my',\n",
              "  'passion',\n",
              "  '!',\n",
              "  '<',\n",
              "  'br',\n",
              "  '>',\n",
              "  'a',\n",
              "  ':',\n",
              "  '...',\n",
              "  'cool',\n",
              "  '?'],\n",
              " ['q',\n",
              "  ':',\n",
              "  'real',\n",
              "  'outlaw',\n",
              "  '?',\n",
              "  'nice',\n",
              "  '(',\n",
              "  ':',\n",
              "  'bad',\n",
              "  'to',\n",
              "  'the',\n",
              "  'bone',\n",
              "  '?',\n",
              "  '<',\n",
              "  'br',\n",
              "  '>',\n",
              "  'a',\n",
              "  ':',\n",
              "  'very',\n",
              "  'in',\n",
              "  'dec',\n",
              "  'i',\n",
              "  'got',\n",
              "  'out',\n",
              "  'of',\n",
              "  'jail',\n",
              "  'after',\n",
              "  'a',\n",
              "  '6',\n",
              "  'month',\n",
              "  'sentence',\n",
              "  '.',\n",
              "  'i',\n",
              "  'am',\n",
              "  'still',\n",
              "  'on',\n",
              "  'probation',\n",
              "  'for',\n",
              "  'that',\n",
              "  'shit',\n",
              "  '.',\n",
              "  'lol'],\n",
              " ['q',\n",
              "  ':',\n",
              "  'peyton',\n",
              "  '(',\n",
              "  'ugly',\n",
              "  'wite',\n",
              "  'skranyy',\n",
              "  'hoeish',\n",
              "  'stank',\n",
              "  'wannabe',\n",
              "  'kassie',\n",
              "  ')',\n",
              "  'is',\n",
              "  'fake',\n",
              "  'azz',\n",
              "  'hell.',\n",
              "  '<',\n",
              "  'br',\n",
              "  '>',\n",
              "  'a',\n",
              "  ':',\n",
              "  'yup',\n",
              "  'i',\n",
              "  'think',\n",
              "  'i',\n",
              "  'rote',\n",
              "  'this',\n",
              "  'myself',\n",
              "  'lol',\n",
              "  'ahaaa',\n",
              "  ';',\n",
              "  ']',\n",
              "  'and',\n",
              "  'yess',\n",
              "  'ppl',\n",
              "  'she',\n",
              "  'is',\n",
              "  '.'],\n",
              " ['q',\n",
              "  ':',\n",
              "  'did',\n",
              "  'you',\n",
              "  'hangout',\n",
              "  'with',\n",
              "  'moises',\n",
              "  'today',\n",
              "  'because',\n",
              "  'i',\n",
              "  'saw',\n",
              "  'his',\n",
              "  'status',\n",
              "  'and',\n",
              "  'it',\n",
              "  'said',\n",
              "  'your',\n",
              "  'name',\n",
              "  '?',\n",
              "  '?',\n",
              "  'and',\n",
              "  'if',\n",
              "  'you',\n",
              "  'did',\n",
              "  'how',\n",
              "  'do',\n",
              "  'you',\n",
              "  'even',\n",
              "  'know',\n",
              "  'him',\n",
              "  'like',\n",
              "  'your',\n",
              "  'in',\n",
              "  '7th',\n",
              "  'grade',\n",
              "  'for',\n",
              "  'crying',\n",
              "  'out',\n",
              "  'loud',\n",
              "  '?',\n",
              "  '?',\n",
              "  '?',\n",
              "  '<',\n",
              "  'br',\n",
              "  '>',\n",
              "  'a',\n",
              "  ':',\n",
              "  'yes',\n",
              "  'i',\n",
              "  'did',\n",
              "  'and',\n",
              "  'dont',\n",
              "  'worry',\n",
              "  'about',\n",
              "  'it',\n",
              "  ':',\n",
              "  ')'],\n",
              " ['q',\n",
              "  ':',\n",
              "  'r',\n",
              "  'u',\n",
              "  'a',\n",
              "  'boy',\n",
              "  'or',\n",
              "  'girl',\n",
              "  '?',\n",
              "  '<',\n",
              "  'br',\n",
              "  '>',\n",
              "  'a',\n",
              "  ':',\n",
              "  'man'],\n",
              " ['q',\n",
              "  ':',\n",
              "  ':',\n",
              "  ']',\n",
              "  'im',\n",
              "  'sorry',\n",
              "  'im',\n",
              "  'not',\n",
              "  'the',\n",
              "  'one',\n",
              "  'being',\n",
              "  'a',\n",
              "  'fake',\n",
              "  'of',\n",
              "  'some',\n",
              "  'lady',\n",
              "  'lol',\n",
              "  'comeon',\n",
              "  'now',\n",
              "  '>',\n",
              "  '.',\n",
              "  '>',\n",
              "  'be',\n",
              "  'your',\n",
              "  'damn',\n",
              "  'self',\n",
              "  '(',\n",
              "  ':',\n",
              "  'and',\n",
              "  'im',\n",
              "  'not',\n",
              "  'fucking',\n",
              "  'mental',\n",
              "  'i',\n",
              "  'know',\n",
              "  'what',\n",
              "  'js',\n",
              "  'means',\n",
              "  '.',\n",
              "  'i',\n",
              "  'think',\n",
              "  'you',\n",
              "  'need',\n",
              "  'to',\n",
              "  'stfu',\n",
              "  'and',\n",
              "  'get',\n",
              "  'a',\n",
              "  'damn',\n",
              "  'life',\n",
              "  'instead',\n",
              "  'of',\n",
              "  'beng',\n",
              "  'on',\n",
              "  'here',\n",
              "  'and',\n",
              "  'faking',\n",
              "  'some',\n",
              "  'girl',\n",
              "  ';',\n",
              "  'btw',\n",
              "  'nice',\n",
              "  'comeback',\n",
              "  '!',\n",
              "  '<',\n",
              "  'br',\n",
              "  '>',\n",
              "  'a',\n",
              "  ':',\n",
              "  'i',\n",
              "  'didn',\n",
              "  ';',\n",
              "  't',\n",
              "  'say',\n",
              "  'you',\n",
              "  'were',\n",
              "  'mental',\n",
              "  'i',\n",
              "  'put',\n",
              "  'that',\n",
              "  'because',\n",
              "  'some',\n",
              "  'people',\n",
              "  'do',\n",
              "  \"n't\",\n",
              "  'what',\n",
              "  'means',\n",
              "  'duh',\n",
              "  '.',\n",
              "  'your',\n",
              "  'comebacks',\n",
              "  'suck',\n",
              "  'too']]"
            ]
          },
          "metadata": {
            "tags": []
          },
          "execution_count": 14
        }
      ]
    },
    {
      "cell_type": "markdown",
      "metadata": {
        "id": "9k5q8fHkEVo5"
      },
      "source": [
        "#TRAINING MODEL FAST TEXT"
      ]
    },
    {
      "cell_type": "code",
      "metadata": {
        "id": "Cbm9W2_A79o6"
      },
      "source": [
        "model= FastText(sentences, size=128, window=5, min_count=1, workers=4, iter=1000, sg=0, hs=0)"
      ],
      "execution_count": 15,
      "outputs": []
    },
    {
      "cell_type": "code",
      "metadata": {
        "id": "YK-gZb7B8TJG"
      },
      "source": [
        "os.makedirs(\"model/fasttext/\", exist_ok=True)"
      ],
      "execution_count": 16,
      "outputs": []
    },
    {
      "cell_type": "markdown",
      "metadata": {
        "id": "yrMrNGRIEczC"
      },
      "source": [
        "#Save"
      ]
    },
    {
      "cell_type": "code",
      "metadata": {
        "id": "xV0PMqAL8WgR"
      },
      "source": [
        "model.save(\"model/fasttext/cyberbullying.fasttext\")"
      ],
      "execution_count": 17,
      "outputs": []
    },
    {
      "cell_type": "markdown",
      "metadata": {
        "id": "Jgf_w8ThEvcO"
      },
      "source": [
        "#Load"
      ]
    },
    {
      "cell_type": "code",
      "metadata": {
        "id": "t66OeGIL8s1E"
      },
      "source": [
        "model = FastText.load(\"model/fasttext/cyberbullying.fasttext\")"
      ],
      "execution_count": 18,
      "outputs": []
    },
    {
      "cell_type": "code",
      "metadata": {
        "id": "5LtZok5f87i7"
      },
      "source": [
        "w2v = model.wv "
      ],
      "execution_count": 19,
      "outputs": []
    },
    {
      "cell_type": "code",
      "metadata": {
        "colab": {
          "base_uri": "https://localhost:8080/"
        },
        "id": "Q5rygXOL9I1L",
        "outputId": "2f9a6274-a273-4c64-b484-434c6ed01deb"
      },
      "source": [
        "w2v.index2word"
      ],
      "execution_count": 20,
      "outputs": [
        {
          "output_type": "execute_result",
          "data": {
            "text/plain": [
              "[':',\n",
              " 'a',\n",
              " '?',\n",
              " '<',\n",
              " 'q',\n",
              " 'you',\n",
              " '>',\n",
              " 'br',\n",
              " 'i',\n",
              " '!',\n",
              " '.',\n",
              " 'to',\n",
              " 'the',\n",
              " 'and',\n",
              " 'do',\n",
              " 'your',\n",
              " 'it',\n",
              " ')',\n",
              " 'is',\n",
              " ';',\n",
              " 'what',\n",
              " 'in',\n",
              " 'that',\n",
              " 'are',\n",
              " 'my',\n",
              " 'have',\n",
              " 'of',\n",
              " '&',\n",
              " 'me',\n",
              " 'lol',\n",
              " 'u',\n",
              " 'not',\n",
              " 'if',\n",
              " 'like',\n",
              " 'would',\n",
              " 'on',\n",
              " 'so',\n",
              " 'but',\n",
              " 'for',\n",
              " '...',\n",
              " 'with',\n",
              " 'be',\n",
              " 'or',\n",
              " '(',\n",
              " 'know',\n",
              " 'why',\n",
              " 'think',\n",
              " 'no',\n",
              " 'how',\n",
              " 'was',\n",
              " 'im',\n",
              " \"n't\",\n",
              " 'just',\n",
              " 'who',\n",
              " 'love',\n",
              " 'd',\n",
              " 'all',\n",
              " 'when',\n",
              " 'can',\n",
              " 'fake',\n",
              " 'one',\n",
              " 'get',\n",
              " 'as',\n",
              " 'want',\n",
              " 'r',\n",
              " 'dont',\n",
              " 'ever',\n",
              " 'about',\n",
              " '..',\n",
              " 'really',\n",
              " 'yes',\n",
              " 'apos',\n",
              " '@',\n",
              " 'at',\n",
              " 'they',\n",
              " 'this',\n",
              " 'up',\n",
              " 'did',\n",
              " 'its',\n",
              " 'she',\n",
              " 'people',\n",
              " 'out',\n",
              " 'had',\n",
              " 'quot',\n",
              " 'lmao',\n",
              " 'too',\n",
              " 'ur',\n",
              " 'am',\n",
              " 'we',\n",
              " 'time',\n",
              " 'go',\n",
              " 'does',\n",
              " '3',\n",
              " 'were',\n",
              " 'then',\n",
              " 'will',\n",
              " 'there',\n",
              " 'say',\n",
              " \"'s\",\n",
              " 'much',\n",
              " 'thats',\n",
              " ']',\n",
              " 'well',\n",
              " 'them',\n",
              " 'an',\n",
              " 'life',\n",
              " 'tell',\n",
              " 'thing',\n",
              " 'back',\n",
              " 'got',\n",
              " 'now',\n",
              " 'going',\n",
              " 'person',\n",
              " 'last',\n",
              " 'bitch',\n",
              " 'from',\n",
              " 'shit',\n",
              " 'p',\n",
              " 'where',\n",
              " 'talk',\n",
              " 'any',\n",
              " 'been',\n",
              " 'he',\n",
              " '$',\n",
              " 'fuck',\n",
              " 'someone',\n",
              " 'could',\n",
              " 'her',\n",
              " 'yeah',\n",
              " 'look',\n",
              " 'see',\n",
              " 'good',\n",
              " 'make',\n",
              " 'never',\n",
              " 'more',\n",
              " 'because',\n",
              " 'name',\n",
              " 'some',\n",
              " 'should',\n",
              " 'ok',\n",
              " 'sex',\n",
              " 'way',\n",
              " 'bad',\n",
              " 'm',\n",
              " 'yourself',\n",
              " 'ass',\n",
              " 'only',\n",
              " 'mean',\n",
              " 'here',\n",
              " 'most',\n",
              " 'even',\n",
              " '=',\n",
              " 'has',\n",
              " 'amp',\n",
              " 'told',\n",
              " 'than',\n",
              " 'many',\n",
              " 'nice',\n",
              " 'ugly',\n",
              " 'maybe',\n",
              " 'still',\n",
              " 'him',\n",
              " 'something',\n",
              " 'soo',\n",
              " 'wtf',\n",
              " 'oh',\n",
              " 'need',\n",
              " 'over',\n",
              " 'ask',\n",
              " 'sure',\n",
              " 'call',\n",
              " 'off',\n",
              " 'better',\n",
              " 'hey',\n",
              " 'girl',\n",
              " 't',\n",
              " 'please',\n",
              " 'girls',\n",
              " 'give',\n",
              " 'things',\n",
              " 'old',\n",
              " 'though',\n",
              " \"'m\",\n",
              " 'little',\n",
              " 'questions',\n",
              " 'xd',\n",
              " 'thanks',\n",
              " 'right',\n",
              " 'being',\n",
              " 'thank',\n",
              " 'first',\n",
              " 'n',\n",
              " 'wish',\n",
              " 'by',\n",
              " 'sorry',\n",
              " 'fucking',\n",
              " 'friends',\n",
              " 'okay',\n",
              " '-',\n",
              " 'doing',\n",
              " 's',\n",
              " 'na',\n",
              " 'away',\n",
              " 'those',\n",
              " 'yew',\n",
              " 'baby',\n",
              " 'take',\n",
              " 'everything',\n",
              " 'said',\n",
              " 'best',\n",
              " 'anything',\n",
              " 'try',\n",
              " 'eat',\n",
              " 'nope',\n",
              " 'don',\n",
              " 'stuff',\n",
              " 'idk',\n",
              " 'school',\n",
              " 'keep',\n",
              " 'nd',\n",
              " 'their',\n",
              " 'world',\n",
              " 'actually',\n",
              " 'today',\n",
              " 'spam',\n",
              " 'buy',\n",
              " 'wow',\n",
              " 'guys',\n",
              " 'asking',\n",
              " 'work',\n",
              " 'hate',\n",
              " 'everyone',\n",
              " 'always',\n",
              " 'damn',\n",
              " 'watch',\n",
              " 'done',\n",
              " 'same',\n",
              " 'l',\n",
              " 'friend',\n",
              " 'talking',\n",
              " 'stop',\n",
              " 'favorite',\n",
              " 'our',\n",
              " 'other',\n",
              " 'hoe',\n",
              " 'care',\n",
              " 'gay',\n",
              " 'big',\n",
              " 'day',\n",
              " 'feel',\n",
              " 'which',\n",
              " 'cool',\n",
              " 'real',\n",
              " 'let',\n",
              " 'youu',\n",
              " 'answer',\n",
              " 'probably',\n",
              " 'cum',\n",
              " 'wat',\n",
              " 'dick',\n",
              " 'whats',\n",
              " 'dad',\n",
              " 'long',\n",
              " 'night',\n",
              " 'face',\n",
              " 'might',\n",
              " 'live',\n",
              " 'again',\n",
              " 'ya',\n",
              " 'hard',\n",
              " 'down',\n",
              " 'play',\n",
              " 'fun',\n",
              " 'question',\n",
              " 'believe',\n",
              " 'man',\n",
              " 'leave',\n",
              " 'ill',\n",
              " \"'re\",\n",
              " 'pretty',\n",
              " 'huh',\n",
              " 'anyone',\n",
              " 'eyes',\n",
              " 'hair',\n",
              " 'http',\n",
              " 'thought',\n",
              " 'before',\n",
              " 'o_o',\n",
              " 'miss',\n",
              " '/',\n",
              " 'god',\n",
              " 'yo',\n",
              " 'o',\n",
              " 'wan',\n",
              " 'often',\n",
              " 'cause',\n",
              " 'around',\n",
              " 'omg',\n",
              " 'smoke',\n",
              " 'come',\n",
              " 'myself',\n",
              " 'seen',\n",
              " 'word',\n",
              " 'weird',\n",
              " 'both',\n",
              " 'texas',\n",
              " 'since',\n",
              " 'hot',\n",
              " 'parents',\n",
              " 'ahh',\n",
              " 'house',\n",
              " 'beautiful',\n",
              " 'cant',\n",
              " 'honestly',\n",
              " 'rather',\n",
              " 'made',\n",
              " 'course',\n",
              " 'kind',\n",
              " 'very',\n",
              " 'after',\n",
              " 'means',\n",
              " 'put',\n",
              " 'suck',\n",
              " 'mad',\n",
              " 'doesnt',\n",
              " 'anymore',\n",
              " 'own',\n",
              " 'bet',\n",
              " 'find',\n",
              " 'die',\n",
              " \"'ll\",\n",
              " 'opinion',\n",
              " 'mi',\n",
              " 'k',\n",
              " 'ha',\n",
              " 'formspring',\n",
              " '33',\n",
              " 'saying',\n",
              " 'btw',\n",
              " 'cure',\n",
              " 'dirty',\n",
              " 'heard',\n",
              " 'state',\n",
              " 'hah',\n",
              " 'slut',\n",
              " 'shes',\n",
              " 'u2665',\n",
              " 'hope',\n",
              " 'porn',\n",
              " \"'d\",\n",
              " 'll',\n",
              " 'bed',\n",
              " 'laura',\n",
              " 'anonymous',\n",
              " 'age',\n",
              " 'drink',\n",
              " 'morning',\n",
              " 'else',\n",
              " 'wrong',\n",
              " 'cuz',\n",
              " 'alot',\n",
              " 'x',\n",
              " 'kids',\n",
              " 'men',\n",
              " 'yuh',\n",
              " '10',\n",
              " '[',\n",
              " 'ate',\n",
              " 'show',\n",
              " 'movie',\n",
              " 'nothing',\n",
              " 'yep',\n",
              " 'every',\n",
              " 'great',\n",
              " 'havent',\n",
              " 'wit',\n",
              " 'nigga',\n",
              " 'mom',\n",
              " 'haha',\n",
              " 'sweet',\n",
              " 'song',\n",
              " 'didnt',\n",
              " 'makes',\n",
              " 'outlaw',\n",
              " 'into',\n",
              " 'picture',\n",
              " 'less',\n",
              " 'change',\n",
              " 'times',\n",
              " 'home',\n",
              " 'mind',\n",
              " 'nun',\n",
              " 'ull',\n",
              " 'cute',\n",
              " 'tired',\n",
              " 'deep',\n",
              " 'touch',\n",
              " 'married',\n",
              " 'dork',\n",
              " 'wear',\n",
              " 'relationship',\n",
              " 'c',\n",
              " 'chance',\n",
              " 'year',\n",
              " 'date',\n",
              " 'aww',\n",
              " '2',\n",
              " 'comes',\n",
              " 'sense',\n",
              " 'lot',\n",
              " 'money',\n",
              " 'family',\n",
              " 'walk',\n",
              " 'saw',\n",
              " 'grade',\n",
              " 'lady',\n",
              " 'share',\n",
              " 'dat',\n",
              " 'throw',\n",
              " 'hugs',\n",
              " 'depends',\n",
              " 'gon',\n",
              " 'post',\n",
              " 'plane',\n",
              " 'working',\n",
              " 'kick',\n",
              " 'describe',\n",
              " 'lying',\n",
              " 'thinking',\n",
              " 'type',\n",
              " 'while',\n",
              " 'm3',\n",
              " 'these',\n",
              " 'lmfao',\n",
              " 'nah',\n",
              " 'amm',\n",
              " 'ca',\n",
              " 'smell',\n",
              " 'kum',\n",
              " 'far',\n",
              " 'knows',\n",
              " 'fuckin',\n",
              " 'soon',\n",
              " 'sometimes',\n",
              " 'use',\n",
              " 'hes',\n",
              " 'kelly',\n",
              " 'jail',\n",
              " 'his',\n",
              " 'choice',\n",
              " 'looks',\n",
              " 'freak',\n",
              " 'sexual',\n",
              " 'yours',\n",
              " 'gone',\n",
              " 'movies',\n",
              " 'fool',\n",
              " 'once',\n",
              " 'guy',\n",
              " 'getting',\n",
              " 'lolss',\n",
              " 'says',\n",
              " 'bar',\n",
              " 'such',\n",
              " 'full',\n",
              " 'pink',\n",
              " 'agree',\n",
              " 'guess',\n",
              " 'wake',\n",
              " 'stupid',\n",
              " 'alex',\n",
              " 'older',\n",
              " 'wont',\n",
              " 'cheat',\n",
              " 'sexy',\n",
              " \"'ve\",\n",
              " 'wait',\n",
              " 'myspace',\n",
              " 'asked',\n",
              " 'two',\n",
              " 'read',\n",
              " 'id',\n",
              " 'teachers',\n",
              " 'chill',\n",
              " 'kill',\n",
              " 'fall',\n",
              " 'havee',\n",
              " 'start',\n",
              " 'flirt',\n",
              " 'shower',\n",
              " 'ily',\n",
              " 'certain',\n",
              " 'qq',\n",
              " 'pu',\n",
              " 'juz',\n",
              " 'massage',\n",
              " 'yuu',\n",
              " 'shoul',\n",
              " 'ree',\n",
              " 'went',\n",
              " 'open',\n",
              " 'drunk',\n",
              " 'lil',\n",
              " 'hunger',\n",
              " 'may',\n",
              " 'opposite',\n",
              " 'taste',\n",
              " 'already',\n",
              " 'crazy',\n",
              " 'couple',\n",
              " 'ta',\n",
              " 'friggin',\n",
              " 'balls',\n",
              " 'step',\n",
              " 'funny',\n",
              " 'hating',\n",
              " 'children',\n",
              " 'cheated',\n",
              " 'least',\n",
              " 'yu',\n",
              " 'different',\n",
              " 're',\n",
              " 'lie',\n",
              " 'used',\n",
              " 'together',\n",
              " 'high',\n",
              " 'spamming',\n",
              " 'meet',\n",
              " 'sister',\n",
              " 'reason',\n",
              " 'break',\n",
              " 'wud',\n",
              " 'shay',\n",
              " 'alcoholic',\n",
              " 'send',\n",
              " 'random',\n",
              " 'hmm',\n",
              " 'end',\n",
              " 'bye',\n",
              " 'yeh',\n",
              " 'lunch',\n",
              " 'sleep',\n",
              " 'choose',\n",
              " 'yea',\n",
              " 'phone',\n",
              " 'hmmm',\n",
              " 'remember',\n",
              " '6',\n",
              " 'ppl',\n",
              " 'self',\n",
              " 'mental',\n",
              " 'sound',\n",
              " 'telling',\n",
              " 'monster',\n",
              " 'hollywood',\n",
              " 'ticket',\n",
              " 'drty',\n",
              " 'pics',\n",
              " 'especially',\n",
              " 'vergin',\n",
              " 'daniela',\n",
              " 'appearance',\n",
              " 'inside',\n",
              " 'enough',\n",
              " 'maturbated',\n",
              " 'came',\n",
              " 'daughter',\n",
              " 'sleeping',\n",
              " '+',\n",
              " 'blow',\n",
              " 'alright',\n",
              " 'body',\n",
              " 'jus',\n",
              " 'cares',\n",
              " 'ummm',\n",
              " 'nopee',\n",
              " 'outside',\n",
              " 'dumb',\n",
              " 'genie',\n",
              " 'disappear..',\n",
              " 'hurry..tell',\n",
              " 'hi',\n",
              " 'bout',\n",
              " 'known',\n",
              " 'seriously',\n",
              " 'door',\n",
              " '4',\n",
              " 'seem',\n",
              " 'obvious',\n",
              " 'hello',\n",
              " 'sam',\n",
              " 'idnt',\n",
              " 'boo',\n",
              " 'alone',\n",
              " 'austin',\n",
              " 'gives',\n",
              " 'death',\n",
              " 'beat',\n",
              " 'ready',\n",
              " 'bit',\n",
              " 'tv',\n",
              " 'paper',\n",
              " 'won',\n",
              " 'robert',\n",
              " 'blue',\n",
              " 'slept',\n",
              " 'next',\n",
              " '=/',\n",
              " 'place',\n",
              " 'thoughts',\n",
              " 'having',\n",
              " 'red',\n",
              " 'watching',\n",
              " 'style',\n",
              " 'trying',\n",
              " \"'\",\n",
              " 'happy',\n",
              " 'gaga',\n",
              " 'spend',\n",
              " '=dd',\n",
              " 'gorgeous',\n",
              " 'bone',\n",
              " 'month',\n",
              " 'boy',\n",
              " 'stfu',\n",
              " 'duh',\n",
              " 'jewish',\n",
              " 'story',\n",
              " 'human',\n",
              " 'fine',\n",
              " 'starlet',\n",
              " 'paris',\n",
              " 'hilton',\n",
              " 'okies',\n",
              " 'rug-muncher',\n",
              " 'wonder.lol',\n",
              " 'herd',\n",
              " 'idaho',\n",
              " 'corn',\n",
              " 'internet',\n",
              " 'longer',\n",
              " 'france',\n",
              " 'eva',\n",
              " 'head',\n",
              " 'fucken',\n",
              " 'anonymouser',\n",
              " 'tattoos',\n",
              " 'pussy',\n",
              " 'looking',\n",
              " 'ipod',\n",
              " 'pet',\n",
              " 'zzy',\n",
              " 'blind',\n",
              " 'mikey',\n",
              " 'wassup',\n",
              " 'niggah',\n",
              " 'jooking',\n",
              " 'viben',\n",
              " 'faggot',\n",
              " 'set',\n",
              " 'victor',\n",
              " 'tree',\n",
              " 'wunt',\n",
              " 'ohkay',\n",
              " 'silly',\n",
              " 'second',\n",
              " 'bf/gf',\n",
              " 'following',\n",
              " 'knew',\n",
              " 'control',\n",
              " 'past',\n",
              " 'canu2019t',\n",
              " 'closed',\n",
              " 'breath',\n",
              " 'mess',\n",
              " 'remind',\n",
              " 'naked',\n",
              " 'female',\n",
              " 'top',\n",
              " 'yhu',\n",
              " 'qwestion',\n",
              " 'dayyum',\n",
              " 'diz',\n",
              " 'skins',\n",
              " 'dead',\n",
              " 'obsessed',\n",
              " 'block',\n",
              " 'dueces',\n",
              " 'hell',\n",
              " 'animals',\n",
              " 'free',\n",
              " 'zz',\n",
              " 'doo',\n",
              " 'yall',\n",
              " 'wen',\n",
              " 'lesbian',\n",
              " 'ad',\n",
              " 'bra',\n",
              " 'boobs',\n",
              " 'dnt',\n",
              " 'move',\n",
              " 'milk',\n",
              " 'babe',\n",
              " 'witt',\n",
              " 'y',\n",
              " 'fs',\n",
              " 'hour',\n",
              " 'yhur',\n",
              " 'wo',\n",
              " 'me..',\n",
              " 'driving',\n",
              " 'ima',\n",
              " 'car',\n",
              " 'not..',\n",
              " 'food',\n",
              " 'clarissa',\n",
              " 'dingo',\n",
              " 'kid',\n",
              " 'online',\n",
              " 'gum',\n",
              " '479',\n",
              " 'pay',\n",
              " 'either',\n",
              " 'facebook',\n",
              " 'pants',\n",
              " 'dinner',\n",
              " 'write',\n",
              " 'wanted',\n",
              " 'hurt',\n",
              " 'mine',\n",
              " 'hold',\n",
              " 'loved',\n",
              " 'usually',\n",
              " 'us',\n",
              " 'beach',\n",
              " '--',\n",
              " 'another',\n",
              " '*-*',\n",
              " 'dec',\n",
              " 'sentence',\n",
              " 'probation',\n",
              " 'yup',\n",
              " 'instead',\n",
              " 'comebacks',\n",
              " 'band',\n",
              " 'weirdest',\n",
              " 'teacher',\n",
              " 'lmao.',\n",
              " 'err',\n",
              " 'nahh',\n",
              " 'demi',\n",
              " '1',\n",
              " 'rape',\n",
              " 'homie',\n",
              " 'speak',\n",
              " 'gmac',\n",
              " '=d',\n",
              " '8th',\n",
              " 'run',\n",
              " 'bought',\n",
              " 'arrested',\n",
              " 'vvv',\n",
              " '-p',\n",
              " 'totally',\n",
              " 'piece',\n",
              " 'tho',\n",
              " 'happen',\n",
              " 'born',\n",
              " 'stalker',\n",
              " 'pee',\n",
              " 'woke',\n",
              " 'lick',\n",
              " 'job',\n",
              " 'yet',\n",
              " 'stalkers',\n",
              " 'true',\n",
              " 'lipsz.',\n",
              " 'wubbbbb',\n",
              " 'wea',\n",
              " 'soooo',\n",
              " 'butt',\n",
              " 'brah',\n",
              " 'account',\n",
              " 'master',\n",
              " 'flying',\n",
              " 'moments',\n",
              " 'school/at',\n",
              " 'sleepy',\n",
              " 'fluttering',\n",
              " 'manage',\n",
              " 'awake',\n",
              " 'able',\n",
              " 'others',\n",
              " 'broken',\n",
              " 'michaela',\n",
              " 'isnt',\n",
              " 'den',\n",
              " 'biggest',\n",
              " 'jk',\n",
              " 'interest',\n",
              " 'kno',\n",
              " 'penis',\n",
              " 'makeup',\n",
              " 'yor',\n",
              " 'sisters',\n",
              " 'juss',\n",
              " 'apart',\n",
              " 'mmmmmmmmawwwu',\n",
              " 'ooo',\n",
              " '0rq',\n",
              " '0ff',\n",
              " 'h',\n",
              " 'r+',\n",
              " 'hump',\n",
              " 'nq',\n",
              " 'b3d',\n",
              " 's0m3',\n",
              " '0u+',\n",
              " 'act',\n",
              " 'bring',\n",
              " 'iloveyousomuch',\n",
              " '0',\n",
              " 'pic',\n",
              " 'feeling',\n",
              " '15',\n",
              " 'cunt',\n",
              " 'dude',\n",
              " 'names',\n",
              " 'lovely',\n",
              " 'lesbain',\n",
              " 'hahahhaaaa',\n",
              " 'omggggz',\n",
              " 'toilet',\n",
              " 'nahhhhhht',\n",
              " 'shut',\n",
              " 'cheese',\n",
              " 'dollars',\n",
              " 'cheyenne',\n",
              " 'ive',\n",
              " 'nickname',\n",
              " 'must',\n",
              " 'lolr',\n",
              " 'neither',\n",
              " 'banana',\n",
              " 'fruit',\n",
              " 'rate',\n",
              " 'scale',\n",
              " 'v3',\n",
              " 'annoying',\n",
              " 'half',\n",
              " 'proof',\n",
              " 'quit',\n",
              " 'yhuuu',\n",
              " 'saturdayy',\n",
              " 'happen..',\n",
              " 'bitchessss',\n",
              " 'mouth',\n",
              " 'stand',\n",
              " '..i',\n",
              " 'addicts',\n",
              " 'using',\n",
              " 'worst',\n",
              " 'fakes',\n",
              " 'bxtch',\n",
              " 'virgin',\n",
              " 'through',\n",
              " 'behind',\n",
              " 'idea',\n",
              " 'g',\n",
              " 'round',\n",
              " 'awww',\n",
              " 'moment',\n",
              " 'fan',\n",
              " 'matter',\n",
              " 'happened',\n",
              " 'example',\n",
              " 'words',\n",
              " 'stay',\n",
              " 'treat',\n",
              " 'mood',\n",
              " 'perfect',\n",
              " 'few',\n",
              " 'lucky',\n",
              " 'coming',\n",
              " 'anyway',\n",
              " 'taken',\n",
              " 'hear',\n",
              " 'prefer',\n",
              " 'killed',\n",
              " 'meant',\n",
              " 'public',\n",
              " 'favourite',\n",
              " 'clothing',\n",
              " 'trebla',\n",
              " 'tonight',\n",
              " 'years',\n",
              " 'new',\n",
              " 'awesome',\n",
              " 'forever',\n",
              " 'oil',\n",
              " 'forgive',\n",
              " 'forget',\n",
              " 'asleep',\n",
              " 'boobies',\n",
              " 'passion',\n",
              " 'yess',\n",
              " 'moises',\n",
              " 'reply',\n",
              " 'ikno',\n",
              " 'anger',\n",
              " 'pick',\n",
              " 'given',\n",
              " 'point',\n",
              " 'massages',\n",
              " 'babies',\n",
              " '73rd',\n",
              " 'comment',\n",
              " 'laughing',\n",
              " 'moo',\n",
              " 'stick',\n",
              " 'nutts',\n",
              " 'biatch',\n",
              " 'prostitute',\n",
              " 'spain',\n",
              " 'brazil',\n",
              " '**bitch***',\n",
              " 'eight',\n",
              " 'words.',\n",
              " 'suree',\n",
              " 'wantedd',\n",
              " 'bandd',\n",
              " 'definately',\n",
              " '^^',\n",
              " 'anonomouss',\n",
              " 'nicely',\n",
              " 'gf',\n",
              " 'lies',\n",
              " 'search',\n",
              " 'facial',\n",
              " 'amature',\n",
              " 'ahahha',\n",
              " 'energetic',\n",
              " 'midget',\n",
              " 'sloth',\n",
              " 'decided',\n",
              " 'steal',\n",
              " 'r.',\n",
              " 'kelley',\n",
              " 'room',\n",
              " 'hahaaa',\n",
              " 'wut',\n",
              " 'naw',\n",
              " 'umm',\n",
              " 'almost',\n",
              " 'urself',\n",
              " 'selfish',\n",
              " 'boom',\n",
              " 'return',\n",
              " 'amount',\n",
              " 'young',\n",
              " 'nasty',\n",
              " 'park',\n",
              " 'o_______o',\n",
              " 'feed',\n",
              " 'grapes',\n",
              " 'each',\n",
              " 'walked',\n",
              " 'tbh',\n",
              " 'justt',\n",
              " 'sup',\n",
              " 'noo',\n",
              " 'hole',\n",
              " 'w.e',\n",
              " 'berlesque',\n",
              " 'dancing',\n",
              " 'stripping',\n",
              " 'strippers',\n",
              " 'nicest',\n",
              " 'pen',\n",
              " 'list',\n",
              " 'fantastic',\n",
              " 'nottt',\n",
              " 'zoos',\n",
              " 'muh',\n",
              " 'sucks',\n",
              " 'pp',\n",
              " 'headache',\n",
              " 'jordann',\n",
              " 'serious',\n",
              " 'fat',\n",
              " 'stating',\n",
              " 'anon',\n",
              " 'ma',\n",
              " 'save',\n",
              " 'fire',\n",
              " 'page',\n",
              " 'immature',\n",
              " 'rl',\n",
              " 'd03',\n",
              " 'ju',\n",
              " ...]"
            ]
          },
          "metadata": {
            "tags": []
          },
          "execution_count": 20
        }
      ]
    },
    {
      "cell_type": "code",
      "metadata": {
        "colab": {
          "base_uri": "https://localhost:8080/"
        },
        "id": "fRdwvaWd9NMe",
        "outputId": "c53424bc-731b-427f-878f-ae004fe076e2"
      },
      "source": [
        "w2v.vectors"
      ],
      "execution_count": 21,
      "outputs": [
        {
          "output_type": "execute_result",
          "data": {
            "text/plain": [
              "array([[ 1.5881387 , -0.1615962 , -0.8816173 , ..., -0.48227856,\n",
              "        -0.5749862 , -9.518753  ],\n",
              "       [-8.4140835 , -0.52337706,  0.88618684, ..., -2.887018  ,\n",
              "         2.4482782 , -5.317314  ],\n",
              "       [-1.4739401 , -1.4790385 ,  1.9247633 , ..., -4.4185095 ,\n",
              "        -2.4377174 , -1.8559012 ],\n",
              "       ...,\n",
              "       [-0.35876352, -0.17229517,  0.36908326, ...,  0.01327638,\n",
              "         0.37465551,  0.63099045],\n",
              "       [-0.325714  , -0.38007677,  0.20911683, ..., -0.05602186,\n",
              "         0.30824083,  0.6257647 ],\n",
              "       [ 0.40436548, -0.3543051 ,  0.31922755, ..., -0.7728941 ,\n",
              "        -0.63835764, -1.2108864 ]], dtype=float32)"
            ]
          },
          "metadata": {
            "tags": []
          },
          "execution_count": 21
        }
      ]
    },
    {
      "cell_type": "code",
      "metadata": {
        "colab": {
          "base_uri": "https://localhost:8080/"
        },
        "id": "Yub3VWM49QGp",
        "outputId": "adebad39-2ad4-474b-9fdc-2eaba20f2fea"
      },
      "source": [
        "w2v.vector_size"
      ],
      "execution_count": 22,
      "outputs": [
        {
          "output_type": "execute_result",
          "data": {
            "text/plain": [
              "128"
            ]
          },
          "metadata": {
            "tags": []
          },
          "execution_count": 22
        }
      ]
    },
    {
      "cell_type": "markdown",
      "metadata": {
        "id": "ft7tXLRoFDDR"
      },
      "source": [
        "#SENITY CHEK\n"
      ]
    },
    {
      "cell_type": "code",
      "metadata": {
        "colab": {
          "base_uri": "https://localhost:8080/"
        },
        "id": "kxLmEYNd9ZK-",
        "outputId": "14d88f3c-9155-4d8c-b8ea-15efa2a76c0b"
      },
      "source": [
        "w2v[\"trusting\"]"
      ],
      "execution_count": 23,
      "outputs": [
        {
          "output_type": "execute_result",
          "data": {
            "text/plain": [
              "array([ 1.0384952 , -1.9625375 ,  1.4167771 ,  1.9432824 ,  3.6613874 ,\n",
              "        0.91782945,  0.01832323, -1.3543642 ,  0.79303145, -0.9585277 ,\n",
              "        0.15348993,  0.42607304,  1.3265281 ,  0.23227037,  0.4650502 ,\n",
              "        0.13418792, -0.91963315, -1.1169977 ,  1.977453  ,  1.4689105 ,\n",
              "       -0.41671583, -1.302293  ,  1.1333556 ,  0.35733533,  0.27228406,\n",
              "        0.93188107,  1.535644  , -0.20492771, -0.3532161 , -0.77674216,\n",
              "       -1.3167953 , -0.37344328,  0.74917686,  0.36984876, -0.24958614,\n",
              "        2.0211756 , -0.6584522 ,  0.92973554, -0.566313  ,  2.266237  ,\n",
              "       -1.08826   , -1.0037966 ,  1.0714546 ,  3.2527797 , -1.9708307 ,\n",
              "        0.54783195,  1.9632448 ,  0.92410547, -0.43630403, -1.5097709 ,\n",
              "       -0.99628407, -0.666845  ,  1.59813   ,  0.08842039, -0.8625244 ,\n",
              "        1.5348707 , -0.01107606, -2.0399663 , -2.056364  ,  0.54368234,\n",
              "        0.39994946,  2.106021  ,  0.26546815, -1.0353776 ,  0.15228367,\n",
              "       -0.2865232 ,  1.5388602 ,  1.3580668 , -0.7627727 , -0.7310663 ,\n",
              "        1.9292212 ,  1.2189596 ,  1.5730649 , -0.5689735 , -0.39609048,\n",
              "       -0.45758316, -0.7513406 , -0.6936356 , -1.0639864 ,  1.3097274 ,\n",
              "       -0.42595676, -0.14986879, -0.41791922, -1.3123842 , -1.4999396 ,\n",
              "       -0.15448053,  2.3765764 , -1.017488  , -0.88419634, -0.20502093,\n",
              "        0.9564405 , -1.5692778 , -1.2029814 , -2.7726915 , -1.2987655 ,\n",
              "       -0.95595306, -0.1330689 , -0.2545463 , -1.3447261 ,  0.19934893,\n",
              "       -0.23160401, -0.8277679 , -0.91042376,  2.216592  , -0.5966656 ,\n",
              "        1.0644099 ,  0.21290454, -1.9057958 , -0.14919452,  1.1028427 ,\n",
              "        0.6117148 ,  1.3134974 ,  0.6591342 , -2.3052893 ,  1.7315254 ,\n",
              "        3.5066545 , -0.02944534, -0.5157933 ,  1.6748583 , -1.365355  ,\n",
              "        1.0801247 , -0.666603  ,  3.8979306 , -0.33746523, -0.00881156,\n",
              "        0.7153025 , -0.32049865, -0.41358602], dtype=float32)"
            ]
          },
          "metadata": {
            "tags": []
          },
          "execution_count": 23
        }
      ]
    },
    {
      "cell_type": "markdown",
      "metadata": {
        "id": "SC7-T2JBFJ6I"
      },
      "source": [
        "# SIMILIAR WORD"
      ]
    },
    {
      "cell_type": "code",
      "metadata": {
        "colab": {
          "base_uri": "https://localhost:8080/"
        },
        "id": "6lXIOX7m9e2Z",
        "outputId": "e1e28c14-cf0d-48ea-cea5-5b39975b22cb"
      },
      "source": [
        "w2v.similar_by_word(\"trusting\", topn=5)"
      ],
      "execution_count": 24,
      "outputs": [
        {
          "output_type": "execute_result",
          "data": {
            "text/plain": [
              "[('testing', 0.7656937837600708),\n",
              " ('anyting', 0.6312532424926758),\n",
              " ('tingling', 0.6311058402061462),\n",
              " ('wanting', 0.6040869951248169),\n",
              " ('dating', 0.5884765386581421)]"
            ]
          },
          "metadata": {
            "tags": []
          },
          "execution_count": 24
        }
      ]
    },
    {
      "cell_type": "markdown",
      "metadata": {
        "id": "GYqPbMX_FRJH"
      },
      "source": [
        "#Visualisasi"
      ]
    },
    {
      "cell_type": "code",
      "metadata": {
        "id": "K0ujDZzk9l4Z"
      },
      "source": [
        "from umap import UMAP\n",
        "import numpy as np\n",
        "import pandas as pd\n",
        "import plotly.express as px"
      ],
      "execution_count": 25,
      "outputs": []
    },
    {
      "cell_type": "code",
      "metadata": {
        "id": "fnX1Uz_z9tRh"
      },
      "source": [
        "X = UMAP().fit_transform(w2v.vectors)"
      ],
      "execution_count": 26,
      "outputs": []
    },
    {
      "cell_type": "code",
      "metadata": {
        "colab": {
          "base_uri": "https://localhost:8080/"
        },
        "id": "83k8sOJz950l",
        "outputId": "ef79716a-2199-4543-9d85-5c208600c913"
      },
      "source": [
        "df = pd.DataFrame(X, columns=[\"umap1\", \"umap2\"])\n",
        "df[\"text\"] = w2v.index2word\n",
        "print(df)"
      ],
      "execution_count": 27,
      "outputs": [
        {
          "output_type": "stream",
          "text": [
            "          umap1     umap2    text\n",
            "0      8.788020 -6.522096       :\n",
            "1      9.522700 -7.803945       a\n",
            "2      9.517410 -7.761244       ?\n",
            "3      9.239889 -7.636702       <\n",
            "4     12.194777 -4.131774       q\n",
            "...         ...       ...     ...\n",
            "4285   8.857487 -5.653574    swim\n",
            "4286   8.549914 -5.474135  sharks\n",
            "4287  10.466953 -6.007862     809\n",
            "4288  10.569194 -5.843219    9501\n",
            "4289  10.922736 -5.861894  alexis\n",
            "\n",
            "[4290 rows x 3 columns]\n"
          ],
          "name": "stdout"
        }
      ]
    },
    {
      "cell_type": "code",
      "metadata": {
        "colab": {
          "base_uri": "https://localhost:8080/",
          "height": 917
        },
        "id": "HBXTyOCt-DKv",
        "outputId": "0ac43a69-2bb1-4c41-c134-72fa425bd151"
      },
      "source": [
        "fig = px.scatter(df, x=\"umap1\", y=\"umap2\", text=\"text\")\n",
        "fig.update_traces(textposition='top center')\n",
        "fig.update_layout(\n",
        "    height=900,\n",
        "    title_text='Reduce FastText Visualization'\n",
        ")\n",
        "fig.show()"
      ],
      "execution_count": 28,
      "outputs": [
        {
          "output_type": "display_data",
          "data": {
            "text/html": [
              "<html>\n",
              "<head><meta charset=\"utf-8\" /></head>\n",
              "<body>\n",
              "    <div>\n",
              "            <script src=\"https://cdnjs.cloudflare.com/ajax/libs/mathjax/2.7.5/MathJax.js?config=TeX-AMS-MML_SVG\"></script><script type=\"text/javascript\">if (window.MathJax) {MathJax.Hub.Config({SVG: {font: \"STIX-Web\"}});}</script>\n",
              "                <script type=\"text/javascript\">window.PlotlyConfig = {MathJaxConfig: 'local'};</script>\n",
              "        <script src=\"https://cdn.plot.ly/plotly-latest.min.js\"></script>    \n",
              "            <div id=\"10442953-ce38-4b40-8635-f6df079b0898\" class=\"plotly-graph-div\" style=\"height:900px; width:100%;\"></div>\n",
              "            <script type=\"text/javascript\">\n",
              "                \n",
              "                    window.PLOTLYENV=window.PLOTLYENV || {};\n",
              "                    \n",
              "                if (document.getElementById(\"10442953-ce38-4b40-8635-f6df079b0898\")) {\n",
              "                    Plotly.newPlot(\n",
              "                        '10442953-ce38-4b40-8635-f6df079b0898',\n",
              "                        [{\"hoverlabel\": {\"namelength\": 0}, \"hovertemplate\": \"umap1=%{x}<br>umap2=%{y}<br>text=%{text}\", \"legendgroup\": \"\", \"marker\": {\"color\": \"#636efa\", \"symbol\": \"circle\"}, \"mode\": \"markers+text\", \"name\": \"\", \"showlegend\": false, \"text\": [\":\", \"a\", \"?\", \"<\", \"q\", \"you\", \">\", \"br\", \"i\", \"!\", \".\", \"to\", \"the\", \"and\", \"do\", \"your\", \"it\", \")\", \"is\", \";\", \"what\", \"in\", \"that\", \"are\", \"my\", \"have\", \"of\", \"&\", \"me\", \"lol\", \"u\", \"not\", \"if\", \"like\", \"would\", \"on\", \"so\", \"but\", \"for\", \"...\", \"with\", \"be\", \"or\", \"(\", \"know\", \"why\", \"think\", \"no\", \"how\", \"was\", \"im\", \"n't\", \"just\", \"who\", \"love\", \"d\", \"all\", \"when\", \"can\", \"fake\", \"one\", \"get\", \"as\", \"want\", \"r\", \"dont\", \"ever\", \"about\", \"..\", \"really\", \"yes\", \"apos\", \"@\", \"at\", \"they\", \"this\", \"up\", \"did\", \"its\", \"she\", \"people\", \"out\", \"had\", \"quot\", \"lmao\", \"too\", \"ur\", \"am\", \"we\", \"time\", \"go\", \"does\", \"3\", \"were\", \"then\", \"will\", \"there\", \"say\", \"'s\", \"much\", \"thats\", \"]\", \"well\", \"them\", \"an\", \"life\", \"tell\", \"thing\", \"back\", \"got\", \"now\", \"going\", \"person\", \"last\", \"bitch\", \"from\", \"shit\", \"p\", \"where\", \"talk\", \"any\", \"been\", \"he\", \"$\", \"fuck\", \"someone\", \"could\", \"her\", \"yeah\", \"look\", \"see\", \"good\", \"make\", \"never\", \"more\", \"because\", \"name\", \"some\", \"should\", \"ok\", \"sex\", \"way\", \"bad\", \"m\", \"yourself\", \"ass\", \"only\", \"mean\", \"here\", \"most\", \"even\", \"=\", \"has\", \"amp\", \"told\", \"than\", \"many\", \"nice\", \"ugly\", \"maybe\", \"still\", \"him\", \"something\", \"soo\", \"wtf\", \"oh\", \"need\", \"over\", \"ask\", \"sure\", \"call\", \"off\", \"better\", \"hey\", \"girl\", \"t\", \"please\", \"girls\", \"give\", \"things\", \"old\", \"though\", \"'m\", \"little\", \"questions\", \"xd\", \"thanks\", \"right\", \"being\", \"thank\", \"first\", \"n\", \"wish\", \"by\", \"sorry\", \"fucking\", \"friends\", \"okay\", \"-\", \"doing\", \"s\", \"na\", \"away\", \"those\", \"yew\", \"baby\", \"take\", \"everything\", \"said\", \"best\", \"anything\", \"try\", \"eat\", \"nope\", \"don\", \"stuff\", \"idk\", \"school\", \"keep\", \"nd\", \"their\", \"world\", \"actually\", \"today\", \"spam\", \"buy\", \"wow\", \"guys\", \"asking\", \"work\", \"hate\", \"everyone\", \"always\", \"damn\", \"watch\", \"done\", \"same\", \"l\", \"friend\", \"talking\", \"stop\", \"favorite\", \"our\", \"other\", \"hoe\", \"care\", \"gay\", \"big\", \"day\", \"feel\", \"which\", \"cool\", \"real\", \"let\", \"youu\", \"answer\", \"probably\", \"cum\", \"wat\", \"dick\", \"whats\", \"dad\", \"long\", \"night\", \"face\", \"might\", \"live\", \"again\", \"ya\", \"hard\", \"down\", \"play\", \"fun\", \"question\", \"believe\", \"man\", \"leave\", \"ill\", \"'re\", \"pretty\", \"huh\", \"anyone\", \"eyes\", \"hair\", \"http\", \"thought\", \"before\", \"o_o\", \"miss\", \"/\", \"god\", \"yo\", \"o\", \"wan\", \"often\", \"cause\", \"around\", \"omg\", \"smoke\", \"come\", \"myself\", \"seen\", \"word\", \"weird\", \"both\", \"texas\", \"since\", \"hot\", \"parents\", \"ahh\", \"house\", \"beautiful\", \"cant\", \"honestly\", \"rather\", \"made\", \"course\", \"kind\", \"very\", \"after\", \"means\", \"put\", \"suck\", \"mad\", \"doesnt\", \"anymore\", \"own\", \"bet\", \"find\", \"die\", \"'ll\", \"opinion\", \"mi\", \"k\", \"ha\", \"formspring\", \"33\", \"saying\", \"btw\", \"cure\", \"dirty\", \"heard\", \"state\", \"hah\", \"slut\", \"shes\", \"u2665\", \"hope\", \"porn\", \"'d\", \"ll\", \"bed\", \"laura\", \"anonymous\", \"age\", \"drink\", \"morning\", \"else\", \"wrong\", \"cuz\", \"alot\", \"x\", \"kids\", \"men\", \"yuh\", \"10\", \"[\", \"ate\", \"show\", \"movie\", \"nothing\", \"yep\", \"every\", \"great\", \"havent\", \"wit\", \"nigga\", \"mom\", \"haha\", \"sweet\", \"song\", \"didnt\", \"makes\", \"outlaw\", \"into\", \"picture\", \"less\", \"change\", \"times\", \"home\", \"mind\", \"nun\", \"ull\", \"cute\", \"tired\", \"deep\", \"touch\", \"married\", \"dork\", \"wear\", \"relationship\", \"c\", \"chance\", \"year\", \"date\", \"aww\", \"2\", \"comes\", \"sense\", \"lot\", \"money\", \"family\", \"walk\", \"saw\", \"grade\", \"lady\", \"share\", \"dat\", \"throw\", \"hugs\", \"depends\", \"gon\", \"post\", \"plane\", \"working\", \"kick\", \"describe\", \"lying\", \"thinking\", \"type\", \"while\", \"m3\", \"these\", \"lmfao\", \"nah\", \"amm\", \"ca\", \"smell\", \"kum\", \"far\", \"knows\", \"fuckin\", \"soon\", \"sometimes\", \"use\", \"hes\", \"kelly\", \"jail\", \"his\", \"choice\", \"looks\", \"freak\", \"sexual\", \"yours\", \"gone\", \"movies\", \"fool\", \"once\", \"guy\", \"getting\", \"lolss\", \"says\", \"bar\", \"such\", \"full\", \"pink\", \"agree\", \"guess\", \"wake\", \"stupid\", \"alex\", \"older\", \"wont\", \"cheat\", \"sexy\", \"'ve\", \"wait\", \"myspace\", \"asked\", \"two\", \"read\", \"id\", \"teachers\", \"chill\", \"kill\", \"fall\", \"havee\", \"start\", \"flirt\", \"shower\", \"ily\", \"certain\", \"qq\", \"pu\", \"juz\", \"massage\", \"yuu\", \"shoul\", \"ree\", \"went\", \"open\", \"drunk\", \"lil\", \"hunger\", \"may\", \"opposite\", \"taste\", \"already\", \"crazy\", \"couple\", \"ta\", \"friggin\", \"balls\", \"step\", \"funny\", \"hating\", \"children\", \"cheated\", \"least\", \"yu\", \"different\", \"re\", \"lie\", \"used\", \"together\", \"high\", \"spamming\", \"meet\", \"sister\", \"reason\", \"break\", \"wud\", \"shay\", \"alcoholic\", \"send\", \"random\", \"hmm\", \"end\", \"bye\", \"yeh\", \"lunch\", \"sleep\", \"choose\", \"yea\", \"phone\", \"hmmm\", \"remember\", \"6\", \"ppl\", \"self\", \"mental\", \"sound\", \"telling\", \"monster\", \"hollywood\", \"ticket\", \"drty\", \"pics\", \"especially\", \"vergin\", \"daniela\", \"appearance\", \"inside\", \"enough\", \"maturbated\", \"came\", \"daughter\", \"sleeping\", \"+\", \"blow\", \"alright\", \"body\", \"jus\", \"cares\", \"ummm\", \"nopee\", \"outside\", \"dumb\", \"genie\", \"disappear..\", \"hurry..tell\", \"hi\", \"bout\", \"known\", \"seriously\", \"door\", \"4\", \"seem\", \"obvious\", \"hello\", \"sam\", \"idnt\", \"boo\", \"alone\", \"austin\", \"gives\", \"death\", \"beat\", \"ready\", \"bit\", \"tv\", \"paper\", \"won\", \"robert\", \"blue\", \"slept\", \"next\", \"=/\", \"place\", \"thoughts\", \"having\", \"red\", \"watching\", \"style\", \"trying\", \"'\", \"happy\", \"gaga\", \"spend\", \"=dd\", \"gorgeous\", \"bone\", \"month\", \"boy\", \"stfu\", \"duh\", \"jewish\", \"story\", \"human\", \"fine\", \"starlet\", \"paris\", \"hilton\", \"okies\", \"rug-muncher\", \"wonder.lol\", \"herd\", \"idaho\", \"corn\", \"internet\", \"longer\", \"france\", \"eva\", \"head\", \"fucken\", \"anonymouser\", \"tattoos\", \"pussy\", \"looking\", \"ipod\", \"pet\", \"zzy\", \"blind\", \"mikey\", \"wassup\", \"niggah\", \"jooking\", \"viben\", \"faggot\", \"set\", \"victor\", \"tree\", \"wunt\", \"ohkay\", \"silly\", \"second\", \"bf/gf\", \"following\", \"knew\", \"control\", \"past\", \"canu2019t\", \"closed\", \"breath\", \"mess\", \"remind\", \"naked\", \"female\", \"top\", \"yhu\", \"qwestion\", \"dayyum\", \"diz\", \"skins\", \"dead\", \"obsessed\", \"block\", \"dueces\", \"hell\", \"animals\", \"free\", \"zz\", \"doo\", \"yall\", \"wen\", \"lesbian\", \"ad\", \"bra\", \"boobs\", \"dnt\", \"move\", \"milk\", \"babe\", \"witt\", \"y\", \"fs\", \"hour\", \"yhur\", \"wo\", \"me..\", \"driving\", \"ima\", \"car\", \"not..\", \"food\", \"clarissa\", \"dingo\", \"kid\", \"online\", \"gum\", \"479\", \"pay\", \"either\", \"facebook\", \"pants\", \"dinner\", \"write\", \"wanted\", \"hurt\", \"mine\", \"hold\", \"loved\", \"usually\", \"us\", \"beach\", \"--\", \"another\", \"*-*\", \"dec\", \"sentence\", \"probation\", \"yup\", \"instead\", \"comebacks\", \"band\", \"weirdest\", \"teacher\", \"lmao.\", \"err\", \"nahh\", \"demi\", \"1\", \"rape\", \"homie\", \"speak\", \"gmac\", \"=d\", \"8th\", \"run\", \"bought\", \"arrested\", \"vvv\", \"-p\", \"totally\", \"piece\", \"tho\", \"happen\", \"born\", \"stalker\", \"pee\", \"woke\", \"lick\", \"job\", \"yet\", \"stalkers\", \"true\", \"lipsz.\", \"wubbbbb\", \"wea\", \"soooo\", \"butt\", \"brah\", \"account\", \"master\", \"flying\", \"moments\", \"school/at\", \"sleepy\", \"fluttering\", \"manage\", \"awake\", \"able\", \"others\", \"broken\", \"michaela\", \"isnt\", \"den\", \"biggest\", \"jk\", \"interest\", \"kno\", \"penis\", \"makeup\", \"yor\", \"sisters\", \"juss\", \"apart\", \"mmmmmmmmawwwu\", \"ooo\", \"0rq\", \"0ff\", \"h\", \"r+\", \"hump\", \"nq\", \"b3d\", \"s0m3\", \"0u+\", \"act\", \"bring\", \"iloveyousomuch\", \"0\", \"pic\", \"feeling\", \"15\", \"cunt\", \"dude\", \"names\", \"lovely\", \"lesbain\", \"hahahhaaaa\", \"omggggz\", \"toilet\", \"nahhhhhht\", \"shut\", \"cheese\", \"dollars\", \"cheyenne\", \"ive\", \"nickname\", \"must\", \"lolr\", \"neither\", \"banana\", \"fruit\", \"rate\", \"scale\", \"v3\", \"annoying\", \"half\", \"proof\", \"quit\", \"yhuuu\", \"saturdayy\", \"happen..\", \"bitchessss\", \"mouth\", \"stand\", \"..i\", \"addicts\", \"using\", \"worst\", \"fakes\", \"bxtch\", \"virgin\", \"through\", \"behind\", \"idea\", \"g\", \"round\", \"awww\", \"moment\", \"fan\", \"matter\", \"happened\", \"example\", \"words\", \"stay\", \"treat\", \"mood\", \"perfect\", \"few\", \"lucky\", \"coming\", \"anyway\", \"taken\", \"hear\", \"prefer\", \"killed\", \"meant\", \"public\", \"favourite\", \"clothing\", \"trebla\", \"tonight\", \"years\", \"new\", \"awesome\", \"forever\", \"oil\", \"forgive\", \"forget\", \"asleep\", \"boobies\", \"passion\", \"yess\", \"moises\", \"reply\", \"ikno\", \"anger\", \"pick\", \"given\", \"point\", \"massages\", \"babies\", \"73rd\", \"comment\", \"laughing\", \"moo\", \"stick\", \"nutts\", \"biatch\", \"prostitute\", \"spain\", \"brazil\", \"**bitch***\", \"eight\", \"words.\", \"suree\", \"wantedd\", \"bandd\", \"definately\", \"^^\", \"anonomouss\", \"nicely\", \"gf\", \"lies\", \"search\", \"facial\", \"amature\", \"ahahha\", \"energetic\", \"midget\", \"sloth\", \"decided\", \"steal\", \"r.\", \"kelley\", \"room\", \"hahaaa\", \"wut\", \"naw\", \"umm\", \"almost\", \"urself\", \"selfish\", \"boom\", \"return\", \"amount\", \"young\", \"nasty\", \"park\", \"o_______o\", \"feed\", \"grapes\", \"each\", \"walked\", \"tbh\", \"justt\", \"sup\", \"noo\", \"hole\", \"w.e\", \"berlesque\", \"dancing\", \"stripping\", \"strippers\", \"nicest\", \"pen\", \"list\", \"fantastic\", \"nottt\", \"zoos\", \"muh\", \"sucks\", \"pp\", \"headache\", \"jordann\", \"serious\", \"fat\", \"stating\", \"anon\", \"ma\", \"save\", \"fire\", \"page\", \"immature\", \"rl\", \"d03\", \"ju\", \"maccas\", \"bum\", \"pedophile\", \"needed\", \"blowjob\", \"sperm\", \"becuase\", \"ass.\", \"hairy\", \"wife\", \"hoee\", \"lenis\", \"legit\", \"uhm\", \"spot\", \"greedy\", \"nature\", \"learn\", \"learned\", \"million\", \"ashley\", \"dakotah\", \"chicken\", \"shady\", \"single\", \"nw\", \"likee\", \"gett\", \"somebodyy\", \"imm\", \"safe\", \"innocent\", \"scary\", \"skills\", \"1-10\", \"dynamo\", \"afraid\", \"datz\", \"bro\", \"spammed\", \"lmbo\", \"morrre\", \"bowls\", \"fuckkk\", \"smoked\", \"liiife\", \"small\", \"miki\", \"toooo\", \"white\", \"properly\", \"bxtchh\", \"twakinqq\", \"tew\", \"ah\", \"jerk\", \"city\", \"delicioso\", \"climd\", \"though..i\", \"txtn\", \"slap\", \"lovee\", \"jimmy\", \"b\", \"justin\", \"cut\", \"kinda\", \"wanting\", \"aree\", \"gaayy\", \"w/\", \"muj\", \"left\", \"tabitha\", \"clue\", \"breakfast\", \"clothes\", \"answering\", \"songs\", \"profile\", \"donkey\", \"ignore\", \"mint\", \"number\", \"lost\", \"found\", \"bother\", \"d00d\", \"whatever\", \"deal\", \"week\", \"interesting\", \"ears\", \"stranger\", \"gunnah\", \"krista\", \"hmmmm\", \"kool\", \"suppose\", \"important\", \"across\", \"wall\", \"easier\", \"woman\", \"case\", \"bucks\", \"smile\", \"liar\", \"enjoy\", \"lots\", \"short\", \"website\", \"marriage\", \"changes\", \"sad\", \"advice\", \"ve\", \"definitely\", \"ice\", \"beer\", \"colour\", \"listen\", \"music\", \"dictionary\", \"tabi\", \"sort\", \"honest\", \"20\", \"drive\", \"wants\", \"quote\", \"feet\", \"completely\", \"roll\", \"etc\", \"upset\", \"explain\", \"cell\", \"brought\", \"gun\", \"help\", \"difference\", \"3333\", \"famous\", \"natural\", \"black\", \"line\", \"cars\", \"laughed\", \"water\", \"places\", \"yay\", \"abortion\", \"close\", \"pets\", \"crack\", \"three\", \"making\", \"animal\", \"passionate\", \"beatles\", \"easily\", \"cheater\", \"std\", \"street\", \"duck\", \"easy\", \"row\", \"merrily\", \"peyton\", \"didn\", \"lyk\", \"bj\", \"3way\", \"intend\", \"include\", \"future\", \"stronger\", \"effect\", \"punch\", \"well..\", \"pairs\", \"underwear\", \"noise\", \"illll\", \"myspace.\", \"fiiiine\", \"billings\", \"thankyou\", \"giv\", \"wouldntt\", \"hhaahahha\", \"hater..\", \"changing\", \"recognize\", \"hide\", \"thts\", \"goal\", \"appreciate\", \"thinks\", \"aujala\", \"bigest\", \"evaaa\", \"douche\", \"excusee\", \"slickk\", \"mouthh\", \"aihh\", \"check\", \"scare\", \"fuckk\", \"whorish\", \"rofl.\", \"xddd\", \"reallly\", \"asian\", \"uestions\", \"aids\", \"=o\", \"sum\", \"owe\", \"ma=p\", \"pull\", \"shots\", \"australian\", \"fill\", \"maurice\", \"favor\", \"apparently\", \"thankss\", \"exactly\", \"whores\", \"hacked\", \"legs\", \"uhh\", \"patch\", \"lmafo..\", \"oud\", \"soooper\", \"begin\", \"sex/\", \"personal\", \"topics\", \"bff\", \"immm\", \"nott\", \"thinkk\", \"late\", \"mike=0\", \"yoooo\", \"nigglett\", \"gnna\", \"fxk\", \"dum\", \"whyy\", \"dhese\", \"girlss\", \"askinqq\", \"dickk\", \"dem\", \"helping\", \"bryans\", \"yourr\", \"tu\", \"sabes\", \"youve\", \"bank\", \"teller\", \"voted\", \"**takes\", \"paper**\", \"applenut\", \"algud\", \"zoomike\", \"zoorissa\", \"zoonata\", \"idc.=p\", \"nata\", \"bowt\", \"ansa\", \"fhuckin\", \"andd\", \"anotha\", \"difficult\", \"ithink\", \".buh\", \"herself\", \"14\", \"pm\", \"gave\", \"acceptable\", \"pictures\", \"woooddddddddddddddddddddddddddd\", \"stairs\", \"pass\", \"link\", \"mere\", \"est\", \"le\", \"chien\", \"et\", \"mange\", \"merde\", \"photos\", \"sentimental\", \"value\", \"aussie\", \"deleted\", \"foool\", \"caan\", \"lazy\", \"fuk\", \"betches\", \"arron\", \"idc\", \"retarded\", \"hella\", \"naah\", \"mobey\", \"1st\", \"were*\", \"badly\", \"tounge\", \"eww\", \"lied\", \"sofia\", \"staress\", \"alll..\", \"okayy\", \"personally\", \"without\", \"talk.be\", \"honest.everyone\", \"lmaoooo.its\", \"gross\", \"thx\", \"yoo\", \"kuszinn\", \"kus\", \"repeat\", \"dooooo\", \"tld\", \"dwn\", \"fart\", \"beacause\", \"blew\", \"hahaha\", \"randomally\", \"cravings\", \"childrend\", \"takes\", \"stuffffffffff\", \"bunz\", \"whoes\", \"elizabeth\", \"putting\", \"herrrr\", \"fade\", \"jhocelyn..\", \"str8\", \"fallen\", \"problem\", \"dxp\", \"showin\", \"no..yoru\", \"pik\", \"ermm\", \"option\", \"waz\", \"itt\", \"mins\", \"saidd\", \"le7\", \"thomas\", \"jizz\", \"creepy\", \"int\", \"clowns\", \"l3\", \"l0n3\", \"h3\", \"n3\", \"hh\", \"iluk\", \"homeboi\", \"ashlee\", \"commenting\", \"michael\", \"ish\", \"sounds\", \"rachel\", \"sayinnnnn\", \"mk\", \"video\", \"wonder\", \"needs\", \"mee\", \"wnna\", \"bitch/whore\", \"guts\", \"sugar\", \"wash\", \"babygirl\", \"plague\", \"iloveyou\", \"malteaser\", \"retarted\", \"samantha\", \"yur\", \"freakiest\", \"bitch.\", \"lmaoooo\", \"drugs\", \"this..\", \"leg\", \"living\", \"jump\", \"holy\", \"mikeey\", \"zurii\", \"guna\", \"memba..but\", \"idid\", \"memba\", \"concernz\", \"eeehhh\", \"turns\", \"throught\", \"bootyful\", \"m.i.a\", \"abit\", \"..love\", \"building\", \"request\", \"gabe\", \"wouldnt\", \"bubble\", \"bullshit\", \"business\", \"warning\", \"label\", \"cousin\", \"whore/slut\", \"basically\", \"meets\", \"kidn\", \"judge\", \"real..but\", \"deeper\", \"soul\", \"understood\", \"express\", \"self..r\", \"10th\", \"11th\", \"group\", \"dog\", \"imagine\", \"rated\", \"site\", \"mah\", \"e\", \"answers\", \"ride\", \"partner\", \"size\", \"30\", \"named\", \"letter\", \"press\", \"harder\", \"until\", \"8\", \"hours\", \"between\", \"fly\", \"ago\", \"angel\", \"busy\", \"reading\", \"grand\", \"alive\", \"consider\", \"square\", \"worked\", \"game\", \"tomorrow\", \"boat\", \"sharing\", \"unless\", \"add\", \"worth\", \"waiting\", \"religions\", \"ex\", \"creative\", \"win\", \"cheating\", \"youu2019re\", \"called\", \"mostly\", \"boyfriend\", \"tony\", \"ohio\", \"blood\", \"modern\", \"helpful\", \"welcome\", \"chocolate\", \"um\", \"awwww\", \"held\", \"mum\", \"shows\", \"flight\", \"scared\", \"exception\", \"clean\", \"dying\", \"table\", \"ones\", \"road\", \"boring\", \"la\", \"buddy\", \"obviously\", \"stars\", \"dark\", \"join\", \"knowing\", \"ages\", \"ellie\", \"goulding\", \"younger\", \"twilight\", \"make-up\", \"messy\", \"eye\", \"wyoming\", \"pushed\", \"frisko\", \"flag\", \"celebrity\", \"shed\", \"heart\", \"ship\", \"dream\", \"hit\", \"5\", \"later\", \"paid\", \"000\", \"women\", \"freeze\", \"voice\", \"snow\", \"wana\", \"book\", \"personality\", \"suicide\", \"writer\", \"necessary\", \"dating\", \"afford\", \"child\", \"wise\", \"crap\", \"beans\", \"prolly\", \"33333\", \"puppy\", \"part\", \"lose\", \"gets\", \"days\", \"become\", \"overly\", \"window\", \"lover\", \"telephone\", \"dreams\", \"literally\", \"blonde\", \"pda\", \"feature\", \"independent\", \"wite\", \"skranyy\", \"hoeish\", \"stank\", \"wannabe\", \"kassie\", \"azz\", \"hell.\", \"rote\", \"ahaaa\", \"7th\", \"comeon\", \"js\", \"beng\", \"faking\", \"comeback\", \"k-dawg\", \"boi\", \"dhat\", \"shopped\", \"monitor\", \"added\", \"mass\", \"individually\", \"kicked\", \"theater\", \"respectable\", \"pop\", \"thrown\", \"advertisements\", \"handcuff\", \"one-armed\", \"ty\", \"hanging\", \"calls\", \"desperate\", \"attack\", \"gym\", \"you/your\", \"pregnancy\", \"planned\", \"annyoing\", \"offf\", \"aujalas\", \"pagee\", \"jessika\", \"sexy..\", \"lololol\", \"circle\", \"3xp3c+\", \"d0\", \"pl3\", \"itz\", \"goes\", \"istick\", \"everybody\", \"edc\", \"thad\", \"near\", \"zach\", \"least.\", \"climbing\", \"tips..\", \"ehhhhhhhhhhhhhhhhhhhhhhhhhhh\", \"lul\", \"climb\", \"nigger\", \"racooonn\", \"stayy\", \"maaa\", \"shitt\", \"smd\", \"humble\", \"abode\", \"buisness\", \"pope\", \"begging\", \"forgiveness\", \"lol..\", \"forgivness\", \"abuse\", \"priests\", \"screwyou\", \"thougt\", \"didntt\", \"informing\", \"google\", \"writeing\", \"foreal\", \"groupiess\", \"dey\", \"sleepin\", \"exactlyyyyyy\", \"chinks\", \"credit\", \"card\", \"pwn\", \"n00bs\", \"but..\", \"sitting\", \"jumped\", \"oncee\", \"imforming\", \"hobo\", \"uh\", \"rrrrrraaaaaaaaaaaaaaaaaaapweeeeeeeeeeeee\", \"background\", \"tooo\", \"naaaa\", \"cabanara\", \"ewwwwwwwwwwwww\", \"stuck\", \"hang\", \"taking\", \"shittalkers\", \"julie\", \"except\", \"dh\", \"erpcode:619r\", \"report\", \"harassment\", \"successfully\", \"bugs\", \"contact\", \"formspring.comr\", \"-formspring\", \"fetish\", \"some.\", \"monies\", \"uhhh\", \"horny.lol\", \"wtffff\", \"betty\", \"harry\", \"beaver\", \"thennn\", \"gok\", \"fashion\", \"fix\", \"sunday\", \"missed\", \"usa\", \"anymore.\", \"itouch\", \"doy\", \"ou\", \"selfishness\", \"accepted\", \"simple\", \"again.\", \"bee\", \"pleasure\", \"neverrrr\", \"upsets\", \"veryy\", \"xx\", \"whoever\", \"boy/girl\", \"jks\", \":3\", \"rather..\", \"camels\", \"foreskin\", \"matt\", \"wilson\", \"secound\", \"hahaa\", \"wiff\", \"actt\", \"takee\", \"day`ss\", \"o2\", \"couldaa\", \"gott\", \"1o\", \"afterr\", \"wuzz\", \"singlee\", \"c.r.y\", \"-*\", \"blud\", \"le3\", \"version\", \"kan\", \"judging\", \"backround\", \"watss\", \"witchaa\", \"fuxing\", \"doin\", \"male\", \"anagram\", \"hitler\", \"crappers\", \"offline\", \"remembered\", \"hadn\", \"dedicating\", \"aiights\", \"wonder.\", \"wander\", \"spamr\", \"//www.formspring.me/ddox3r\", \"//www.formspring.me/juliex2r\", \"continue\", \"firsst\", \"comess\", \"mindd\", \"hottie\", \"yeay\", \"tits\", \"racing\", \"evo..metallic\", \"stripe\", \"tinted\", \"front\", \"windows\", \"soap\", \"approach\", \"threatens\", \"lololololololol\", \"//img180.imageshack.us/img180/7762/niggalolwat.jpg\", \"siick\", \"nee\", \"whore\", \"cracks\", \"marissa\", \"oc\", \"alrightt\", \"shot\", \"pryce\", \"/r\", \"him.r\", \"andddd\", \"gooooooooooooooooooooood.\", \"know..its\", \"confusing\", \"it.\", \"bigger\", \"deffently\", \"cheetoess\", \"kinds\", \"salt\", \"fillers\", \"junk\", \"pardon\", \"notion\", \"wateva\", \"hoes\", \"sent\", \"jai\", \"mother\", \"siht\", \"jokes\", \"tubes\", \"tied///\", \"vasectomy\", \"cock\", \"ianit\", \"response\", \"youd\", \"rosie\", \"sexuality\", \"god.\", \"kong\", \"jackass\", \"rofl\", \"s3xi\", \"asz\", \"lip\", \"bitin\", \"thankz\", \"whatg\", \"tastes\", \"nicer\", \"_\", \"middle\", \"doesn\", \"anyways..\", \"everybodyr\", \"locascio\", \"tonys\", \"idgaf\", \"quality\", \"barbie\", \"medicine\", \"fucked\", \"eh\", \"du\", \"erotic\", \"descibe\", \"wears\", \"weirdest/most\", \"licked\", \"xoxoashleyxo\", \"threats\", \"needed.\", \"playa\", \"chix\", \"answerd\", \"louise\", \"works\", \"sheets\", \"rlllllllly\", \"ewwwww\", \"okk\", \"yurr\", \"dontt\", \"double\", \"yesterday\", \"son\", \"mhm\", \"pot\", \"alchy\", \"sign\", \"excited\", \"amazes\", \"spontaneity\", \"also\", \"sisssssy\", \"fukin\", \"cat\", \"=p\", \"bleach\", \"height\", \"aren\", \"normally\", \"whenever\", \"situation\", \"claim\", \"predators\", \"country\", \"ermmm\", \"excuse\", \"forgot\", \"argument\", \"peanut\", \"talked\", \"billy\", \"pudding\", \"starts\", \"remote\", \"battery\", \"senses\", \"abducted\", \"aliens\", \"attention\", \"sexxi\", \"watched\", \"ebuddy\", \"peeps\", \"power\", \"art\", \"obama\", \"looked\", \"angry\", \"chronic\", \"issue\", \"health\", \"gota\", \"w\", \"someones\", \"convo\", \"memory\", \"beverage\", \"liquor\", \"calm\", \"tone\", \"italy\", \"perhaps\", \"sometime\", \"mexico\", \"sin\", \"smart\", \"talker\", \"listener\", \"problems\", \"brain\", \"fried\", \"depending\", \"griffen\", \"adtr\", \"ohh\", \"yahoo.com\", \"giving\", \"catholic\", \"slight\", \"similar\", \"travel\", \"grow\", \"timothy\", \"fight\", \"spoken\", \"purse\", \"air\", \"slowly\", \"thumbs\", \"sunshine\", \"lmaoo\", \"bitchh\", \"dance\", \"namer\", \"//www.youtube.com/watch\", \"hospital\", \"nooo\", \"sight\", \"sick\", \"ummmm\", \"vodka\", \"diff\", \"links\", \"videos\", \"party\", \"eyeliner\", \"koala\", \"piks\", \"uncomfortable\", \"hopefully\", \"computer\", \"=s\", \"tom\", \"shopping\", \"town\", \"faces\", \"smiling\", \"yourselves\", \"writings\", \"running\", \"spare\", \"strewn\", \"walls\", \"bathroom\", \"floor\", \"c-o\", \"ohhhh\", \"side\", \"twitter\", \"mermaid\", \"tryed\", \"comfy\", \"weather\", \"walking\", \"t.v\", \"bedroom\", \"kiss\", \"none\", \"kay\", \"culture\", \"flowers\", \"neighbours\", \"anal\", \"absolutely\", \"gold\", \"effy\", \"mix\", \"everyday\", \"truck\", \"hills\", \"cutie\", \"wedding\", \"thingy\", \"hobbies\", \"bombarding\", \"x-d\", \"inbox\", \"boii\", \"pledge\", \"pain\", \"hai\", \"v\", \"lewk\", \"danica\", \"text\", \"coined\", \"phrase\", \"hop\", \"awwwwww\", \"promised\", \"333\", \"crime\", \"cristal\", \"model\", \"1000+\", \"inbox..\", \"bang\", \"2am\", \"fone\", \"treated\", \"demand\", \"respect\", \"order\", \"surprise\", \"7\", \"aw\", \"smelly\", \"italian\", \"piano\", \"drums\", \"although\", \"button\", \"lolz\", \"understand\", \"message\", \"apple\", \"ment\", \"horrible\", \"five\", \"raise\", \"hasnt\", \"folded\", \"swimming\", \"brown\", \"jeans\", \"super\", \"loser\", \"australia\", \"da\", \"planet\", \"space\", \"teach\", \"swear\", \"truth\", \"cutee\", \"grades\", \"turned\", \"caring\", \"qualities\", \"glad\", \"false\", \"ladies\", \"forreallies\", \"hawaii\", \"romantic\", \"boys\", \"-d\", \"resemble\", \"spill\", \"bp\", \"took\", \"inny\", \"yoru\", \"buh\", \"gringo\", \"zero\", \"spoon\", \"vegetables\", \"lace\", \"cotton\", \"pranked\", \"embarrassed\", \"items\", \"chu\", \"thanx\", \"fav\", \"aware\", \"amazing\", \"bird\", \"clouds\", \"amphibians\", \"frogs\", \"private\", \"otherwise\", \"girlfriend\", \"whoop\", \"died\", \"needy\", \"effective\", \"attractive\", \"sociable\", \"candy\", \"mm\", \"cried\", \"seems\", \"happens\", \"till\", \"presence\", \"thee\", \"wordpress\", \"spent\", \"train\", \"darkness\", \"murder\", \"count\", \"quite\", \"likes\", \"worse\", \"chose\", \"firing\", \"squad\", \"collections\", \"collect\", \"collecting\", \"pocket\", \"sticks\", \"23\", \"fasho\", \"xxxx\", \"hyper\", \"shop\", \"romance\", \"cuando\", \"compliment\", \"emotional\", \"leicester\", \"xxx\", \"nose\", \"west\", \"texted\", \"blond\", \"kidding\", \"special\", \"doctor\", \"waht\", \"national\", \"manual\", \"carriage\", \"conversation\", \"pandass\", \"eyed\", \"eddie\", \"corner\", \"form\", \"fell\", \"mis\", \"surf\", \"heads\", \"noses\", \"notice\", \"hahahaha\", \"missing\", \"whatu2019s\", \"youu2019ve\", \"superman\", \"spring\", \"magic\", \"moved\", \"babes\", \"cream\", \"possible\", \"brup\", \"brap\", \"complete\", \"silence\", \"september\", \"willing\", \"peter\", \"pan\", \"dirt\", \"poor\", \"hayley\", \"garfeild\", \"isn\", \"girly-girls\", \"batman\", \"sexiest\", \"dress\", \"vision\", \"optometrist\", \"cook\", \"iam\", \"ufo\", \"hangout\", \"status\", \"crying\", \"loud\", \"worry\", \"cocky\", \"poke\", \"eyeballs\", \"management\", \"classes\", \"shoe\", \"rocks\", \"pots\", \"pans\", \"*hides*\", \"violent\", \"wubu2\", \"josh\", \"desparate\", \"abcdefghijklmnopqrstuvwxyz\", \"woww\", \"knoww\", \"alphabet\", \"mini\", \"spaz\", \"sweety\", \"shaped\", \"sit\", \"corner.\", \"yeahh\", \"funnny\", \"corners\", \"duhh..\", \"faves\", \"hater\", \"sorry.\", \"okayy..\", \"talk.\", \"stolee\", \"sxht\", \"frm\", \"mhe\", \"otha\", \"shxt\", \"dressedd\", \"blackk\", \"stale\", \"map\", \"satellite\", \"memorial\", \"clown\", \"evil\", \"mate\", \"corridors\", \"facing\", \"out..\", \"lifted\", \"superwoman\", \"fucker\", \"asslee\", \"asshole\", \"shy\", \"rlly\", \"w/e\", \"byeee\", \"suchh\", \"sluuttt\", \"ashleybby\", \"^.^\", \"^_^\", \"fair\", \"isit\", \"dressed\", \"jammies\", \"reeeets\", \"jizzz\", \"much.\", \"piss\", \"behavior\", \"facebook/myspace\", \"touching\", \"//www.formspring.me/kukluxklanownz\", \"yell\", \"nigguh\", \"fu\", \"h0l3\", \"rope\", \"walabies\", \"scat\", \"icky\", \"reckon\", \"swiming\", \"rekon\", \"shit.\", \"shame\", \"tiny\", \"occupied\", \"swap\", \"cope\", \"stealing\", \"videos.\", \"cheyene\", \"url\", \"isss\", \"isayah\", \"goin\", \"der\", \"bugg\", \"hunnyyy\", \"lets\", \"/lol\", \"wffle\", \"bahahaha\", \"virqin\", \"friendless\", \"length\", \"width\", \"wernt\", \"kare\", \"buissness\", \"alllllll\", \"time.r\", \".r\", \"sleepwalk\", \"apparenty\", \"tha\", \"bisexy\", \"superstitious\", \"_______\", \"cincinnati\", \"naww\", \"neee\", \"teww\", \"hun\", \"biatchh\", \"rigelattempts\", \"n__n\", \"ramp\", \"pimps\", \"locascio.i\", \"myspace/facebook\", \"concert\", \"martina\", \"mcbride\", \"gayyy\", \"christmas\", \"turkey\", \"ihatesimoa\", \"hru\", \"mouth.\", \"burst\", \"bahh\", \"jezuss\", \"lifeless\", \"help.\", \"wood\", \"smash\", \"tevon\", \"k33n\", \"cleaa\", \"idrgaf\", \"areee\", \"bieleber\", \"srry\", \"hardcore\", \"o.0\", \"//thatsnotsexy.com/\", \"sexin\", \"fuuuuuuuuuuck\", \"tasty\", \"armpit\", \"turn\", \"myspace.com/tabiisaninja\", \"book-\", \"//www.facebook.com/profile.php\", \"id=1601024519\", \"cheeks\", \"chipmunk\", \"ligaf\", \"proud\", \"treats\", \"lalalalaaaa\", \"popular\", \"dude..\", \"fother\", \"muckin\", \"yo.r\", \"thankssssssssssss\", \"klondick\", \"absolutly\", \"..im\", \"testing\", \"elses\", \"spammer\", \"under\", \"myspacee\", \"ido\", \"fantisiess\", \"nunn\", \"downn\", \"o4\", \"thingg\", \"blondie\", \"unprotected\", \"delete\", \"classmate\", \"succeed\", \"attend\", \"cna\", \"certifaction\", \"apperantly\", \"vv\", \"spazz\", \"tonsssss\", \"groups\", \"asks\", \"bewbs\", \"y0\", \"surfacing\", \"rimsz\", \"lipszzz\", \"iwud\", \"//www.meatspin.com/\", \"oral\", \"disco\", \"chris\", \"tht\", \"unexpected\", \"truly\", \"melt\", \"lights\", \"flippen\", \"annonimus\", \"retard\", \"kunt\", \"loook\", \"scaredyy\", \"alert\", \"ova\", \"receive\", \".and\", \".=\", \"opinions\", \"parts\", \"burgers\", \"slippers\", \"squat\", \"eyeballs.\", \"outrageous\", \"ttyl\", \"kk\", \"nancy\", \"nervous/anxious\", \"trouble\", \"interview\", \"bloody\", \"trash\", \"way..\", \"follower\", \"un-godly\", \"threat\", \"news/schools\", \"insist\", \"detect\", \"chinese\", \"hopped\", \"trunk\", \"flashed\", \"moe\", \"pancake\", \"lauraaaaaaaaa\", \"laurennnnnnnnn\", \"konkie\", \"ain\", \"hail\", \"language\", \"please.\", \"plese\", \"contintue\", \"argue\", \"butter\", \"jelly\", \"sandwhich\", \"drug\", \"dealers\", \"software\", \"developers\", \"clients\", \"mendez\", \"desert\", \"doooooooo\", \"lemon\", \"oranges\", \"citrus\", \"k-pax\", \"amaze\", \"tingling\", \"alien\", \"abductions\", \"abduct\", \"peopie\", \"millions\", \"achieve\", \"extremely\", \"odd\", \"equipment\", \"legion\", \"weeks\", \"sucked\", \"pretending\", \"happend\", \"hacking\", \"anybody\", \"glitch\", \"system\", \"apologize\", \"lag\", \"tripped\", \"davis\", \"agreed\", \"neva\", \"activity\", \"feasable\", \"hows\", \"lifeee\", \"thaaat\", \"yoooh\", \"knoeee\", \"thuhhh\", \"couldntt\", \"betterr\", \"grandparents\", \"artyest\", \"spongebob\", \"non\", \"haven\", \"barack\", \"pal\", \"felt\", \"wantd\", \"_______________\", \"pizza\", \"box\", \"wondered\", \"tells\", \"pathological\", \"admitted\", \"seekers\", \"plently\", \"sigh\", \"falling\", \"insurance\", \"oz\", \"plan\", \"iselect\", \"cover\", \"monthly\", \"w3n\", \"nt\", \"t0\", \"becky\", \"anytyme\", \"eventually\", \"skipping\", \"however\", \"loyalty\", \"certificate\", \"legally\", \"joined\", \"spark\", \"ing\", \"remeber\", \"refresh\", \"appears\", \"heaven\", \"offers\", \"lifetime\", \"supply\", \"chambord\", \"aka\", \"rasberry\", \"heavenly\", \"received\", \"-ashley\", \"hughesr\", \"knowss\", \"mattresses\", \"sale\", \"shiny\", \"valentines\", \"day.\", \"soccer\", \"exceptionally\", \"pokemon\", \"visit\", \"visited\", \"wahts\", \"newsr\", \"huge\", \"storm\", \"//www.formspring.me/1spammer\", \"causeeeee\", \"skill\", \"bhut\", \"sinning\", \"professor\", \"giligan\", \"island\", \"radio\", \"coconut\", \"bury\", \"braces\", \"tooth\", \"fairy\", \"yeshh\", \"solve\", \"skating\", \"skate\", \"fave\", \"*we\", \"alcohol*\", \"judaism\", \"pig-squirrel\", \"squirrel\", \"pig\", \"lipstick\", \"bright\", \"solves\", \"cook/freddie\", \"copied\", \"pasted\", \"seriously.r\", \"emarosa\", \"robot\", \"emmure\", \"thrashin\", \"instrumental\", \"underoaths\", \"cd\", \"violins\", \"lmaaao\", \"onn\", \"mysace\", \"kendraclark95\", \"misspelled\", \"neverrrrr\", \"emotion\", \"surpass\", \"tops\", \"kidd\", \"elementary\", \"pack\", \"programe\", \"__________\", \"would.\", \"..be\", \"invisible\", \"atm\", \"baptized\", \"beliefs\", \"there..\", \"afterlife..\", \"higher\", \"variations\", \"mixtures\", \"stuff.\", \"believing\", \"aspects\", \"several\", \"shits\", \"ight\", \"books\", \"general\", \"lovie\", \"dovie\", \"lovy\", \"dovy\", \"p.s\", \"laura=\", \"yeee\", \"met\", \"yhuu\", \"san\", \"bernardino\", \"grey\", \"burrito\", \"canadians\", \"candian\", \"upon\", \"anyoneu2019s\", \"feelings\", \"swinging\", \"assume\", \"bag\", \"wallet\", \"popping\", \"minutes\", \"cancelled\", \"altogether\", \"stamach\", \"workouts\", \"dance..\", \"realize\", \"sig\", \"yeppppppppppppppppppp\", \"braille\", \"atms\", \"awesomeness\", \"treeeeee\", \"goot\", \"sneak\", \"snuck\", \"outta\", \"reallyyy\", \"jake\", \"petro\", \"regularly\", \"titmouse\", \"somtime\", \"week.\", \"becausee\", \"daddyy\", \"smartt\", \"kill`dd\", \"v=d2rsoaz0x9qr\", \"pleasant\", \"peaceful\", \"transation\", \"troublesome..agreed\", \"disagreed\", \"arrangement\", \"alice\", \"wonderland\", \"china\", \"passed\", \"mcintyre\", \"jello\", \"rabbits\", \"rabbit\", \"duty\", \"warfare\", \"homework\", \"harmful\", \"rested\", \"ladygaga\", \"student\", \"666.\", \"me.\", \"..999\", \"stayed\", \"overnight\", \"operation\", \"unconscious\", \"ambulance\", \"above\", \"previous\", \"sounding\", \"completly\", \"tacos\", \"boss\", \"ever.\", \"tequila\", \"x3\", \"freezer\", \"hand\", \"twannng\", \"insists\", \"who-\", \"irritated\", \"accord\", \"cos\", \"5other\", \"sorta\", \"lanugage\", \"brokennnn\", \"ahhhhh\", \"borrow\", \"errmm\", \"duunnnna\", \"sooooo\", \"foundation/powder/concealer\", \"fromm\", \"cvs..\", \"envy\", \"sends\", \"teddys\", \"inlaw\", \"cuddly\", \"hugging\", \"agreat\", \"kkkk\", \"flew\", \"opportunity\", \"dumbest\", \"dropping\", \"drowned\", \"regular\", \"partners\", \"toes\", \"certainly\", \"earwax\", \"visible\", \"snack\", \"theatres\", \"popcorn\", \"twizzlers\", \"mike\", \"ikes\", \"surprising\", \"receiving\", \"lawn\", \"mans\", \"bananas\", \"carrot\", \"yes.\", \"messes\", \"lyrics\", \"goodbye\", \"whispering\", \"familiar\", \"iu2019ve\", \"stories\", \"thousand\", \"iu2019ll\", \"rewrite\", \"meddling\", \"serpent\", \"tongue\", \"double-jointed\", \"flexible\", \"dear\", \"computered\", \"hell-o\", \"asda\", \"religious\", \"fambinos\", \"drinkin\", \"smoking\", \"screaming\", \"nor\", \"viva\", \"revolution\", \"development\", \"tweeting\", \"catching\", \"greed\", \"elf\", \"p.\", \"erica\", \"itsericababes\", \"nooooo.\", \"mail\", \"kalel3006\", \"night..\", \"aside\", \"that..\", \"moon\", \"blinds\", \"terrible\", \"carton\", \"marlboro\", \"reds\", \"ten\", \"fist\", \"florence\", \"flo\", \"brit\", \"award\", \"album\", \"screamed\", \"wayyyy\", \"became\", \"plastered\", \"everywhere\", \"boots\", \"ito\", \"dee\", \"stolen\", \"replant\", \"nannas\", \"garden\", \"dani\", \"tough\", \"physically\", \"cud\", \"forver\", \"t.\", \"lautner\", \"glee\", \"tori\", \"deans\", \"cold\", \"shall\", \"occasion\", \"wave\", \"create\", \"bed-head\", \"hairspray\", \"daytime\", \"shadows\", \"evening\", \"clubs\", \"smokey\", \"eyeshadows\", \"base\", \"nude\", \"lips\", \"magazines\", \"refer\", \"inspired\", \"slashes\", \"white/black\", \"chains\", \"prints\", \"and/or\", \"colours\", \"naomi\", \"emily\", \"wore\", \"satin\", \"dressing\", \"gown\", \"jacket\", \"floral\", \"pattern\", \"climaxed\", \"current\", \"teenage\", \"motorcycles\", \"months\", \"booooo\", \"stomach\", \"hill\", \"laugh\", \"steepest\", \"lbd\", \"auntys\", \"..how\", \"adive\", \"thanxxx\", \"werent\", \"//\", \"beside\", \"anyh\", \"you/..cuz\", \"..being\", \"decides\", \"meantime\", \"hm\", \"message.\", \"mmmk\", \"schools\", \"alligence\", \"em\", \"bodtf\", \"tolerance\", \"mixture\", \"foods\", \"noooo\", \"bby\", \"thaat\", \"spouse\", \"thatll\", \"ply\", \"spending\", \"phonebooks\", \"becoming\", \"obsolete\", \"allowed\", \"heighth\", \"american\", \"vvvvv\", \"he/she\", \"read/watched\", \"definition\", \"define\", \"wishing\", \"holding\", \"whole\", \"everytime\", \"advert\", \"kept\", \"law\", \"pointless\", \"prostitution\", \"victim\", \"extend\", \"shipping\", \"abilities\", \"contest\", \"war\", \"requires\", \"winning\", \"-_-\", \"you..r\", \"springs\", \"dew\", \"ihh\", \"precious\", \"cuddler\", \"cuddles\", \"333333\", \"door..\", \"importanat\", \"couldnt\", \"earlya\", \"starting\", \"asap\", \"okie\", \"dokie\", \"omfg\", \"u201cyou\", \"allow\", \"you.u201d\", \"statement\", \"earned\", \"punks\", \"addicted\", \"truths\", \"self.\", \"tall\", \"pro-choice\", \"pro-abortion\", \"answer.\", \"pro\", \"-choice\", \"golf\", \"club\", \"loled\", \"worried\", \"seeing\", \"southwood\", \"kellbell\", \"belly\", \"welly\", \"rhyme\", \"insults\", \"hypocritical\", \"ban\", \"captive\", \"answered\", \"sir\", \"mistaflistone\", \"sooo\", \"aint\", \"french\", \"cuisine\", \"dislike\", \"karma\", \"th\", \"cell/mobile\", \"grocery\", \"donti\", \"word..\", \"stinks\", \"whens\", \"husband\", \"cooking\", \"-chloroformgrl\", \"100\", \"bf/gf/spouse\", \"bye.\", \"frances\", \"talken\", \"one..about\", \"..lol\", \"musical\", \"instruments\", \"playing\", \"14ish\", \"partttty\", \"maaay\", \"havein\", \"invited\", \"fewww\", \"oldest\", \"nly\", \"52\", \"nakeed\", \"christian\", \"rock\", \"explode\", \"murderrrrr\", \"plus\", \"tremor\", \"flames\", \"explosion\", \"canada\", \"demons\", \"ehh\", \"fault\", \"yepppppppp\", \"unhealthy\", \"pregnant\", \"yer\", \"nosee\", \"piercedd\", \"chichi\", \"wahey\", \"toodled\", \"deny\", \"misssss\", \"youuuuuuu\", \"drinking\", \"hmmmmm\", \"33333333\", \"adedd\", \"confused\", \"lalu\", \"mooo\", \"yehhh\", \"ayyye\", \"letting\", \"question..\", \"kn0w\", \"n+\", \"crumble\", \"icecream\", \"crumple\", \"regret\", \"typos\", \"backs\", \"honolulu\", \"chicago\", \"non-stop\", \"gma\", \"freaked\", \"heap\", \"laundry\", \"laying\", \"wadda\", \"bash\", \"..lol..\", \"cupboard\", \"draw\", \"bathing\", \"suit\", \"keeeps\", \"youuu\", \"outfit\", \"currently..r\", \"newest\", \"pair\", \"skinny\", \"polester\", \"teal\", \"print\", \"shoulder\", \"blouse\", \"writing\", \"focus\", \"fovorite\", \"www.formspring.me/insanitymurders\", \"noah\", \"termintes\", \"arch\", \"arc\", \"jew\", \"suk\", \"zealand\", \"originally\", \"perfer\", \"midday\", \"straight\", \"geee\", \"compton\", \"illest\", \"streetz\", \"homegurl\", \"highschool\", \"palmetto\", \"coralreef\", \"athletic\", \"outgoing\", \"duhh\", \"mars\", \"martian\", \"parrot\", \"timmy\", \"funkin\", \"intrucinve\", \"buut\", \"tried\", \"*not*\", \"previously\", \"else.\", \"standing\", \"border\", \"indiana\", \"jealous\", \"fact\", \"stokesdale\", \"that.you\", \"gamble\", \"lottery\", \"5.49am\", \"beginning\", \"ricky\", \"wet\", \"grind\", \"hotline\", \"whaaatever\", \"promises\", \"shizzle\", \"oi\", \"msn\", \"blank\", \"boardwalk\", \"mr.coffey\", \"posted\", \"sol\", \"edline\", \"failed\", \"-andrew\", \"method\", \"finally\", \"relax\", \"mwahs\", \"coral\", \"reef\", \"requests\", \"60\", \"genitals\", \"pierced\", \"contemplate\", \"warranted\", \"mortal\", \"positive\", \"danit\", \"paulina\", \"bretter\", \"3333333333\", \"recent\", \"'the\", \"sawn\", \"indeed\", \"womans\", \"breasts\", \"glide\", \"creeps\", \"sheep\", \"exam\", \"groceries\", \"kroger\", \"babay\", \"walmart\", \"selfless\", \"sacrafice\", \"upside\", \"christina\", \"aguilera\", \".co\", \".com\", \"cougars\", \"funk\", \"ups\", \"downs\", \"overalll\", \"awsomeee.\", \"navy\", \"trusting\", \"potentially\", \"lauraaaa\", \"tapia\", \"-chinaa\", \"honey\", \"natasha\", \"typing\", \"flaw\", \"robbed\", \"zoo\", \"hostage\", \"lions\", \"disabling\", \"dismembered\", \"continuing\", \"cussed\", \"helloooo\", \"circus\", \"wars\", \"chills\", \"rough\", \"slow\", \"temptations\", \"look-a-like\", \"recycled\", \"indeedo\", \"celebrities\", \"spotlight\", \"personalities\", \"pepe\", \"cuts\", \"cost\", \"billion\", \"managed\", \"fuckers\", \"outy\", \"currently\", \"russell\", \"fine..\", \"easly\", \"updated\", \"waaay\", \"koolies\", \"coolio\", \"quick\", \"jajajajaja\", \"ud\", \"es\", \"colombiano\", \"ojala\", \"pete\", \"burns\", \"thatt\", \"boxers\", \"briefs\", \"dominican\", \"iw\", \"ashed\", \"soapy\", \"warm\", \"circular\", \"motion\", \".it\", \"factor\", \"bald\", \"lice\", \"persuaded\", \"stranded\", \"woods\", \"straw\", \"spatula\", \"invests\", \"broker\", \"broke\", \"homosexuals\", \"homoesexuality\", \"like/resemble\", \"closest\", \"ape\", \"evolutional\", \"purposes\", \"whut\", \"aujalaaa\", \"decade\", \"50\", \"teen\", \"70\", \"forced\", \"signs\", \"identifying\", \"themselves\", \"counsiling\", \"propose\", \"idia\", \"dump\", \"acts\", \"color\", \"sky\", \"brizzle\", \"magical\", \"rhymed\", \"bedding\", \"tan\", \"tanning\", \"beds\", \"hypocrite\", \"is..\", \"welll\", \"phobias\", \"cody\", \"bolo\", \"yeahhh\", \"lawl\", \"sis\", \"college\", \"//www.youtube.com/user/cedesandtuesday\", \"begged\", \"couldnu2019t\", \"werenu2019t\", \"beggar\", \"begger\", \"cigs\", \"underage\", \"feminun\", \"products\", \"gface\", \"saturday\", \"youre\", \"girl.r\", \"hunn\", \"members\", \"enables\", \"closer\", \"gender\", \"dresses\", \"f3r0c\", \"0u\", \"wats\", \"l3mmm3\", \"pu+\", \"w0rld\", \"independence\", \"love/family\", \"independance\", \"annoy\", \"describes\", \"holiday\", \"loudest\", \"eagle\", \"cameron\", \"looman\", \"flower\", \"lilies\", \"tiger\", \"lily\", \"stupidest\", \"paws\", \"reptiles\", \"land\", \"openly\", \"feels\", \"thatu2019s\", \"light\", \"shouldnt\", \"waterpark\", \"waterparkk\", \"controlled\", \"homeless\", \"cpr\", \"possibly\", \"decision\", \"sober\", \"7-11\", \"24\", \"365\", \"locks\", \"doors\", \"seven-elevens\", \"again..shes\", \"hawt\", \"sumthin\", \"charmin..thts\", \"dina\", \"lately\", \"topic\", \"tonyy\", \"rap\", \"songgggggggggggg\", \"childhood\", \"guinea-pig\", \"awkward\", \"salon\", \"4wd\", \"accomplish\", \"lond\", \"dam\", \"nissan\", \"patrol\", \"camping\", \"cart\", \"fams\", \"somehow\", \"simoa\", \"rigel\", \"tech\", \"un\", \"specific\", \"loads\", \"whether\", \"penalty\", \"twice\", \"commit\", \"reasoning.\", \"revenge\", \"200\", \"absolute\", \"addiction\", \"swedish\", \"fish\", \"tor\", \"ti\", \"backr\", \"v=zoi7isijzuw\", \"annotation_id=annotation_927155\", \"feature=ivr\", \"bio\", \"story.\", \"like..\", \"looovvveee\", \"teeheehee\", \"kissed\", \"waited\", \"26\", \"marred\", \"27\", \"ignorant\", \"intentinally\", \"predujiced\", \"advance\", \"staying\", \"stagnet\", \"truee\", \"venuss\", \"kersleyy\", \"kersley\", \"bombard\", \"complaining\", \"funny.\", \"monday\", \"hii\", \"hypothetically\", \"job..\", \"whast\", \"wildest\", \"fantasia\", \"couples\", \"legal\", \"rights\", \"heterosexuals\", \"adopting\", \"beings\", \"luck\", \"whoooo\", \"hatee\", \"misterr\", \"sureee\", \"dont.\", \"bieber\", \"oprah\", \"sortaa\", \"wtch\", \"charice\", \"hbu\", \"tour\", \"fuckingggggggggggg\", \"youuuuu\", \"tooooooooooooor\", \"3333333333333333333333333333333333333333\", \"connect\", \"________________\", \"morning.\", \"incoming\", \"nights\", \"consist\", \"nuffin\", \"famz\", \"min\", \"away..where\", \"delayed\", \"pornographice\", \"photo\", \"petty-feel-ya\", \"xrated\", \"ue113\", \"kazz\", \"kayla\", \"haus\", \"area\", \"whom\", \"prison\", \"cop\", \"four\", \"________\", \"sister.\", \"april\", \"divorce\", \"helpless\", \"weak\", \"differently\", \"hiv\", \"ferrsuree\", \"happiness\", \"highest\", \"content\", \"hahhh..\", \"spin\", \"cali\", \"nahhhhhhhhhhhhhhhhh\", \"prank\", \"preach\", \"dates\", \"basic\", \"script\", \"shouting\", \"preaching\", \"whoo\", \"stephanieeeeey\", \"lethal\", \"injection\", \"utah\", \"hearing\", \"sence\", \"mcdonald\", \"beef\", \"jerky\", \"collect-a-holic\", \"hoarder\", \"grown\", \"upstairs\", \"tvs\", \"buffy\", \"u00a36\", \"ridiculous\", \"merchandise\", \"release\", \"birthday\", \"loft\", \"decorated\", \"drum\", \"guitars\", \"shoes\", \"extent\", \"collected\", \"boyfreind\", \"amazingness\", \"overand\", \"nada\", \"homee\", \"kickinn\", \"bein\", \"lazyyy\", \"honesty\", \"betsyyyyyyyyyyyyyyyyyyyyyyyyyyyyyyyyyyyyyyyyyyyyyyyyyyyyyyyyyyyyyyyyyyyyyyyyyyyyyyyyyyyyyyyyyyyyyyyyyyyyyyyyyyyyyyyyyyyyyyyyyyyyyyyyyyyyyyyyyyyyyyyyyyyyyyyy\", \"fuckkkk\", \"flash\", \"camera\", \"scar\", \"freaking\", \"brothers\", \"final\", \"brother\", \"asses\", \"gooooood\", \"english\", \"native\", \"spanish\", \"language..i\", \"h0w\", \"mii\", \"mature\", \"spotted\", \"idiotic\", \"comfortable\", \"barber\", \"center\", \"depende\", \"de\", \"como\", \"este\", \"dia\", \"amo\", \"alguien\", \"quiero\", \"olvidarla\", \"los\", \"angeles\", \"deserve\", \"store\", \"21\", \"brake\", \"attachment\", \"guess..r\", \"generally\", \"friendly\", \"'onit\", \"judgement\", \"entertaining\", \"colors\", \"purple\", \"natural-ish\", \"wellll\", \"boyu2019s\", \"ember\", \"torn\", \"stands\", \"display\", \"affection\", \"redundant\", \"littlemonster\", \"25th\", \"buzzing\", \"perced\", \"noopee\", \"purpose\", \"ugh\", \"messed\", \"mmk\", \"floods\", \"princess\", \"arse\", \"blind-date..\", \"reaction\", \"pissed\", \"medicals\", \"miami\", \"visiting\", \"kindness\", \"recently\", \"supported\", \"comfort\", \"off..\", \"dm\", \"personu2665\", \"farthest\", \"horrrrrrrrrible\", \"rickets\", \"ahhh\", \"vitamins\", \"yah\", \"gray\", \"creeping\", \"yey\", \"ssome\", \"nicknames\", \"locals\", \"macquarie\", \"filds\", \"mac\", \"fields\", \"minto\", \"mino\", \"campbelltown\", \"ctown\", \"macathure\", \"thw\", \"parks\", \"yellowstone\", \"teton\", \"canyon\", \"glacier\", \"lookin\", \"intimacy\", \"sensual\", \"blowing\", \"holden\", \"tiptronic\", \"shift\", \"auto\", \"funner\", \"1.\", \"2.\", \"picnic\", \"horse-drawn\", \"screen\", \"carry\", \"juno\", \"november\", \"mr.\", \"deeds\", \"jaja=p\", \"killt\", \"knowledge\", \"yupp\", \"study\", \"physics\", \"weekend\", \"uhhm\", \"practice\", \"penguins\", \"race/ethnicity\", \"dumpster\", \"lmao.r\", \"trip\", \"pshh\", \"way.r\", \"everywhereeeeee\", \"jensen\", \"erikk\", \"fuuuck\", \"vultari\", \"cullens\", \"attitudes\", \"reasons\", \"hiim\", \"biits\", \"bestie\", \"homo\", \"frend\", \"trebs\", \"comedian\", \"spilled\", \"carpet\", \"stain\", \"uhmm\", \"6th\", \"randi..\", \"anywhere\", \"secluded\", \"escape\", \"darling\", \"lobster\", \"pit\", \"bulls\", \"dangerous\", \"misunderstood\", \"forgave\", \"anyones\", \"sidekick\", \"kik\", \"entry\", \"recent/newest\", \"determine\", \"teacher/boss\", \"wonu2019t\", \"charlie\", \"king\", \"board\", \"3rd\", \"awsum\", \"gettin\", \"along\", \"green\", \"mile\", \"5:58\", \"9:18\", \"couch\", \"fighting\", \"low\", \"1ft\", \"ground\", \"leather\", \"sections\", \"leopard\", \"panda\", \"leet\", \"jose\", \"funniest\", \"hilarious\", \"stitches\", \"ummmmmm\", \"retro\", \"airplane\", \"paddle\", \"punk\", \"booze\", \"worries\", \"tempo\", \"rush\", \"reality\", \"bedsheets\", \"counted\", \"thenn\", \"autograph\", \"hood\", \"tweety\", \"goose\", \"listening\", \"errrrrm\", \"5am\", \"wbu\", \"1020pm\", \"season\", \"things/situations\", \"nervous\", \"large\", \"crowds\", \"seat\", \"belt\", \"yepp\", \"changed\", \"due\", \"chemistry\", \"yessssss\", \"formsprings\", \"geez\", \"pshshsh\", \"weren\", \"wha\", \"cuteeee\", \"mista\", \"loving\", \"adventurous\", \"*woof\", \"woof*\", \"cats\", \"*meow\", \"*\", \"chase\", \"whose\", \"smelled\", \"couldn\", \"graham\", \"bf\", \"nopeee\", \"haterrs\", \"homepage\", \"//mytwilightsearch.com\", \"ew\", \"introvert\", \"extrovert\", \"types\", \"entertain\", \"futher\", \"stable\", \"liked\", \"eastside\", \"rep\", \"zack\", \"yeahhhh\", \"bday\", \"december\", \"1995\", \"pie\", \"cake\", \"enemy\", \"weymouth\", \"gurls\", \"talent\", \"possessed\", \"sing\", \"hooked\", \"kfc\", \"bk\", \"access\", \"pertains\", \"patrick\", \"leader\", \"gently\", \"stream\", \"offended\", \"regardless\", \"guilt\", \"politics\", \"peace\", \"kissssssssss\", \"appricated\", \"sweetie\", \"pratically\", \"horozontally\", \"ceebs\", \"twist\", \"comprende\", \"sorted\", \"ridden\", \"subway\", \"york\", \"boston\", \"london\", \"dese\", \"posed\", \"pikturesz\", \"//www.skeezy.com/videos/drew-and-axel-1704.html\", \"loveeeeeeeee\", \"alexisssssssss\", \"teew\", \"fukinn\", \"hunny\", \"anywhoo\", \"*cries\", \"uncontrollably*\", \"bg\", \"rite\", \"finish\", \"57\", \"sinqle\", \"noope\", \"longest\", \"criticize\", \"doules\", \"blunt\", \"attitude\", \"5.52am\", \"wuts\", \"mrs.\", \"compu\", \"comp\", \"city/town\", \"casper\", \"army\", \"fort\", \"lt.\", \"caspar\", \"indian\", \"spelled\", \"equality\", \"vote\", \"horse\", \"theft\", \"distance\", \"apology\", \"hellaa\", \"qhet\", \"mehh\", \"yourselfr\", \"mustcha\", \"mmmmmkayyyyy\", \"aug.\", \"19th\", \"doesnu2019t\", \"budge\", \"stance\", \"weu2019ve\", \"suggestions\", \"strangers\", \"-__-\", \"ik\", \"natalie\", \"supposedly\", \"haunted\", \"sake\", \"electricity\", \"flashlight\", \"nearest\", \"neighbors\", \"miles\", \"away.\", \"anyting\", \"replace\", \"folk\", \"wifes\", \"nannies\", \"shoot\", \"mr\", \"doubleyouw\", \"uu\", \"hammerd\", \"ended\", \"hikie\", \"cereal\", \"physical\", \"features\", \"complimented\", \"ethnicity\", \"america\", \"likeee\", \"anorexic\", \"giraffe\", \"hahhaa\", \"stretch\", \"arm\", \"cousins\", \"toys\", \"blanket\", \"stalking\", \"captain\", \"hook\", \"u2013\", \"cooler\", \"dang\", \"regrets.r\", \"don't.r\", \"reason.r\", \"grab\", \"hands.r\", \"it.r\", \"nobody\", \"filthy\", \"rich\", \"tons\", \"}\", \"adriane\", \"torres\", \"followers\", \"follow\", \"sureeee\", \"hahahahahahaha\", \"station\", \"u2665u2665u2665\", \"opening\", \"thru\", \"rem\", \"cycle\", \"youll\", \"jersey\", \"shore\", \"runs\", \"kardashians\", \"kendra\", \"saints\", \"shortland\", \"alarm\", \"clock\", \"imma\", \"o-o\", \"sumtimes\", \"crushes\", \"williams\", \"contracted\", \"hola\", \"sexyyyy\", \".ur\", \"pwease\", \"zoowill\", \"admira\", \"lady/dude\", \"decisions\", \"himself\", \"noticing\", \"flown\", \"class\", \"economy\", \"heathkliff\", \"blog\", \"famly\", \"posts\", \"interested\", \"blah\", \"helloo\", \"hellooo\", \"prude\", \"freedom\", \"anonymously\", \"religion\", \"you/would\", \"initials\", \"gibson\", \"actor\", \"relationships\", \"jist\", \"9\", \"beauty\", \"surrounds\", \"drop\", \"yellow\", \"hat\", \"sea\", \"know..\", \"stubborn\", \"for..\", \"tom-boys\", \"lesbians\", \"fancy\", \"aujalaaaaa\", \"333333333333\", \"annonomous\", \".what\", \"braised\", \"sour\", \"tires\", \"12\", \"inch\", \"whaadssgoood\", \"chikie\", \"sec\", \"grew\", \"novelist\", \"theme\", \"gfor\", \"mrs\", \"influence\", \"unique\", \"income\", \"paying\", \"rent\", \"somewhere\", \"moving\", \"loner\", \"concentrate\", \"blurred\", \"hecks\", \"caused\", \"nuff\", \"carrots\", \"vitamin\", \"haaaa\", \"iiam\", \"courtney\", \"wonderr\", \"maybee\", \"babeyyboy\", \".yeah\", \"based\", \"maturity\", \"40\", \"states\", \"49\", \"stability\", \"sponaneity\", \"craving\", \"type/brand\", \"|\", \"gladly\", \"him-r\", \"naturally\", \"iss\", \"tickets\", \"guilty\", \"stereotyping\", \"hea\", \"ditch\", \"messenger\", \"ohhhhh\", \"_________.\", \"resteraunt\", \"frequently\", \"sandbar\", \"everone\", \"pagan\", \"kisses\", \"tumblr\", \"pogo.com\", \"early\", \"530-600\", \"//www.formspring.me/thepedo\", \"highly\", \"advise\", \"him.\", \"alllrighty\", \"german\", \"autoban\", \"ahve\", \"farrr\", \"butiful\", \"urz.\", \"awh\", \"spelling\", \"fate\", \"flip\", \"glory\", \"oasis\", \"fishing\", \"vegetable\", \"hahahahahahahaha\", \"dread\", \"heyyyyyyyyyy\", \"shadyyyy\", \"mamacita\", \"three-r\", \"makesr\", \"yaddadamean\", \"ooooooooooooooooohhhh\", \"seeeee\", \"during\", \"commitment\", \"mountains\", \"breakkie\", \"thick\", \"hates\", \"hardest\", \"track\", \"balloon\", \"xmas\", \"dock\", \"freeway\", \"paranoid\", \"roads\", \"swim\", \"sharks\", \"809\", \"9501\", \"alexis\"], \"textposition\": \"top center\", \"type\": \"scattergl\", \"x\": [8.788020133972168, 9.522700309753418, 9.517410278320312, 9.239889144897461, 12.19477653503418, 11.762225151062012, 9.225887298583984, 8.47351360321045, 11.636083602905273, 10.027711868286133, 11.925854682922363, 11.792498588562012, 12.045074462890625, 12.130373001098633, 10.682781219482422, 11.690197944641113, 12.090289115905762, 10.26412582397461, 10.953271865844727, 12.204469680786133, 12.197957038879395, 8.7760591506958, 12.249232292175293, 9.405444145202637, 11.899218559265137, 11.811699867248535, 11.512773513793945, 11.511549949645996, 11.856607437133789, 10.375962257385254, 10.007128715515137, 10.125749588012695, 11.90652084350586, 10.63268756866455, 11.112382888793945, 8.600367546081543, 11.076478958129883, 11.981121063232422, 9.19433879852295, 10.05135726928711, 11.387739181518555, 9.4636812210083, 10.169782638549805, 11.9287748336792, 12.291516304016113, 12.056129455566406, 12.157370567321777, 9.745729446411133, 11.303606986999512, 10.667465209960938, 8.616286277770996, 10.059021949768066, 12.009282112121582, 11.937585830688477, 8.680891036987305, 11.018576622009277, 11.739459991455078, 11.033777236938477, 9.862961769104004, 10.602696418762207, 9.140399932861328, 11.95654582977295, 9.175058364868164, 10.605441093444824, 10.714615821838379, 12.264101028442383, 11.985689163208008, 8.746271133422852, 9.616944313049316, 11.375214576721191, 9.44648551940918, 11.64064884185791, 12.309062004089355, 9.386548042297363, 11.900388717651367, 11.520532608032227, 9.41873836517334, 11.988567352294922, 11.159381866455078, 12.046244621276855, 10.862957954406738, 9.639150619506836, 12.275934219360352, 11.399506568908691, 10.544682502746582, 10.310017585754395, 10.801294326782227, 10.894214630126953, 7.900104999542236, 9.480204582214355, 10.882861137390137, 10.409194946289062, 11.091586112976074, 8.19343376159668, 12.007596015930176, 9.914721488952637, 11.712627410888672, 9.526727676391602, 9.988192558288574, 10.607560157775879, 12.318205833435059, 10.076786041259766, 9.190186500549316, 11.966029167175293, 9.530376434326172, 10.178439140319824, 11.607239723205566, 12.130560874938965, 7.757109642028809, 11.427458763122559, 8.5794095993042, 11.56174087524414, 10.966362953186035, 10.491408348083496, 10.216796875, 10.342907905578613, 9.289767265319824, 11.839509010314941, 11.836634635925293, 10.771089553833008, 11.715002059936523, 9.36964225769043, 10.710334777832031, 11.777250289916992, 10.857769012451172, 9.149944305419922, 12.607160568237305, 10.09875774383545, 9.248366355895996, 11.81439208984375, 11.335192680358887, 10.439200401306152, 8.318263053894043, 10.750185012817383, 11.423221588134766, 10.289071083068848, 10.459622383117676, 11.650713920593262, 11.052061080932617, 9.666049003601074, 8.670838356018066, 10.347780227661133, 10.918685913085938, 8.735071182250977, 11.964855194091797, 9.001787185668945, 11.05379581451416, 9.727145195007324, 11.786849021911621, 7.961948394775391, 11.512495040893555, 9.723233222961426, 9.862428665161133, 11.665329933166504, 9.977704048156738, 12.563358306884766, 10.068061828613281, 10.483454704284668, 11.289090156555176, 10.325506210327148, 10.987192153930664, 12.552605628967285, 12.087787628173828, 10.346620559692383, 9.373380661010742, 9.646185874938965, 10.705501556396484, 8.9656982421875, 11.551286697387695, 10.17835521697998, 10.51427173614502, 10.35152816772461, 7.786766052246094, 12.038220405578613, 8.916481971740723, 11.413955688476562, 10.081677436828613, 8.776963233947754, 11.195452690124512, 12.128186225891113, 9.895464897155762, 11.884547233581543, 9.978323936462402, 8.885111808776855, 8.846542358398438, 9.925227165222168, 12.641536712646484, 13.527609825134277, 11.328130722045898, 12.662484169006348, 8.137909889221191, 12.320276260375977, 10.847780227661133, 11.277995109558105, 11.419563293457031, 11.59081745147705, 9.630271911621094, 9.49804973602295, 10.674151420593262, 11.634756088256836, 11.3109769821167, 10.80372428894043, 10.183660507202148, 9.305855751037598, 9.84693431854248, 11.432433128356934, 9.449228286743164, 11.999982833862305, 11.277422904968262, 7.859879016876221, 11.988210678100586, 9.705045700073242, 7.9308929443359375, 9.962079048156738, 12.260353088378906, 9.781939506530762, 9.577919006347656, 9.581047058105469, 9.972548484802246, 10.078161239624023, 11.781697273254395, 10.110198020935059, 11.254680633544922, 9.975350379943848, 11.86308479309082, 8.555183410644531, 9.990646362304688, 10.521259307861328, 11.626139640808105, 9.733091354370117, 12.620733261108398, 12.165146827697754, 9.120159149169922, 10.815064430236816, 9.980281829833984, 9.426681518554688, 9.750325202941895, 10.169329643249512, 9.688026428222656, 11.516646385192871, 8.92317008972168, 9.471113204956055, 11.768735885620117, 10.090630531311035, 11.259346961975098, 9.27238655090332, 10.034228324890137, 9.843146324157715, 10.976635932922363, 7.677481651306152, 10.751938819885254, 8.893891334533691, 11.105648040771484, 9.949729919433594, 10.826416969299316, 8.679832458496094, 8.359023094177246, 12.132567405700684, 10.758284568786621, 9.228585243225098, 12.097439765930176, 11.467419624328613, 10.545649528503418, 13.46137523651123, 9.662476539611816, 13.533186912536621, 10.562511444091797, 10.471863746643066, 9.739389419555664, 8.898061752319336, 11.759673118591309, 11.318382263183594, 10.161529541015625, 8.828089714050293, 10.776985168457031, 9.254881858825684, 10.19007396697998, 9.171052932739258, 11.069745063781738, 9.106616973876953, 9.763419151306152, 9.738236427307129, 10.105937957763672, 8.9802827835083, 8.511468887329102, 11.835095405578613, 11.383347511291504, 8.561573028564453, 10.124988555908203, 9.385688781738281, 9.275067329406738, 10.933035850524902, 9.534515380859375, 10.494832992553711, 8.71250057220459, 9.492671966552734, 7.607428550720215, 9.969366073608398, 10.953896522521973, 7.554222106933594, 12.44188117980957, 10.305123329162598, 9.792756080627441, 9.534770965576172, 8.711355209350586, 8.930525779724121, 11.019368171691895, 11.055344581604004, 8.207197189331055, 9.387866020202637, 9.350202560424805, 10.362865447998047, 9.817051887512207, 8.241413116455078, 10.111927032470703, 9.655319213867188, 9.347013473510742, 9.264460563659668, 9.511834144592285, 11.91369915008545, 7.887944221496582, 11.635116577148438, 10.87450122833252, 9.778779029846191, 9.203359603881836, 11.522880554199219, 11.882688522338867, 9.792542457580566, 9.601661682128906, 8.739495277404785, 9.302247047424316, 8.666556358337402, 8.574570655822754, 12.270062446594238, 10.814689636230469, 8.34644603729248, 11.131404876708984, 11.247236251831055, 11.16213321685791, 9.675053596496582, 8.545211791992188, 10.714714050292969, 7.718677997589111, 10.654428482055664, 10.11181926727295, 9.625443458557129, 10.216458320617676, 10.56930923461914, 8.620591163635254, 10.459214210510254, 11.44240951538086, 10.394133567810059, 11.004988670349121, 9.838252067565918, 10.871255874633789, 10.396085739135742, 11.864057540893555, 8.665790557861328, 11.213285446166992, 9.41051197052002, 7.824841499328613, 10.294313430786133, 9.941835403442383, 9.07745361328125, 10.785117149353027, 12.163437843322754, 11.044217109680176, 7.879053115844727, 11.068037033081055, 8.913002967834473, 11.974308013916016, 9.53907585144043, 12.160869598388672, 9.949036598205566, 11.751133918762207, 11.853689193725586, 8.83896541595459, 10.48820686340332, 10.8441801071167, 9.982257843017578, 8.370831489562988, 12.013326644897461, 11.380736351013184, 9.543380737304688, 7.9308881759643555, 9.244075775146484, 8.691133499145508, 10.538957595825195, 9.582603454589844, 11.194289207458496, 7.86810827255249, 9.592806816101074, 11.726668357849121, 10.550619125366211, 10.392181396484375, 10.564462661743164, 8.491551399230957, 10.273091316223145, 12.214980125427246, 8.129019737243652, 8.589301109313965, 12.123102188110352, 7.964934349060059, 8.240434646606445, 8.045059204101562, 10.494651794433594, 11.301403999328613, 7.998758792877197, 9.822315216064453, 8.560908317565918, 8.362844467163086, 10.851240158081055, 8.73489761352539, 9.332783699035645, 9.455846786499023, 10.766596794128418, 8.514242172241211, 9.029956817626953, 12.048057556152344, 9.577190399169922, 7.657944202423096, 11.007232666015625, 10.011550903320312, 11.563422203063965, 11.547178268432617, 8.815471649169922, 9.843029975891113, 11.221923828125, 11.751480102539062, 9.357279777526855, 8.885552406311035, 12.257567405700684, 11.870162963867188, 10.19331169128418, 9.848431587219238, 10.11246109008789, 9.528599739074707, 9.56553840637207, 9.621706008911133, 9.920121192932129, 12.204445838928223, 11.02823543548584, 11.858280181884766, 9.41401481628418, 9.536952018737793, 9.381146430969238, 11.325870513916016, 11.398178100585938, 12.462469100952148, 8.83113956451416, 11.856767654418945, 9.795771598815918, 9.474007606506348, 11.371665000915527, 11.413124084472656, 8.78750228881836, 9.66828727722168, 8.156978607177734, 9.71484375, 12.13000202178955, 10.182090759277344, 10.839860916137695, 8.774328231811523, 10.880970001220703, 9.896886825561523, 8.6632661819458, 8.413860321044922, 8.858468055725098, 8.162097930908203, 7.9759440422058105, 11.26026725769043, 7.952944278717041, 7.507295608520508, 7.696796417236328, 9.188953399658203, 9.120441436767578, 9.227375984191895, 9.793694496154785, 10.45060920715332, 9.529841423034668, 9.89380931854248, 12.04922103881836, 8.431374549865723, 8.848958969116211, 10.181142807006836, 11.38964557647705, 11.836396217346191, 7.794394016265869, 8.109031677246094, 9.095685958862305, 11.114282608032227, 7.905064105987549, 12.223865509033203, 12.014158248901367, 9.968894958496094, 8.72893238067627, 9.676833152770996, 11.03465461730957, 10.072775840759277, 9.415837287902832, 8.353769302368164, 10.019693374633789, 9.456900596618652, 11.322500228881836, 10.16964340209961, 9.586610794067383, 9.395907402038574, 9.751084327697754, 11.779010772705078, 9.309149742126465, 11.272992134094238, 10.502013206481934, 9.168582916259766, 8.915820121765137, 11.401395797729492, 12.07790756225586, 8.323221206665039, 7.745543479919434, 9.727828025817871, 9.557093620300293, 7.7600226402282715, 8.663130760192871, 10.406235694885254, 10.056419372558594, 10.312057495117188, 10.781274795532227, 11.784663200378418, 9.999786376953125, 8.126900672912598, 7.1995649337768555, 9.561076164245605, 11.92435073852539, 10.135796546936035, 9.944038391113281, 10.211554527282715, 10.79738998413086, 9.67301082611084, 10.073283195495605, 10.210284233093262, 9.717312812805176, 8.86151123046875, 10.966917991638184, 9.13823127746582, 9.30653190612793, 9.224289894104004, 9.669768333435059, 7.53182315826416, 10.40853500366211, 11.552777290344238, 12.44348430633545, 8.204015731811523, 7.663703918457031, 11.64070987701416, 8.43057918548584, 10.022920608520508, 10.327263832092285, 9.028738975524902, 9.520547866821289, 11.12160873413086, 9.474839210510254, 9.545538902282715, 8.17821216583252, 13.01893424987793, 11.699169158935547, 8.074917793273926, 8.627436637878418, 9.689789772033691, 11.231648445129395, 12.120692253112793, 8.937575340270996, 9.80843448638916, 10.008058547973633, 11.897625923156738, 9.289603233337402, 9.815999984741211, 10.07107925415039, 12.966178894042969, 10.4689359664917, 10.846257209777832, 10.848997116088867, 10.905759811401367, 12.499938011169434, 9.975966453552246, 12.21003532409668, 9.943344116210938, 9.857259750366211, 9.665831565856934, 10.341578483581543, 9.902359008789062, 10.62978458404541, 10.569591522216797, 12.14882755279541, 9.828398704528809, 10.426236152648926, 11.631269454956055, 11.072728157043457, 8.745092391967773, 8.201123237609863, 9.590595245361328, 10.907818794250488, 10.102974891662598, 9.375286102294922, 8.274795532226562, 11.379433631896973, 10.541695594787598, 11.450739860534668, 11.232126235961914, 11.776573181152344, 9.108226776123047, 11.683012008666992, 11.500340461730957, 10.323933601379395, 11.9426908493042, 7.90040922164917, 11.29554557800293, 12.121845245361328, 8.664416313171387, 9.550101280212402, 10.010398864746094, 10.865632057189941, 10.300220489501953, 9.118864059448242, 10.738070487976074, 8.652263641357422, 11.273513793945312, 10.711018562316895, 9.390398025512695, 8.682075500488281, 8.415918350219727, 9.410311698913574, 10.055855751037598, 9.32158088684082, 9.551764488220215, 9.4650239944458, 9.515461921691895, 7.1319990158081055, 9.220840454101562, 11.548727035522461, 7.585355758666992, 8.323004722595215, 8.243465423583984, 7.931199550628662, 11.074654579162598, 10.737232208251953, 10.854228019714355, 9.810321807861328, 8.242413520812988, 11.190673828125, 11.527670860290527, 11.576526641845703, 8.031571388244629, 10.399702072143555, 9.462271690368652, 11.1654634475708, 9.833208084106445, 8.902643203735352, 11.548079490661621, 11.649003028869629, 10.873722076416016, 9.967544555664062, 9.476692199707031, 11.720258712768555, 12.221481323242188, 9.270214080810547, 11.089571952819824, 10.079611778259277, 8.721025466918945, 11.203815460205078, 11.527270317077637, 9.790661811828613, 8.420867919921875, 9.242566108703613, 8.27872085571289, 8.724961280822754, 9.50564193725586, 8.993880271911621, 10.213719367980957, 8.492768287658691, 8.946564674377441, 11.638140678405762, 8.829811096191406, 10.648469924926758, 11.99028205871582, 10.060417175292969, 8.421866416931152, 10.439555168151855, 8.895105361938477, 11.560576438903809, 10.69278621673584, 8.11892032623291, 9.179616928100586, 12.363556861877441, 9.80762767791748, 11.02297592163086, 9.400879859924316, 8.965879440307617, 11.088534355163574, 8.05257797241211, 9.780699729919434, 12.245390892028809, 11.06948184967041, 10.383011817932129, 10.221148490905762, 11.898077964782715, 11.974382400512695, 9.540276527404785, 11.736888885498047, 11.687744140625, 7.0916242599487305, 9.139533996582031, 11.166299819946289, 12.34196949005127, 8.797381401062012, 10.141095161437988, 9.632669448852539, 11.223782539367676, 10.042464256286621, 8.138285636901855, 9.369667053222656, 9.595519065856934, 10.53656005859375, 11.569804191589355, 10.075547218322754, 9.864031791687012, 10.069300651550293, 10.249088287353516, 9.775125503540039, 10.519450187683105, 10.560918807983398, 7.877631664276123, 10.940569877624512, 10.159637451171875, 11.288094520568848, 9.471701622009277, 8.450201034545898, 10.630352973937988, 10.098210334777832, 11.94286823272705, 9.772173881530762, 8.218709945678711, 8.961151123046875, 9.653863906860352, 10.297372817993164, 10.438178062438965, 10.720627784729004, 7.875131607055664, 8.42811107635498, 10.393965721130371, 11.287266731262207, 9.535792350769043, 8.689835548400879, 9.374435424804688, 9.371224403381348, 11.314275741577148, 10.656806945800781, 8.49097728729248, 10.962417602539062, 10.783129692077637, 9.646559715270996, 8.361875534057617, 9.961295127868652, 9.972006797790527, 9.752392768859863, 11.223115921020508, 10.360518455505371, 12.113785743713379, 8.672163009643555, 9.182353019714355, 8.4885835647583, 11.611603736877441, 8.872903823852539, 8.743874549865723, 10.840719223022461, 10.245437622070312, 8.785005569458008, 9.605913162231445, 9.035812377929688, 10.48038101196289, 8.127553939819336, 10.346027374267578, 11.904919624328613, 8.623920440673828, 12.257805824279785, 8.19015884399414, 11.268838882446289, 8.720995903015137, 9.576998710632324, 10.898214340209961, 11.528488159179688, 8.576347351074219, 8.355690956115723, 7.347024917602539, 10.014166831970215, 11.721691131591797, 9.887813568115234, 10.8934326171875, 10.551645278930664, 7.877863883972168, 10.93099594116211, 8.296865463256836, 12.2227201461792, 8.411321640014648, 8.646342277526855, 10.346476554870605, 8.146744728088379, 11.657722473144531, 7.978744983673096, 9.761641502380371, 10.316716194152832, 12.278410911560059, 12.24027156829834, 12.179743766784668, 12.264931678771973, 12.113581657409668, 12.133901596069336, 12.088607788085938, 12.141288757324219, 10.443267822265625, 9.334160804748535, 11.501773834228516, 10.181957244873047, 12.237616539001465, 9.512176513671875, 11.799747467041016, 10.395960807800293, 12.22244930267334, 10.325339317321777, 10.503459930419922, 10.111693382263184, 10.437673568725586, 10.729948997497559, 9.860608100891113, 10.807425498962402, 9.352951049804688, 12.0340576171875, 10.054555892944336, 9.264111518859863, 9.625662803649902, 11.208419799804688, 10.632576942443848, 9.45271110534668, 10.271916389465332, 10.073287010192871, 8.711323738098145, 9.107122421264648, 7.928184986114502, 8.600645065307617, 12.161619186401367, 11.204875946044922, 11.781071662902832, 10.300721168518066, 9.235922813415527, 11.509347915649414, 11.413284301757812, 8.716839790344238, 10.387276649475098, 9.597519874572754, 7.684420585632324, 11.694839477539062, 9.098913192749023, 11.323094367980957, 8.003339767456055, 9.22713851928711, 10.110223770141602, 9.280631065368652, 12.066243171691895, 10.869841575622559, 12.036783218383789, 10.754227638244629, 7.604162693023682, 10.552960395812988, 9.113714218139648, 9.133708000183105, 7.777324199676514, 8.698812484741211, 11.119382858276367, 10.125723838806152, 7.615450382232666, 10.436846733093262, 8.665292739868164, 8.475982666015625, 10.656146049499512, 10.715418815612793, 11.677056312561035, 10.831477165222168, 9.654264450073242, 10.63184642791748, 9.984539031982422, 10.122631072998047, 10.041875839233398, 9.808135986328125, 9.6521577835083, 11.982083320617676, 11.108283996582031, 13.352189064025879, 8.232057571411133, 9.343803405761719, 11.591535568237305, 9.150500297546387, 7.459887504577637, 8.864995956420898, 8.921364784240723, 10.925056457519531, 9.67636489868164, 8.387615203857422, 8.66598129272461, 9.81387710571289, 9.82245922088623, 9.808130264282227, 8.171862602233887, 8.951656341552734, 11.216731071472168, 8.61182975769043, 8.688642501831055, 9.028006553649902, 10.440864562988281, 7.551397323608398, 12.023488998413086, 8.822327613830566, 8.822484970092773, 9.522079467773438, 9.461377143859863, 8.268461227416992, 8.189474105834961, 11.920502662658691, 9.929715156555176, 13.54792594909668, 9.914698600769043, 10.125344276428223, 10.623910903930664, 9.525918006896973, 8.647868156433105, 11.232973098754883, 11.34428882598877, 10.237014770507812, 10.63032341003418, 9.020017623901367, 9.434183120727539, 9.271903991699219, 7.483099937438965, 10.0264892578125, 11.496671676635742, 11.564579963684082, 11.46134090423584, 11.479408264160156, 11.419012069702148, 11.284631729125977, 11.426079750061035, 9.490141868591309, 10.865429878234863, 11.943315505981445, 10.579411506652832, 9.78193473815918, 8.310279846191406, 12.358419418334961, 10.683052062988281, 10.030611038208008, 9.76781940460205, 12.163766860961914, 10.761125564575195, 9.37619686126709, 8.375184059143066, 8.40023136138916, 10.370135307312012, 10.334856986999512, 8.384940147399902, 8.835709571838379, 11.15018367767334, 11.915118217468262, 10.793304443359375, 9.996740341186523, 10.959989547729492, 10.348305702209473, 11.550302505493164, 11.397677421569824, 11.252793312072754, 8.628227233886719, 7.864523887634277, 8.321471214294434, 8.466031074523926, 8.939315795898438, 10.13692855834961, 10.870363235473633, 11.887051582336426, 11.240415573120117, 9.91604232788086, 11.632913589477539, 11.361824035644531, 9.968182563781738, 9.690979957580566, 12.032792091369629, 8.587991714477539, 9.852639198303223, 8.897187232971191, 9.550877571105957, 11.002025604248047, 7.545843601226807, 11.765660285949707, 11.957945823669434, 11.864346504211426, 9.509028434753418, 11.195100784301758, 10.88277816772461, 10.678236961364746, 10.599381446838379, 10.514008522033691, 10.699674606323242, 9.368700981140137, 11.5426607131958, 9.853337287902832, 11.635635375976562, 9.87199592590332, 8.896303176879883, 9.638947486877441, 8.742303848266602, 8.215444564819336, 7.359414100646973, 8.398975372314453, 10.139647483825684, 8.19113540649414, 11.454556465148926, 10.20366096496582, 9.14297866821289, 10.82900333404541, 11.577584266662598, 11.774985313415527, 9.776932716369629, 11.961273193359375, 11.836852073669434, 10.027078628540039, 10.756840705871582, 8.273208618164062, 9.695490837097168, 9.069741249084473, 9.39950180053711, 10.15921688079834, 9.106249809265137, 9.031542778015137, 11.723918914794922, 11.830747604370117, 11.066819190979004, 9.950501441955566, 9.288909912109375, 10.64112663269043, 10.837919235229492, 10.608327865600586, 10.347711563110352, 10.683195114135742, 10.331183433532715, 10.546772003173828, 9.466492652893066, 10.118158340454102, 10.188777923583984, 10.366400718688965, 9.288440704345703, 11.362977981567383, 7.8629865646362305, 11.69925594329834, 11.696614265441895, 11.8115816116333, 12.229525566101074, 12.192586898803711, 10.593744277954102, 9.454117774963379, 11.243361473083496, 11.903085708618164, 10.600787162780762, 9.3076810836792, 12.018943786621094, 10.196378707885742, 10.128705978393555, 11.029799461364746, 11.575505256652832, 9.244560241699219, 10.07717514038086, 11.006964683532715, 9.643701553344727, 10.324832916259766, 8.67678165435791, 8.56598949432373, 9.346529960632324, 10.686112403869629, 9.438733100891113, 7.814255714416504, 7.680567741394043, 8.3228178024292, 7.647889614105225, 10.089272499084473, 11.122780799865723, 11.058683395385742, 10.193904876708984, 10.3149995803833, 8.401497840881348, 8.232390403747559, 8.19471549987793, 11.257765769958496, 10.886765480041504, 9.718584060668945, 9.86532974243164, 9.702340126037598, 9.459735870361328, 10.441095352172852, 8.859320640563965, 10.514981269836426, 8.595620155334473, 9.666953086853027, 11.181374549865723, 9.181724548339844, 10.729202270507812, 9.085798263549805, 9.879206657409668, 10.985706329345703, 8.217961311340332, 10.196460723876953, 10.472484588623047, 11.019673347473145, 8.09843921661377, 9.249753952026367, 8.687356948852539, 8.705033302307129, 8.411822319030762, 8.984822273254395, 10.205449104309082, 8.880167007446289, 9.061264038085938, 10.111571311950684, 10.313702583312988, 8.320589065551758, 11.572325706481934, 9.838455200195312, 10.70033073425293, 8.734577178955078, 9.602378845214844, 7.158287525177002, 8.145578384399414, 11.172528266906738, 10.215388298034668, 9.092779159545898, 11.121337890625, 11.815077781677246, 8.833913803100586, 10.710872650146484, 7.783870220184326, 11.191746711730957, 9.649785995483398, 7.319917678833008, 10.61613655090332, 9.79918098449707, 8.522679328918457, 11.333362579345703, 8.11130428314209, 9.069389343261719, 9.890436172485352, 9.027557373046875, 8.303546905517578, 10.12769889831543, 10.39725112915039, 11.825733184814453, 11.569122314453125, 8.16197681427002, 8.454822540283203, 8.298349380493164, 10.961252212524414, 7.72652530670166, 8.185259819030762, 8.555314064025879, 10.562214851379395, 9.283583641052246, 9.116060256958008, 11.207736015319824, 8.574379920959473, 11.763105392456055, 11.79075813293457, 10.695868492126465, 9.985689163208008, 10.293110847473145, 10.749558448791504, 8.40245532989502, 8.198101043701172, 10.317540168762207, 9.243118286132812, 9.447669982910156, 8.469810485839844, 7.705482006072998, 8.818472862243652, 9.364405632019043, 9.757478713989258, 9.298163414001465, 8.566194534301758, 12.634167671203613, 11.212831497192383, 12.26309871673584, 10.192415237426758, 12.60435676574707, 10.913464546203613, 9.345381736755371, 12.932073593139648, 11.526253700256348, 10.605745315551758, 11.16943359375, 12.156217575073242, 10.993715286254883, 7.870705604553223, 10.73293399810791, 9.610706329345703, 8.878263473510742, 9.997885704040527, 9.679201126098633, 9.485061645507812, 10.588668823242188, 9.475680351257324, 10.712753295898438, 10.82552719116211, 9.913756370544434, 9.779985427856445, 11.238055229187012, 9.475066184997559, 8.825148582458496, 8.302111625671387, 11.14358139038086, 11.092467308044434, 10.820446014404297, 10.286243438720703, 11.368989944458008, 11.228777885437012, 10.734689712524414, 9.296284675598145, 10.729312896728516, 9.28977108001709, 7.91508150100708, 12.627434730529785, 10.347458839416504, 10.050827980041504, 10.35274600982666, 8.929298400878906, 9.571405410766602, 9.243471145629883, 10.378003120422363, 11.547924995422363, 10.474808692932129, 10.38225269317627, 8.634729385375977, 11.008404731750488, 9.45271110534668, 9.988860130310059, 9.834901809692383, 10.165664672851562, 12.126132011413574, 7.737991809844971, 10.875274658203125, 10.363863945007324, 9.619084358215332, 11.822755813598633, 11.899392127990723, 10.646675109863281, 11.238770484924316, 11.900921821594238, 8.867086410522461, 10.219281196594238, 9.566466331481934, 9.64544677734375, 11.386788368225098, 8.058009147644043, 11.389772415161133, 10.161551475524902, 9.889375686645508, 8.883406639099121, 9.327704429626465, 8.83012866973877, 10.390748023986816, 9.341127395629883, 9.321935653686523, 9.011967658996582, 11.709111213684082, 10.988369941711426, 10.762418746948242, 10.925692558288574, 10.609732627868652, 10.999530792236328, 9.814001083374023, 11.988025665283203, 11.930007934570312, 9.733887672424316, 11.358976364135742, 10.245560646057129, 12.185083389282227, 11.7381010055542, 12.403569221496582, 9.380009651184082, 10.017468452453613, 9.084026336669922, 7.341692924499512, 9.386701583862305, 9.708746910095215, 8.049928665161133, 8.41000747680664, 9.386953353881836, 11.371451377868652, 7.861362457275391, 8.57227611541748, 10.860835075378418, 10.020483016967773, 10.865575790405273, 11.67884635925293, 8.297361373901367, 8.156881332397461, 8.316579818725586, 10.981210708618164, 10.559690475463867, 9.547879219055176, 11.00850772857666, 11.644139289855957, 10.772258758544922, 9.726241111755371, 11.088082313537598, 10.268235206604004, 9.824416160583496, 10.704439163208008, 11.278219223022461, 10.241232872009277, 7.992182731628418, 8.687833786010742, 10.879313468933105, 10.266519546508789, 10.317365646362305, 10.1801118850708, 10.77277660369873, 8.719720840454102, 9.58147144317627, 9.746631622314453, 11.075119972229004, 11.649171829223633, 8.387310028076172, 8.642735481262207, 11.223219871520996, 9.012458801269531, 11.970867156982422, 10.664382934570312, 11.968609809875488, 12.044435501098633, 10.501358032226562, 10.288799285888672, 10.453234672546387, 12.031418800354004, 8.07284927368164, 10.161439895629883, 9.932950019836426, 10.833025932312012, 11.196643829345703, 11.044232368469238, 8.39378833770752, 9.306378364562988, 9.352632522583008, 10.870665550231934, 11.016119956970215, 11.556483268737793, 12.032135963439941, 11.82557201385498, 9.361897468566895, 9.93453311920166, 8.491235733032227, 11.344539642333984, 11.27802562713623, 9.734090805053711, 10.99344253540039, 10.930251121520996, 10.14518928527832, 9.82258129119873, 8.910623550415039, 10.76929759979248, 11.864984512329102, 7.912538051605225, 11.77371883392334, 8.370452880859375, 9.225253105163574, 10.008013725280762, 9.613086700439453, 8.603653907775879, 11.363184928894043, 12.041154861450195, 12.205324172973633, 12.155943870544434, 12.253501892089844, 9.410087585449219, 9.142877578735352, 11.27269458770752, 11.37835693359375, 7.623178958892822, 9.917930603027344, 10.747376441955566, 9.860407829284668, 11.368152618408203, 11.293525695800781, 9.884753227233887, 10.065738677978516, 7.14376163482666, 10.671608924865723, 11.62536334991455, 11.601515769958496, 9.855799674987793, 10.266561508178711, 11.244402885437012, 9.764968872070312, 11.233942031860352, 9.386893272399902, 9.765366554260254, 9.478586196899414, 8.480149269104004, 9.674293518066406, 11.422346115112305, 8.058144569396973, 10.23408317565918, 10.486947059631348, 10.71261978149414, 11.545554161071777, 8.915922164916992, 11.176131248474121, 10.606163024902344, 11.134207725524902, 11.219698905944824, 11.130090713500977, 10.840084075927734, 12.082592964172363, 12.04866886138916, 12.014470100402832, 9.296365737915039, 9.521906852722168, 9.269105911254883, 11.997294425964355, 11.359992980957031, 11.64264965057373, 11.00638198852539, 11.271012306213379, 11.88651180267334, 8.077064514160156, 10.121084213256836, 12.345016479492188, 7.8719401359558105, 9.103900909423828, 8.777253150939941, 11.657573699951172, 10.187642097473145, 10.205862998962402, 10.304290771484375, 11.211358070373535, 9.97619915008545, 10.301639556884766, 11.426918983459473, 11.972142219543457, 10.539247512817383, 8.652337074279785, 7.652429580688477, 8.807963371276855, 12.290109634399414, 10.930452346801758, 10.951756477355957, 8.93370532989502, 9.20538330078125, 9.676393508911133, 10.365260124206543, 10.04560375213623, 10.890898704528809, 11.204242706298828, 8.685754776000977, 12.959087371826172, 8.125920295715332, 9.923138618469238, 11.2865571975708, 10.481729507446289, 7.725122451782227, 8.814824104309082, 9.92391586303711, 10.722208023071289, 8.473755836486816, 9.368557929992676, 10.231758117675781, 11.115795135498047, 9.806978225708008, 8.227423667907715, 9.519871711730957, 11.76875114440918, 9.740412712097168, 10.78110122680664, 8.86202335357666, 11.026604652404785, 10.426557540893555, 8.980171203613281, 11.479817390441895, 8.998805046081543, 11.467219352722168, 8.793647766113281, 11.064346313476562, 9.057713508605957, 11.903702735900879, 9.154845237731934, 9.880180358886719, 11.322321891784668, 7.9704694747924805, 12.045207977294922, 9.284505844116211, 10.192570686340332, 9.033039093017578, 9.665103912353516, 9.100170135498047, 9.233495712280273, 9.22484016418457, 10.433610916137695, 8.880285263061523, 10.605132102966309, 8.032572746276855, 9.737921714782715, 10.569131851196289, 10.668938636779785, 8.708162307739258, 11.295791625976562, 13.5219087600708, 9.571199417114258, 9.041496276855469, 10.528336524963379, 11.285140991210938, 7.334147930145264, 9.065136909484863, 8.861062049865723, 11.507564544677734, 11.193456649780273, 10.995369911193848, 9.945418357849121, 7.84940242767334, 8.739493370056152, 9.378612518310547, 11.561017990112305, 9.027618408203125, 11.379350662231445, 11.94962215423584, 8.071272850036621, 13.465768814086914, 8.704256057739258, 9.536565780639648, 10.141191482543945, 11.733731269836426, 11.006421089172363, 11.1035795211792, 9.960246086120605, 8.915355682373047, 10.894550323486328, 10.622840881347656, 9.597418785095215, 8.349623680114746, 8.68844223022461, 10.317102432250977, 7.685281276702881, 8.731586456298828, 11.718067169189453, 9.514108657836914, 10.285344123840332, 8.86539077758789, 8.592798233032227, 10.673128128051758, 9.841714859008789, 10.922184944152832, 9.952577590942383, 9.782002449035645, 10.16934871673584, 12.070218086242676, 10.577256202697754, 8.624031066894531, 8.905616760253906, 11.57382869720459, 7.9202189445495605, 11.144890785217285, 11.19390869140625, 10.507333755493164, 7.987793922424316, 8.888004302978516, 10.040610313415527, 11.366606712341309, 10.152388572692871, 9.158935546875, 8.18563461303711, 8.796648979187012, 9.873051643371582, 8.542353630065918, 11.321455001831055, 8.88167953491211, 10.173698425292969, 7.5200276374816895, 7.653513431549072, 9.799846649169922, 11.529330253601074, 11.404341697692871, 7.67318058013916, 11.55688190460205, 10.986174583435059, 10.69189739227295, 10.681771278381348, 9.124052047729492, 10.990052223205566, 10.900548934936523, 7.468186855316162, 11.126462936401367, 11.344354629516602, 11.534537315368652, 10.427925109863281, 10.67284870147705, 9.86987590789795, 12.080668449401855, 10.115793228149414, 9.192102432250977, 10.516287803649902, 8.65135669708252, 11.255231857299805, 10.35732364654541, 7.810532093048096, 7.626959323883057, 11.164447784423828, 12.02022647857666, 8.421043395996094, 9.330911636352539, 9.256951332092285, 8.89040756225586, 11.216407775878906, 10.430584907531738, 9.828620910644531, 9.246190071105957, 9.900492668151855, 11.525726318359375, 9.492579460144043, 11.415792465209961, 11.678730964660645, 10.317143440246582, 10.956280708312988, 9.86902141571045, 10.622812271118164, 9.72693157196045, 10.143773078918457, 10.794774055480957, 11.756312370300293, 12.04794692993164, 11.698488235473633, 11.236629486083984, 9.355203628540039, 8.86756706237793, 12.168538093566895, 10.690689086914062, 12.18875503540039, 8.33056640625, 8.241547584533691, 9.499415397644043, 11.698697090148926, 11.119243621826172, 9.382963180541992, 9.480315208435059, 11.562944412231445, 8.572092056274414, 11.301867485046387, 7.654134750366211, 10.792207717895508, 9.37899112701416, 9.298415184020996, 7.960391998291016, 8.120619773864746, 8.719860076904297, 9.314896583557129, 11.46438980102539, 8.834005355834961, 10.943836212158203, 8.832880973815918, 9.128711700439453, 8.584733009338379, 9.2230806350708, 11.825976371765137, 11.922528266906738, 11.556605339050293, 10.750174522399902, 10.02352237701416, 8.905927658081055, 9.0941743850708, 10.735532760620117, 11.022077560424805, 11.317316055297852, 9.763407707214355, 9.452507972717285, 8.969779014587402, 10.711955070495605, 10.874805450439453, 10.577853202819824, 11.975117683410645, 10.492324829101562, 10.031158447265625, 11.554726600646973, 11.08519458770752, 9.452388763427734, 10.923127174377441, 7.713601112365723, 10.295235633850098, 11.0372953414917, 10.363401412963867, 10.594959259033203, 9.466838836669922, 11.239709854125977, 11.556156158447266, 9.251598358154297, 10.509786605834961, 11.630131721496582, 12.12452220916748, 11.122715950012207, 9.501656532287598, 9.48345947265625, 11.259735107421875, 12.022199630737305, 11.769837379455566, 8.399361610412598, 8.366292953491211, 9.832940101623535, 11.586648941040039, 9.101141929626465, 9.731380462646484, 10.206528663635254, 9.637105941772461, 8.907459259033203, 11.135737419128418, 10.370501518249512, 12.101043701171875, 10.699249267578125, 9.369647026062012, 9.999421119689941, 10.025443077087402, 10.068230628967285, 9.962692260742188, 11.462170600891113, 8.587576866149902, 10.147098541259766, 9.929837226867676, 8.824846267700195, 10.215020179748535, 9.025461196899414, 10.662602424621582, 8.963300704956055, 10.24742603302002, 11.775289535522461, 10.34370231628418, 9.858959197998047, 10.04761028289795, 11.264701843261719, 11.308822631835938, 10.408504486083984, 10.461007118225098, 10.167272567749023, 8.600220680236816, 8.984140396118164, 10.101219177246094, 9.872638702392578, 9.71712589263916, 10.847550392150879, 9.593091011047363, 11.738343238830566, 11.32955551147461, 11.59801197052002, 11.702812194824219, 12.560376167297363, 11.924299240112305, 11.725893020629883, 11.800883293151855, 11.748075485229492, 11.559922218322754, 11.528322219848633, 11.671228408813477, 10.756855964660645, 8.390438079833984, 9.385250091552734, 10.603647232055664, 11.471997261047363, 7.7070488929748535, 10.75698471069336, 10.23652172088623, 11.653823852539062, 9.240541458129883, 8.537083625793457, 8.696062088012695, 8.729748725891113, 11.400936126708984, 9.938302993774414, 7.494430065155029, 11.519842147827148, 11.995343208312988, 13.312897682189941, 7.111368179321289, 7.228294372558594, 11.837093353271484, 8.491499900817871, 8.464837074279785, 9.668861389160156, 8.314852714538574, 8.067063331604004, 7.906368255615234, 9.143229484558105, 9.29915714263916, 11.158463478088379, 11.44479751586914, 10.447076797485352, 8.512167930603027, 10.315119743347168, 10.289530754089355, 8.816627502441406, 11.132857322692871, 10.99099063873291, 12.071395874023438, 10.049936294555664, 9.923822402954102, 8.830078125, 10.397944450378418, 10.212934494018555, 10.698308944702148, 10.576323509216309, 9.71573257446289, 9.756013870239258, 11.155017852783203, 9.147880554199219, 11.149166107177734, 12.493193626403809, 9.79801082611084, 10.263402938842773, 12.208670616149902, 11.144468307495117, 10.230632781982422, 8.531603813171387, 7.923429012298584, 9.769940376281738, 9.373237609863281, 9.891695022583008, 9.752359390258789, 10.276544570922852, 10.959874153137207, 8.89004135131836, 8.825282096862793, 11.12194538116455, 8.339427947998047, 10.581117630004883, 10.093574523925781, 8.907401084899902, 9.330256462097168, 10.233033180236816, 10.212818145751953, 10.073755264282227, 9.096845626831055, 9.344951629638672, 10.067991256713867, 11.651632308959961, 9.151293754577637, 9.45366382598877, 9.999288558959961, 11.13460922241211, 11.069263458251953, 9.824978828430176, 11.761656761169434, 11.729873657226562, 8.98692798614502, 11.57882308959961, 12.631754875183105, 12.135589599609375, 9.347710609436035, 10.528413772583008, 9.826628684997559, 10.197956085205078, 10.978686332702637, 10.95533561706543, 12.16946029663086, 10.331116676330566, 9.117059707641602, 9.432861328125, 9.41130256652832, 11.306985855102539, 10.127872467041016, 10.390006065368652, 8.735132217407227, 10.798559188842773, 11.50324535369873, 9.770496368408203, 8.19526481628418, 7.949581623077393, 10.353678703308105, 11.464111328125, 12.094684600830078, 10.609381675720215, 11.442240715026855, 9.875102996826172, 8.697185516357422, 8.869222640991211, 10.251228332519531, 9.965816497802734, 9.415462493896484, 10.604811668395996, 9.74631118774414, 11.46322250366211, 12.118529319763184, 7.982882499694824, 9.998236656188965, 8.328073501586914, 9.810595512390137, 9.838619232177734, 9.058953285217285, 10.274093627929688, 10.463115692138672, 9.224449157714844, 8.566962242126465, 10.54072093963623, 11.194474220275879, 10.926191329956055, 10.378829002380371, 10.904470443725586, 8.299019813537598, 13.516024589538574, 8.114852905273438, 11.293416976928711, 11.144315719604492, 8.978891372680664, 9.707667350769043, 10.650007247924805, 9.581124305725098, 9.812594413757324, 8.734213829040527, 8.945026397705078, 8.95032024383545, 10.077699661254883, 8.318777084350586, 11.218923568725586, 11.73173999786377, 7.896066665649414, 8.87140941619873, 8.093186378479004, 9.760418891906738, 9.808455467224121, 9.82376480102539, 9.05285930633545, 8.805899620056152, 10.4701566696167, 11.03471851348877, 9.779240608215332, 9.214913368225098, 8.020556449890137, 9.940096855163574, 10.566012382507324, 10.27259349822998, 10.765022277832031, 11.26421070098877, 10.572009086608887, 11.130403518676758, 12.105210304260254, 9.010263442993164, 9.340714454650879, 11.078028678894043, 10.474878311157227, 11.371692657470703, 10.541791915893555, 9.217387199401855, 8.886563301086426, 10.858322143554688, 9.532221794128418, 10.57470417022705, 9.560015678405762, 8.07103443145752, 8.382941246032715, 10.208931922912598, 11.319313049316406, 7.970090389251709, 10.021327018737793, 11.91957950592041, 10.984827041625977, 10.763958930969238, 9.427225112915039, 11.456722259521484, 11.15657901763916, 10.459216117858887, 13.55401611328125, 10.997434616088867, 11.01561164855957, 9.1611967086792, 9.524006843566895, 13.55473518371582, 10.389760971069336, 8.948469161987305, 9.217432975769043, 8.592190742492676, 11.766447067260742, 9.800199508666992, 10.492676734924316, 10.209696769714355, 7.900135040283203, 10.520608901977539, 8.593621253967285, 8.686973571777344, 10.15705394744873, 13.551493644714355, 8.81920051574707, 9.758992195129395, 9.985779762268066, 7.726965427398682, 9.6753511428833, 10.137125968933105, 8.111661911010742, 9.877278327941895, 10.436829566955566, 10.002727508544922, 7.3514556884765625, 11.374839782714844, 7.21967887878418, 9.815732955932617, 10.428927421569824, 11.336201667785645, 11.779937744140625, 9.556925773620605, 11.620450019836426, 11.456612586975098, 11.789993286132812, 11.825082778930664, 8.42570972442627, 8.533836364746094, 8.847807884216309, 9.348931312561035, 9.510480880737305, 10.568131446838379, 9.364202499389648, 12.99943733215332, 7.780411243438721, 8.497822761535645, 10.467934608459473, 7.192543983459473, 10.11821460723877, 11.537104606628418, 10.23124885559082, 10.01402473449707, 9.320906639099121, 9.056191444396973, 10.086118698120117, 9.26559829711914, 9.136334419250488, 8.947904586791992, 9.55947208404541, 10.5400972366333, 10.188080787658691, 10.486588478088379, 10.565046310424805, 12.153133392333984, 9.923229217529297, 8.947787284851074, 10.65408992767334, 11.946260452270508, 12.161977767944336, 8.940149307250977, 11.5712308883667, 10.742005348205566, 11.873766899108887, 9.875236511230469, 11.343927383422852, 8.036994934082031, 11.592219352722168, 11.019521713256836, 9.016898155212402, 9.550780296325684, 10.91607666015625, 10.628230094909668, 9.930547714233398, 10.576055526733398, 10.599913597106934, 9.714208602905273, 11.115151405334473, 9.557754516601562, 10.808281898498535, 10.758813858032227, 11.949989318847656, 11.883365631103516, 9.30447769165039, 10.942342758178711, 9.284584999084473, 10.514863014221191, 7.555192947387695, 10.375500679016113, 9.61335563659668, 11.105531692504883, 11.485831260681152, 10.44925308227539, 11.329486846923828, 8.606254577636719, 10.192676544189453, 11.987401008605957, 11.67046070098877, 8.622970581054688, 10.558144569396973, 7.606907844543457, 8.902090072631836, 8.862565994262695, 9.023866653442383, 7.958157539367676, 9.333589553833008, 11.076930046081543, 9.90142822265625, 10.51452922821045, 11.662064552307129, 11.882859230041504, 7.913698673248291, 9.73612117767334, 8.285552024841309, 10.860137939453125, 11.240516662597656, 11.618756294250488, 9.762360572814941, 8.386978149414062, 8.56843376159668, 9.86977767944336, 10.52267837524414, 9.413934707641602, 9.288796424865723, 11.513081550598145, 9.401235580444336, 10.913930892944336, 8.546882629394531, 9.744965553283691, 8.91291618347168, 9.229689598083496, 9.406854629516602, 9.939244270324707, 10.784530639648438, 8.114997863769531, 9.150973320007324, 11.211007118225098, 10.825071334838867, 8.587151527404785, 10.472588539123535, 11.634551048278809, 9.64942741394043, 10.877742767333984, 8.381688117980957, 7.47748327255249, 9.227499008178711, 8.49018383026123, 10.272541999816895, 10.572720527648926, 11.135528564453125, 11.001694679260254, 12.626130104064941, 9.690773963928223, 10.114335060119629, 11.510250091552734, 9.401018142700195, 10.426389694213867, 8.955620765686035, 9.279977798461914, 8.47755241394043, 10.10261058807373, 9.664420127868652, 11.80343246459961, 10.162775993347168, 10.700668334960938, 10.314404487609863, 8.375199317932129, 8.166539192199707, 9.801139831542969, 9.878643035888672, 10.221701622009277, 10.14269733428955, 8.611770629882812, 10.335100173950195, 8.159208297729492, 12.076135635375977, 8.890995979309082, 10.002644538879395, 7.936984539031982, 8.764474868774414, 10.124590873718262, 12.310002326965332, 9.759535789489746, 9.198521614074707, 9.029996871948242, 9.104386329650879, 11.50357437133789, 10.973831176757812, 10.24398422241211, 10.395191192626953, 10.475297927856445, 8.729557037353516, 8.842857360839844, 10.901638984680176, 9.858892440795898, 10.060067176818848, 10.427041053771973, 9.41140365600586, 8.05693244934082, 11.405923843383789, 7.188867092132568, 9.0418701171875, 8.082186698913574, 9.992204666137695, 9.205626487731934, 7.887112140655518, 10.474125862121582, 8.948202133178711, 11.942596435546875, 10.793451309204102, 9.346112251281738, 10.534350395202637, 9.089446067810059, 10.20393180847168, 10.15356159210205, 8.960208892822266, 8.344806671142578, 10.420021057128906, 10.750772476196289, 7.59017276763916, 9.079937934875488, 11.173550605773926, 10.170804023742676, 10.306291580200195, 10.787873268127441, 9.875628471374512, 8.912957191467285, 10.814538955688477, 11.35163688659668, 9.329977989196777, 9.2743558883667, 9.231489181518555, 8.337471961975098, 9.705153465270996, 11.078825950622559, 9.971979141235352, 8.351020812988281, 8.27570915222168, 10.376077651977539, 11.187793731689453, 7.1428937911987305, 8.214302062988281, 7.601677417755127, 11.637189865112305, 7.901999473571777, 8.47433090209961, 8.549251556396484, 8.52568244934082, 10.83896255493164, 8.408559799194336, 11.069777488708496, 8.927084922790527, 8.591042518615723, 7.964973449707031, 9.733257293701172, 10.295599937438965, 8.838570594787598, 9.223030090332031, 10.84431266784668, 10.067646980285645, 8.865777969360352, 7.6757001876831055, 11.223901748657227, 10.441549301147461, 11.38947868347168, 10.613479614257812, 11.532105445861816, 9.32603645324707, 8.458828926086426, 8.621322631835938, 11.151108741760254, 10.887945175170898, 9.937577247619629, 8.01101303100586, 11.411751747131348, 9.839339256286621, 10.403419494628906, 10.677584648132324, 9.791865348815918, 10.006064414978027, 10.09934139251709, 12.259370803833008, 10.264592170715332, 7.912397384643555, 8.431639671325684, 10.022122383117676, 10.31615161895752, 10.098370552062988, 7.6529927253723145, 9.306096076965332, 11.323005676269531, 7.6082916259765625, 10.822389602661133, 9.746271133422852, 12.627315521240234, 11.417021751403809, 9.72612476348877, 8.383265495300293, 11.140355110168457, 11.151741027832031, 11.219133377075195, 11.206714630126953, 11.34155559539795, 10.556413650512695, 9.785429954528809, 10.694108009338379, 7.7170820236206055, 10.011075973510742, 9.318506240844727, 11.269597053527832, 11.743354797363281, 11.172579765319824, 7.9009623527526855, 9.6693696975708, 11.455254554748535, 9.65546703338623, 10.40549373626709, 9.432629585266113, 10.747689247131348, 9.700837135314941, 9.658333778381348, 9.350441932678223, 11.291265487670898, 10.608542442321777, 10.253087997436523, 10.847602844238281, 10.312548637390137, 11.355020523071289, 9.888662338256836, 11.017155647277832, 9.43205451965332, 10.50955867767334, 9.871376037597656, 8.916622161865234, 9.894023895263672, 9.949158668518066, 10.609277725219727, 9.783514022827148, 10.222806930541992, 9.824886322021484, 11.907837867736816, 8.520435333251953, 11.208022117614746, 8.898890495300293, 10.379923820495605, 10.629704475402832, 9.314005851745605, 8.978837013244629, 9.878360748291016, 10.091991424560547, 8.514578819274902, 11.675264358520508, 8.405264854431152, 9.436227798461914, 9.98847484588623, 10.363215446472168, 10.392683029174805, 11.015851020812988, 9.28760051727295, 11.533493995666504, 9.981607437133789, 9.464303016662598, 11.505841255187988, 10.803208351135254, 10.8733491897583, 10.842698097229004, 7.499353408813477, 11.723018646240234, 11.332062721252441, 9.971771240234375, 10.250307083129883, 10.134638786315918, 10.786555290222168, 9.416027069091797, 9.339094161987305, 8.547107696533203, 10.87255859375, 10.822307586669922, 10.334790229797363, 8.794952392578125, 9.334268569946289, 9.559486389160156, 11.070540428161621, 10.922615051269531, 7.993247985839844, 12.280912399291992, 9.361275672912598, 9.783184051513672, 8.391312599182129, 10.408705711364746, 10.467312812805176, 10.390695571899414, 10.643837928771973, 11.224225997924805, 10.173471450805664, 10.687681198120117, 10.530009269714355, 11.59399700164795, 9.450209617614746, 10.371326446533203, 9.928228378295898, 9.203778266906738, 10.025548934936523, 12.903075218200684, 11.022829055786133, 8.831908226013184, 9.43974781036377, 10.556998252868652, 10.151185035705566, 9.623933792114258, 9.236251831054688, 9.394604682922363, 10.659302711486816, 9.237931251525879, 10.70752239227295, 9.539765357971191, 9.915709495544434, 8.798713684082031, 9.608105659484863, 11.059494018554688, 9.498046875, 10.269927024841309, 9.277786254882812, 11.373838424682617, 11.541025161743164, 10.5136137008667, 10.026348114013672, 8.930839538574219, 10.74876594543457, 9.291462898254395, 9.06807804107666, 9.017329216003418, 10.104606628417969, 9.879098892211914, 9.935158729553223, 11.335036277770996, 9.992752075195312, 9.79268741607666, 10.115372657775879, 9.347482681274414, 10.53908634185791, 11.007898330688477, 10.586465835571289, 10.12878704071045, 10.103588104248047, 10.917679786682129, 11.164783477783203, 11.439949035644531, 9.982478141784668, 10.392289161682129, 10.528894424438477, 11.993115425109863, 10.387003898620605, 11.82385540008545, 7.542064189910889, 9.80418586730957, 12.067610740661621, 9.304977416992188, 11.480502128601074, 11.519895553588867, 11.535540580749512, 12.1168794631958, 8.877492904663086, 10.467246055603027, 10.601032257080078, 8.51063346862793, 11.245538711547852, 9.924029350280762, 10.755707740783691, 9.005654335021973, 7.974188327789307, 10.028071403503418, 8.430527687072754, 11.422077178955078, 8.929594993591309, 11.358843803405762, 10.301229476928711, 11.575217247009277, 11.463913917541504, 10.248924255371094, 9.063201904296875, 11.867974281311035, 9.781890869140625, 8.730645179748535, 10.316091537475586, 8.744176864624023, 12.118973731994629, 10.303302764892578, 10.329310417175293, 11.1521577835083, 13.453218460083008, 11.088991165161133, 11.696943283081055, 9.956707000732422, 12.221246719360352, 11.785575866699219, 9.60000991821289, 10.905369758605957, 10.960868835449219, 10.700711250305176, 10.72933292388916, 10.714289665222168, 8.836591720581055, 8.027743339538574, 8.9935302734375, 8.779117584228516, 11.00120735168457, 9.403100967407227, 9.555002212524414, 11.182819366455078, 9.803998947143555, 9.835150718688965, 8.888941764831543, 7.957421779632568, 8.266650199890137, 10.152291297912598, 10.996174812316895, 10.327346801757812, 11.111210823059082, 10.585541725158691, 12.109313011169434, 9.573514938354492, 8.579758644104004, 10.639535903930664, 9.265860557556152, 10.408927917480469, 10.040995597839355, 10.745238304138184, 8.9041109085083, 8.31295394897461, 11.035386085510254, 10.851737022399902, 10.531982421875, 8.020281791687012, 11.50988483428955, 10.17952823638916, 10.130631446838379, 9.996793746948242, 9.661356925964355, 9.482388496398926, 7.741559982299805, 11.285572052001953, 10.670225143432617, 10.5079927444458, 9.851177215576172, 10.292969703674316, 9.837348937988281, 8.749245643615723, 11.164190292358398, 9.703692436218262, 10.276407241821289, 8.390057563781738, 8.40368366241455, 10.087519645690918, 10.031475067138672, 9.611349105834961, 11.843729019165039, 10.24679946899414, 9.27169132232666, 9.665783882141113, 10.963144302368164, 8.183131217956543, 8.840968132019043, 10.819046020507812, 10.880070686340332, 9.110342979431152, 8.955968856811523, 10.321228981018066, 10.474974632263184, 11.888200759887695, 8.698990821838379, 11.555119514465332, 10.108409881591797, 9.53619384765625, 10.000627517700195, 10.432660102844238, 10.578438758850098, 10.071416854858398, 10.650504112243652, 8.261786460876465, 10.32005786895752, 8.187252044677734, 7.926852226257324, 11.278299331665039, 10.50680160522461, 12.182971000671387, 10.610837936401367, 10.59290599822998, 9.968718528747559, 12.536395072937012, 7.8418474197387695, 8.363086700439453, 7.962034225463867, 9.418014526367188, 8.569223403930664, 11.80246353149414, 10.465752601623535, 8.512435913085938, 10.882139205932617, 10.655071258544922, 8.399999618530273, 10.935890197753906, 9.209305763244629, 7.180131435394287, 11.532988548278809, 10.41728401184082, 10.408392906188965, 9.46872329711914, 7.940869331359863, 9.645881652832031, 11.539182662963867, 7.963073253631592, 10.564596176147461, 11.55648422241211, 10.779753684997559, 8.878701210021973, 11.169933319091797, 10.83296012878418, 12.233037948608398, 12.02648639678955, 10.427733421325684, 9.803027153015137, 11.270487785339355, 11.302461624145508, 11.188664436340332, 11.059249877929688, 9.224935531616211, 11.24171257019043, 10.62739372253418, 8.380438804626465, 11.516705513000488, 8.869490623474121, 10.223533630371094, 8.46302318572998, 10.576045036315918, 9.266097068786621, 9.528777122497559, 9.809564590454102, 10.219442367553711, 11.414421081542969, 11.483988761901855, 10.593367576599121, 10.717300415039062, 11.369974136352539, 11.037911415100098, 12.222616195678711, 9.666358947753906, 8.56532096862793, 9.686821937561035, 8.385553359985352, 11.22375774383545, 8.358054161071777, 11.011334419250488, 8.662184715270996, 10.499373435974121, 10.415371894836426, 10.384360313415527, 9.278998374938965, 9.593221664428711, 8.72745418548584, 8.51697063446045, 10.3544921875, 9.367433547973633, 12.032407760620117, 11.777763366699219, 9.331440925598145, 10.616782188415527, 10.802818298339844, 10.748374938964844, 10.233699798583984, 10.303871154785156, 8.756635665893555, 10.69580078125, 9.608240127563477, 9.55745792388916, 11.21638298034668, 12.057555198669434, 7.9544854164123535, 9.635951042175293, 10.83719539642334, 10.087489128112793, 11.291210174560547, 10.230781555175781, 10.524815559387207, 9.675474166870117, 8.89190673828125, 13.518549919128418, 11.355027198791504, 10.43912124633789, 10.211835861206055, 10.182510375976562, 9.982308387756348, 10.891011238098145, 9.74639892578125, 10.040938377380371, 11.437188148498535, 8.234075546264648, 7.714113235473633, 10.282161712646484, 10.110358238220215, 10.3643159866333, 11.344705581665039, 9.85860824584961, 11.351409912109375, 10.23709774017334, 11.812600135803223, 8.94334888458252, 10.690970420837402, 10.761640548706055, 10.254217147827148, 8.355494499206543, 9.34383773803711, 9.250038146972656, 8.393837928771973, 12.18833065032959, 10.32615852355957, 8.006258010864258, 9.752181053161621, 10.433340072631836, 10.967866897583008, 11.5375394821167, 11.616575241088867, 11.03761100769043, 8.895548820495605, 9.380475997924805, 9.701582908630371, 10.941324234008789, 10.36539363861084, 10.43051815032959, 9.401632308959961, 13.565658569335938, 9.851916313171387, 10.617171287536621, 8.946457862854004, 9.012907981872559, 10.182329177856445, 10.370821952819824, 11.506033897399902, 11.144299507141113, 10.2869291305542, 10.287013053894043, 11.626031875610352, 10.74599552154541, 10.915555953979492, 9.363303184509277, 9.604939460754395, 9.65267562866211, 9.819360733032227, 9.326679229736328, 9.289593696594238, 8.439627647399902, 11.486678123474121, 9.408695220947266, 9.387447357177734, 9.617154121398926, 11.345817565917969, 8.612775802612305, 10.229681968688965, 10.26826286315918, 7.93412971496582, 10.267439842224121, 7.967275619506836, 11.135259628295898, 9.85461139678955, 9.661635398864746, 8.647592544555664, 9.969409942626953, 8.829268455505371, 10.365925788879395, 10.617782592773438, 9.510610580444336, 10.67753791809082, 9.864185333251953, 11.263016700744629, 8.680047988891602, 9.066675186157227, 10.840618133544922, 9.488256454467773, 9.555935859680176, 10.209716796875, 10.385421752929688, 11.409884452819824, 11.821954727172852, 11.495828628540039, 10.766708374023438, 10.315332412719727, 9.668517112731934, 8.931385040283203, 8.161049842834473, 8.22826862335205, 8.355712890625, 8.77437686920166, 7.230588436126709, 9.42293930053711, 10.00283145904541, 9.665726661682129, 9.059239387512207, 10.976720809936523, 10.581270217895508, 10.479841232299805, 10.215713500976562, 10.841642379760742, 8.678363800048828, 9.970646858215332, 10.5230131149292, 8.545388221740723, 10.289690971374512, 9.203363418579102, 10.749505043029785, 7.713752746582031, 13.339500427246094, 8.955933570861816, 9.874109268188477, 8.097960472106934, 8.810622215270996, 9.839909553527832, 11.913925170898438, 7.096426963806152, 10.965517044067383, 10.288528442382812, 12.076199531555176, 8.603675842285156, 10.485811233520508, 10.057415962219238, 10.42468547821045, 10.682024955749512, 8.554283142089844, 11.7431058883667, 10.580079078674316, 10.942937850952148, 7.2396240234375, 10.07862663269043, 10.381571769714355, 10.743958473205566, 11.641168594360352, 9.295543670654297, 11.438385009765625, 9.966391563415527, 10.73202896118164, 10.356189727783203, 9.821053504943848, 11.099862098693848, 11.120965003967285, 11.563027381896973, 10.030268669128418, 10.773788452148438, 9.911553382873535, 9.994818687438965, 11.420029640197754, 10.03436279296875, 9.970358848571777, 9.909143447875977, 9.621145248413086, 7.900060653686523, 11.343975067138672, 10.706099510192871, 10.50738525390625, 8.147119522094727, 9.067615509033203, 7.922166347503662, 9.24441909790039, 7.96599006652832, 9.72415828704834, 9.126482963562012, 9.11966323852539, 9.34126091003418, 11.179758071899414, 9.287193298339844, 11.117444038391113, 10.929677963256836, 10.630897521972656, 7.997623443603516, 8.748867988586426, 8.72518539428711, 9.468475341796875, 9.65113353729248, 10.225308418273926, 10.595664978027344, 11.50658130645752, 10.956623077392578, 9.270788192749023, 8.850935935974121, 11.723840713500977, 9.28752326965332, 9.767635345458984, 11.68276309967041, 10.477299690246582, 10.805414199829102, 10.467604637145996, 7.955069541931152, 8.47803783416748, 7.257940292358398, 10.67817497253418, 11.558175086975098, 9.277217864990234, 10.207963943481445, 10.317672729492188, 11.528536796569824, 11.627447128295898, 10.408722877502441, 11.166190147399902, 9.003097534179688, 9.238092422485352, 11.972428321838379, 11.886797904968262, 8.216403007507324, 12.425403594970703, 11.623918533325195, 10.68491268157959, 9.731230735778809, 10.247941970825195, 11.172894477844238, 11.321284294128418, 13.353046417236328, 13.021114349365234, 12.24573040008545, 8.810192108154297, 9.556868553161621, 8.015807151794434, 8.511712074279785, 10.095928192138672, 10.159862518310547, 8.737630844116211, 8.354205131530762, 9.371465682983398, 9.640264511108398, 9.449785232543945, 9.21872615814209, 10.436488151550293, 10.478438377380371, 11.309124946594238, 10.213546752929688, 11.309093475341797, 12.069772720336914, 9.843756675720215, 11.20079517364502, 10.32155704498291, 10.214180946350098, 9.986008644104004, 10.541400909423828, 10.22712230682373, 9.554949760437012, 11.81800365447998, 11.208088874816895, 11.68995475769043, 9.076580047607422, 11.057809829711914, 10.510571479797363, 11.392123222351074, 9.648079872131348, 7.960332870483398, 9.909174919128418, 10.371854782104492, 9.52301025390625, 9.173402786254883, 8.283751487731934, 10.726703643798828, 11.486055374145508, 9.630208015441895, 10.778924942016602, 11.865131378173828, 10.438072204589844, 10.964771270751953, 10.224016189575195, 10.053471565246582, 10.118982315063477, 9.040678024291992, 9.2686128616333, 10.193365097045898, 10.406221389770508, 10.304795265197754, 10.59286117553711, 8.473922729492188, 8.772008895874023, 10.632230758666992, 9.210626602172852, 10.668201446533203, 10.74323844909668, 11.380112648010254, 11.536151885986328, 11.266820907592773, 11.846951484680176, 10.859569549560547, 9.671154975891113, 8.009827613830566, 10.367635726928711, 7.897159099578857, 9.035759925842285, 8.699259757995605, 10.658127784729004, 10.293420791625977, 8.991728782653809, 9.104265213012695, 11.473614692687988, 7.931830883026123, 10.625807762145996, 10.715673446655273, 10.135515213012695, 8.938284873962402, 12.602433204650879, 8.011954307556152, 9.56264591217041, 12.951688766479492, 11.708453178405762, 9.489653587341309, 11.383759498596191, 11.339632987976074, 9.926305770874023, 9.651634216308594, 8.888001441955566, 9.582601547241211, 9.539355278015137, 9.003843307495117, 10.675607681274414, 9.221762657165527, 7.977294921875, 9.093619346618652, 9.588127136230469, 10.272892951965332, 11.47403621673584, 12.233469009399414, 8.976603507995605, 12.217334747314453, 8.14803409576416, 11.911983489990234, 9.523852348327637, 11.671334266662598, 9.255056381225586, 10.135499000549316, 13.399489402770996, 10.703866958618164, 10.011518478393555, 11.063302040100098, 10.619339942932129, 8.8106107711792, 8.645262718200684, 11.781940460205078, 11.941869735717773, 10.921865463256836, 12.130515098571777, 8.445125579833984, 11.670658111572266, 11.24069595336914, 8.785371780395508, 9.03354263305664, 9.53468132019043, 9.969882011413574, 11.285688400268555, 9.320584297180176, 9.678815841674805, 9.230981826782227, 9.545754432678223, 11.83045768737793, 10.985453605651855, 9.82650375366211, 8.376023292541504, 9.982714653015137, 9.408413887023926, 9.829606056213379, 9.771689414978027, 9.682762145996094, 11.212586402893066, 9.940951347351074, 9.517708778381348, 12.567474365234375, 9.571124076843262, 11.793652534484863, 10.31432056427002, 9.682151794433594, 9.908717155456543, 10.169456481933594, 9.413053512573242, 9.739760398864746, 9.23759937286377, 8.005871772766113, 10.173110961914062, 9.801576614379883, 9.26793384552002, 9.866180419921875, 12.377250671386719, 11.519411087036133, 8.878408432006836, 9.000829696655273, 8.687005043029785, 9.25545597076416, 8.880066871643066, 10.648663520812988, 10.413395881652832, 10.128000259399414, 10.113890647888184, 11.506108283996582, 9.993881225585938, 11.636861801147461, 11.285374641418457, 11.313071250915527, 10.160645484924316, 10.345236778259277, 9.483960151672363, 9.207249641418457, 10.489501953125, 8.677380561828613, 8.184770584106445, 10.855085372924805, 10.358016967773438, 9.63949203491211, 8.845005989074707, 9.73561954498291, 9.70716667175293, 10.110435485839844, 12.19040298461914, 8.833208084106445, 9.013176918029785, 12.280375480651855, 9.850217819213867, 9.887502670288086, 8.96458911895752, 10.71465015411377, 11.589733123779297, 10.569780349731445, 11.980544090270996, 8.480330467224121, 10.12565803527832, 8.102185249328613, 8.370582580566406, 10.688493728637695, 11.097040176391602, 9.546770095825195, 8.341792106628418, 11.197468757629395, 10.52472972869873, 8.108017921447754, 10.353994369506836, 11.726988792419434, 10.432600021362305, 10.388065338134766, 7.906849384307861, 10.956202507019043, 10.949357032775879, 10.152921676635742, 8.676604270935059, 8.93942928314209, 9.825018882751465, 11.835343360900879, 11.243826866149902, 10.977608680725098, 10.602705955505371, 9.585366249084473, 10.29611587524414, 8.84165096282959, 9.420937538146973, 10.409754753112793, 9.666522026062012, 10.615528106689453, 9.158642768859863, 8.079126358032227, 10.627906799316406, 10.457355499267578, 9.88143539428711, 12.060892105102539, 10.275830268859863, 10.619234085083008, 11.443339347839355, 10.847548484802246, 11.58226203918457, 9.748889923095703, 11.20974349975586, 10.977368354797363, 9.962301254272461, 10.303613662719727, 10.238286018371582, 9.42729663848877, 11.180014610290527, 12.091031074523926, 8.794891357421875, 11.782339096069336, 11.748374938964844, 7.88433837890625, 8.346000671386719, 8.57160472869873, 10.736544609069824, 11.469850540161133, 7.756054401397705, 10.956336975097656, 9.800814628601074, 9.818801879882812, 9.721324920654297, 10.194778442382812, 10.804675102233887, 10.341374397277832, 11.257905006408691, 10.779459953308105, 10.09548568725586, 11.163928985595703, 9.202888488769531, 9.497239112854004, 11.963939666748047, 9.926974296569824, 9.781684875488281, 10.824934959411621, 9.514206886291504, 7.945354461669922, 8.011235237121582, 8.720991134643555, 10.065437316894531, 8.028679847717285, 11.079914093017578, 8.746840476989746, 11.03136157989502, 9.298171043395996, 11.866057395935059, 9.168564796447754, 9.676909446716309, 8.746182441711426, 9.799956321716309, 9.383749961853027, 9.218067169189453, 9.187469482421875, 9.394065856933594, 10.978541374206543, 10.731315612792969, 11.294217109680176, 8.354096412658691, 9.975337982177734, 13.443832397460938, 10.2921142578125, 7.194002628326416, 7.957616806030273, 8.541014671325684, 11.138289451599121, 9.666516304016113, 8.599518775939941, 8.840136528015137, 11.284261703491211, 11.545639038085938, 10.734524726867676, 8.81005859375, 9.873549461364746, 8.402777671813965, 9.41303825378418, 10.158252716064453, 11.280097961425781, 11.78148078918457, 10.167359352111816, 10.298542976379395, 9.933965682983398, 9.390040397644043, 11.85953426361084, 9.592557907104492, 9.928060531616211, 9.939303398132324, 9.523184776306152, 10.71529769897461, 12.082329750061035, 7.9672441482543945, 8.061003684997559, 10.454208374023438, 11.729504585266113, 10.134400367736816, 9.792990684509277, 9.478453636169434, 9.805423736572266, 11.096644401550293, 9.760080337524414, 9.674622535705566, 11.656070709228516, 11.683602333068848, 10.394031524658203, 8.812955856323242, 9.86270523071289, 10.243054389953613, 11.267940521240234, 9.877546310424805, 10.149213790893555, 10.072484016418457, 9.736123085021973, 11.233304023742676, 9.014081001281738, 11.604902267456055, 8.937875747680664, 8.953340530395508, 8.290631294250488, 11.435235023498535, 10.188284873962402, 10.270500183105469, 9.657868385314941, 10.375287055969238, 10.468292236328125, 11.308362007141113, 9.501729965209961, 10.92807674407959, 7.733638286590576, 11.205265998840332, 8.117655754089355, 11.731464385986328, 9.370914459228516, 10.52114486694336, 8.311090469360352, 8.451482772827148, 12.954011917114258, 9.709977149963379, 10.400128364562988, 11.199821472167969, 8.860883712768555, 8.267135620117188, 9.465547561645508, 8.08510971069336, 8.68900203704834, 8.772347450256348, 12.981045722961426, 8.743114471435547, 8.416431427001953, 10.29948902130127, 10.319862365722656, 9.961132049560547, 10.134313583374023, 10.47912311553955, 10.649458885192871, 9.56955337524414, 10.30556583404541, 11.034756660461426, 12.068205833435059, 11.199286460876465, 11.092470169067383, 10.657197952270508, 10.924405097961426, 8.346070289611816, 10.206034660339355, 11.35388469696045, 10.697041511535645, 10.14677619934082, 10.895533561706543, 8.777827262878418, 8.951783180236816, 11.718603134155273, 7.508387565612793, 9.73594856262207, 10.011748313903809, 10.581206321716309, 10.871228218078613, 8.619248390197754, 8.960614204406738, 11.863085746765137, 8.495747566223145, 8.957304954528809, 11.610979080200195, 9.375648498535156, 10.61745834350586, 9.284512519836426, 13.457813262939453, 10.79784870147705, 9.003286361694336, 10.569140434265137, 8.324019432067871, 8.178815841674805, 8.675342559814453, 10.84294319152832, 9.507932662963867, 7.917995929718018, 10.078021049499512, 10.031010627746582, 9.292810440063477, 10.501312255859375, 10.573614120483398, 8.979780197143555, 8.730413436889648, 8.844236373901367, 11.236682891845703, 11.736793518066406, 9.280848503112793, 9.658267974853516, 9.875913619995117, 8.12517261505127, 9.101327896118164, 12.24031925201416, 8.648724555969238, 8.90474796295166, 9.86267375946045, 10.664315223693848, 10.856791496276855, 10.926506042480469, 10.530861854553223, 10.851370811462402, 8.88927173614502, 10.601036071777344, 9.566008567810059, 9.040234565734863, 8.721551895141602, 10.39870834350586, 8.711747169494629, 9.552969932556152, 8.446228981018066, 8.405810356140137, 8.436064720153809, 11.68258285522461, 11.703250885009766, 9.625389099121094, 9.559593200683594, 8.750277519226074, 8.067391395568848, 9.384052276611328, 9.270628929138184, 9.64517593383789, 12.033732414245605, 11.033256530761719, 10.010805130004883, 9.557883262634277, 9.722308158874512, 9.689035415649414, 9.956910133361816, 10.017681121826172, 10.959120750427246, 11.423954010009766, 11.493785858154297, 9.464071273803711, 12.012045860290527, 11.809978485107422, 9.35975456237793, 9.230454444885254, 10.032032012939453, 9.309041976928711, 9.71461296081543, 10.001105308532715, 11.943575859069824, 9.651984214782715, 11.88994026184082, 10.396822929382324, 9.601247787475586, 10.9536714553833, 9.269597053527832, 9.985125541687012, 7.266052722930908, 8.99789810180664, 9.303153038024902, 11.345879554748535, 8.165557861328125, 10.384634971618652, 10.295619010925293, 10.279969215393066, 9.22850513458252, 9.218351364135742, 8.908581733703613, 7.959855079650879, 10.755858421325684, 7.626511573791504, 10.472957611083984, 10.591071128845215, 9.717528343200684, 10.754524230957031, 11.200613975524902, 9.011669158935547, 11.323837280273438, 9.960403442382812, 7.6642961502075195, 8.218110084533691, 7.3283162117004395, 9.776683807373047, 11.791722297668457, 12.130308151245117, 10.618243217468262, 11.098344802856445, 11.808515548706055, 10.901049613952637, 7.645186424255371, 10.738471031188965, 7.692120552062988, 11.168386459350586, 9.900070190429688, 10.463850975036621, 7.884343147277832, 8.918766975402832, 8.742798805236816, 8.867898941040039, 9.109537124633789, 9.050797462463379, 8.22126293182373, 10.841808319091797, 7.919921875, 10.169051170349121, 8.430505752563477, 10.699908256530762, 8.483263969421387, 7.746594429016113, 9.332496643066406, 13.539055824279785, 11.052331924438477, 8.44917106628418, 8.383722305297852, 9.946110725402832, 9.101558685302734, 11.128290176391602, 8.816267967224121, 9.958033561706543, 8.195225715637207, 11.197075843811035, 11.122138977050781, 11.19407844543457, 10.863550186157227, 9.769659042358398, 11.049412727355957, 11.683953285217285, 11.791516304016113, 11.73393440246582, 11.562935829162598, 10.639604568481445, 8.654936790466309, 9.52872371673584, 9.186039924621582, 11.245655059814453, 9.625516891479492, 8.610366821289062, 8.923297882080078, 9.03181266784668, 8.784682273864746, 11.695464134216309, 10.627843856811523, 9.647221565246582, 10.93055248260498, 11.075908660888672, 11.110919952392578, 11.415631294250488, 8.21491527557373, 9.671066284179688, 11.65343952178955, 10.705410957336426, 10.673843383789062, 9.719685554504395, 9.972769737243652, 10.650959968566895, 9.968504905700684, 10.163716316223145, 8.746500015258789, 8.445964813232422, 7.212501049041748, 7.224384307861328, 10.275525093078613, 11.324681282043457, 10.636066436767578, 9.018596649169922, 10.789773941040039, 10.721282958984375, 9.319465637207031, 9.278234481811523, 7.751777172088623, 11.06545639038086, 11.21393871307373, 7.694612503051758, 11.153451919555664, 8.686677932739258, 8.923219680786133, 10.61063003540039, 10.605459213256836, 10.058777809143066, 10.423480033874512, 11.232211112976074, 10.521656036376953, 11.158859252929688, 9.540470123291016, 11.14362621307373, 10.670982360839844, 8.024175643920898, 11.15719985961914, 7.792109966278076, 9.893463134765625, 10.646699905395508, 10.482290267944336, 10.484526634216309, 11.217658996582031, 7.2503838539123535, 11.297598838806152, 9.938311576843262, 12.468496322631836, 11.202005386352539, 10.225560188293457, 12.047242164611816, 7.903407096862793, 9.123169898986816, 9.244039535522461, 8.939776420593262, 13.456653594970703, 9.563027381896973, 12.044278144836426, 11.200233459472656, 10.720176696777344, 10.344501495361328, 12.618408203125, 11.329911231994629, 10.177037239074707, 12.231192588806152, 8.346506118774414, 9.52034854888916, 10.200850486755371, 9.404583930969238, 8.867644309997559, 11.285662651062012, 11.732743263244629, 9.731708526611328, 10.824652671813965, 10.275136947631836, 11.201704025268555, 10.608160972595215, 8.39693546295166, 9.832571029663086, 11.63860034942627, 13.42840576171875, 8.62872314453125, 9.716410636901855, 9.562369346618652, 7.87692403793335, 10.295553207397461, 10.519805908203125, 9.121052742004395, 8.460577011108398, 10.646270751953125, 10.392395973205566, 10.404875755310059, 10.558724403381348, 10.183648109436035, 9.330293655395508, 9.439316749572754, 11.886777877807617, 9.373055458068848, 8.940962791442871, 11.725616455078125, 8.391664505004883, 8.145228385925293, 9.89232063293457, 9.812662124633789, 8.739023208618164, 9.478513717651367, 7.81317138671875, 8.729320526123047, 9.71764087677002, 8.697142601013184, 7.92716121673584, 9.646649360656738, 10.700798034667969, 10.120655059814453, 10.462562561035156, 9.433701515197754, 10.074475288391113, 8.59102725982666, 8.412556648254395, 9.97587776184082, 9.995298385620117, 11.961664199829102, 11.894694328308105, 11.76751708984375, 9.505267143249512, 9.223048210144043, 8.992969512939453, 9.260854721069336, 11.496495246887207, 8.201974868774414, 9.75698471069336, 9.044593811035156, 9.458395957946777, 10.390552520751953, 10.138529777526855, 11.859413146972656, 9.168249130249023, 10.249984741210938, 10.350446701049805, 11.23684310913086, 8.816184043884277, 9.082900047302246, 9.975931167602539, 9.631807327270508, 11.46435832977295, 10.427978515625, 12.081120491027832, 8.532419204711914, 11.140599250793457, 9.86486530303955, 10.444887161254883, 9.774048805236816, 8.92286205291748, 9.602295875549316, 10.963711738586426, 11.235642433166504, 11.634081840515137, 11.304777145385742, 11.586564064025879, 8.33439826965332, 11.314519882202148, 10.751328468322754, 10.634078979492188, 8.602721214294434, 9.515008926391602, 11.549551963806152, 10.033159255981445, 9.484530448913574, 10.08334732055664, 9.099093437194824, 10.267199516296387, 10.806804656982422, 11.303878784179688, 10.623112678527832, 10.126192092895508, 10.909692764282227, 9.936979293823242, 7.517786502838135, 10.477897644042969, 11.400172233581543, 7.236240386962891, 8.429692268371582, 7.780989170074463, 7.625947952270508, 9.983735084533691, 7.231431007385254, 7.898878574371338, 11.239359855651855, 11.43576431274414, 11.38344669342041, 11.35836410522461, 10.885019302368164, 8.334227561950684, 8.30234146118164, 9.893290519714355, 8.778172492980957, 11.189411163330078, 8.214594841003418, 9.102049827575684, 9.237882614135742, 11.234737396240234, 9.698845863342285, 9.595524787902832, 8.56284236907959, 7.957302570343018, 9.113754272460938, 8.627729415893555, 7.376248836517334, 9.292179107666016, 9.334851264953613, 7.554480075836182, 9.091512680053711, 7.676206588745117, 11.187957763671875, 9.013031959533691, 10.24698257446289, 9.079466819763184, 10.77353286743164, 11.554912567138672, 10.426831245422363, 10.037821769714355, 9.245368957519531, 11.829236030578613, 9.776874542236328, 10.74874210357666, 9.732547760009766, 8.849248886108398, 9.123818397521973, 10.638535499572754, 9.006378173828125, 10.000168800354004, 10.548857688903809, 12.05759048461914, 11.915392875671387, 9.130546569824219, 7.988332748413086, 10.100400924682617, 7.1683735847473145, 10.580812454223633, 10.771417617797852, 10.959440231323242, 7.989928722381592, 11.757896423339844, 9.984903335571289, 9.37087345123291, 10.532889366149902, 9.874578475952148, 9.399840354919434, 11.379341125488281, 10.717353820800781, 11.630757331848145, 10.430462837219238, 9.261200904846191, 9.755228996276855, 9.80576229095459, 9.71414852142334, 10.013348579406738, 7.873775482177734, 7.876558780670166, 11.243963241577148, 11.785283088684082, 11.130956649780273, 12.149665832519531, 8.286223411560059, 9.508905410766602, 8.595541000366211, 10.402928352355957, 10.664363861083984, 11.454253196716309, 9.219198226928711, 9.829421043395996, 11.448101043701172, 10.90517807006836, 10.413763999938965, 10.176226615905762, 10.277798652648926, 10.117008209228516, 10.741007804870605, 9.530622482299805, 9.573606491088867, 10.41379165649414, 9.293437957763672, 8.779400825500488, 10.936087608337402, 7.571164131164551, 11.183971405029297, 10.726114273071289, 11.093840599060059, 10.655803680419922, 11.635415077209473, 9.700440406799316, 10.231514930725098, 10.183313369750977, 10.254595756530762, 9.80920124053955, 9.548118591308594, 8.328536987304688, 9.365789413452148, 8.165227890014648, 10.457642555236816, 8.505423545837402, 9.908222198486328, 10.542731285095215, 11.280876159667969, 11.195612907409668, 10.825995445251465, 10.615066528320312, 9.682881355285645, 9.445304870605469, 9.572009086608887, 7.1800079345703125, 12.469830513000488, 11.381640434265137, 8.667688369750977, 11.28872013092041, 10.055811882019043, 11.000895500183105, 8.31640625, 10.073884963989258, 8.894218444824219, 7.838435173034668, 9.636673927307129, 10.753912925720215, 10.42678165435791, 11.769960403442383, 10.937710762023926, 9.548118591308594, 11.631638526916504, 8.282150268554688, 8.73108959197998, 8.870994567871094, 8.599194526672363, 7.742125511169434, 8.973255157470703, 9.721636772155762, 8.910130500793457, 10.253201484680176, 9.465139389038086, 8.180924415588379, 10.03148365020752, 8.447030067443848, 9.235918045043945, 10.38321304321289, 11.541730880737305, 8.92642593383789, 9.40921688079834, 9.799516677856445, 11.825490951538086, 10.68411922454834, 9.214066505432129, 8.893630981445312, 10.4638671875, 10.071083068847656, 8.73619270324707, 11.875927925109863, 8.377474784851074, 9.420324325561523, 7.664278030395508, 10.126404762268066, 9.03845500946045, 8.895989418029785, 8.289263725280762, 9.755074501037598, 9.263697624206543, 7.959155559539795, 10.239352226257324, 9.94950008392334, 9.747005462646484, 9.35175895690918, 11.554759979248047, 10.07265567779541, 9.936556816101074, 9.907365798950195, 9.237215042114258, 8.949347496032715, 9.251583099365234, 9.429051399230957, 9.824565887451172, 10.311447143554688, 12.059747695922852, 10.094955444335938, 9.022090911865234, 9.985367774963379, 9.285115242004395, 10.286821365356445, 11.797222137451172, 10.903894424438477, 10.945441246032715, 11.44359302520752, 7.284091949462891, 9.178082466125488, 8.854081153869629, 10.6627779006958, 10.16039752960205, 8.046785354614258, 10.82990550994873, 9.576261520385742, 10.565022468566895, 11.46265983581543, 9.914974212646484, 11.423831939697266, 8.380088806152344, 9.66876220703125, 10.622220039367676, 8.178659439086914, 12.110785484313965, 10.424378395080566, 10.822023391723633, 11.622783660888672, 9.97251033782959, 10.48119831085205, 10.368056297302246, 10.933344841003418, 11.763960838317871, 11.733716011047363, 10.29605484008789, 9.218459129333496, 10.226740837097168, 12.574668884277344, 9.549290657043457, 9.72646427154541, 10.072688102722168, 12.623160362243652, 11.13900375366211, 9.797221183776855, 10.027752876281738, 8.550077438354492, 8.673015594482422, 9.465279579162598, 7.893427848815918, 10.107100486755371, 7.318716049194336, 10.513102531433105, 12.93871784210205, 9.728062629699707, 9.911844253540039, 9.319743156433105, 10.051055908203125, 7.559379577636719, 10.699874877929688, 10.203110694885254, 8.300606727600098, 10.728974342346191, 10.477632522583008, 9.621865272521973, 9.73594856262207, 9.941298484802246, 11.387532234191895, 10.44965648651123, 9.512601852416992, 9.58750057220459, 8.802578926086426, 8.034911155700684, 8.951634407043457, 7.938819885253906, 7.942890167236328, 8.469123840332031, 10.2444429397583, 8.664305686950684, 8.556757926940918, 8.908590316772461, 9.577065467834473, 11.45430850982666, 10.468146324157715, 9.95206069946289, 11.19775104522705, 11.216395378112793, 10.819302558898926, 8.230610847473145, 7.279176235198975, 10.389126777648926, 10.627936363220215, 10.649806022644043, 9.464604377746582, 8.783173561096191, 9.425992965698242, 9.733325958251953, 10.02652645111084, 9.63322639465332, 10.284797668457031, 10.416932106018066, 11.42482852935791, 10.581342697143555, 10.943622589111328, 11.381431579589844, 11.676810264587402, 9.189094543457031, 10.305416107177734, 11.332820892333984, 9.730015754699707, 10.730616569519043, 11.148645401000977, 9.447972297668457, 9.878079414367676, 7.933132171630859, 11.157151222229004, 9.351511001586914, 12.148954391479492, 9.983295440673828, 10.602734565734863, 10.742277145385742, 9.3580322265625, 7.172831058502197, 7.135338306427002, 11.621711730957031, 9.20730972290039, 9.094893455505371, 9.16822624206543, 9.197742462158203, 9.220629692077637, 9.869333267211914, 10.178925514221191, 9.428024291992188, 10.80702018737793, 9.280467987060547, 11.996052742004395, 7.916923999786377, 10.549280166625977, 10.67524528503418, 10.040876388549805, 10.00522232055664, 11.576478958129883, 10.092693328857422, 11.246227264404297, 10.969761848449707, 10.92332935333252, 9.239712715148926, 11.292346954345703, 7.847012042999268, 9.282485961914062, 8.849404335021973, 8.617724418640137, 10.301191329956055, 9.894281387329102, 10.50206470489502, 9.87452220916748, 10.292501449584961, 8.301383018493652, 10.814702033996582, 13.4326810836792, 7.976378917694092, 8.940990447998047, 8.794485092163086, 10.282513618469238, 11.968815803527832, 9.265524864196777, 10.975872993469238, 9.439839363098145, 9.32680892944336, 11.101888656616211, 11.34980583190918, 9.906132698059082, 11.132333755493164, 10.31333065032959, 10.230259895324707, 10.254880905151367, 10.918289184570312, 10.209564208984375, 7.66894006729126, 7.204784870147705, 9.37984561920166, 10.741866111755371, 9.77940559387207, 11.409868240356445, 11.211820602416992, 10.658341407775879, 8.568277359008789, 8.810761451721191, 10.191177368164062, 10.11502456665039, 10.346179008483887, 11.545473098754883, 7.979778289794922, 11.062790870666504, 9.26375675201416, 8.858429908752441, 11.180166244506836, 10.833741188049316, 9.840048789978027, 7.198864459991455, 10.291085243225098, 10.482389450073242, 10.855920791625977, 10.302128791809082, 9.425869941711426, 9.581295013427734, 8.950191497802734, 11.315943717956543, 9.884246826171875, 9.443273544311523, 11.077118873596191, 11.111235618591309, 10.1661958694458, 10.790863990783691, 8.940162658691406, 10.455750465393066, 11.795456886291504, 12.078269004821777, 8.848283767700195, 9.213068008422852, 10.768914222717285, 9.457406997680664, 11.141352653503418, 10.624344825744629, 10.771187782287598, 10.995251655578613, 10.661553382873535, 11.002944946289062, 10.496591567993164, 8.945478439331055, 9.96641731262207, 11.070935249328613, 9.532427787780762, 9.632767677307129, 10.0828275680542, 9.962504386901855, 10.96783447265625, 11.27341079711914, 11.310693740844727, 9.892091751098633, 10.078963279724121, 11.646038055419922, 11.583083152770996, 9.361239433288574, 12.44176959991455, 11.501736640930176, 11.737454414367676, 8.527695655822754, 10.702418327331543, 8.367951393127441, 10.261430740356445, 9.751259803771973, 10.056838989257812, 8.38779354095459, 9.215020179748535, 10.63748836517334, 10.68134880065918, 8.562921524047852, 10.624199867248535, 9.915030479431152, 9.229098320007324, 10.827400207519531, 9.132723808288574, 9.21019458770752, 9.470308303833008, 8.56215763092041, 8.392387390136719, 9.579235076904297, 10.049097061157227, 9.770739555358887, 10.54889965057373, 9.410750389099121, 12.505698204040527, 9.578534126281738, 12.214961051940918, 9.420489311218262, 9.233440399169922, 8.910741806030273, 8.995670318603516, 9.556523323059082, 10.995664596557617, 11.214452743530273, 11.388293266296387, 12.168920516967773, 10.048517227172852, 11.744256019592285, 9.44249439239502, 10.097039222717285, 8.958806037902832, 9.953397750854492, 10.1405029296875, 10.106581687927246, 9.278778076171875, 8.51082992553711, 11.858146667480469, 10.517844200134277, 9.2747163772583, 8.222200393676758, 10.88196086883545, 9.828763961791992, 11.251989364624023, 7.993250370025635, 11.710082054138184, 11.667275428771973, 9.731264114379883, 9.286371231079102, 10.343009948730469, 10.896644592285156, 9.84192180633545, 9.892867088317871, 10.041153907775879, 10.675711631774902, 10.983128547668457, 10.949993133544922, 9.762616157531738, 7.155182838439941, 10.310036659240723, 10.384980201721191, 9.924787521362305, 9.918601036071777, 7.855476379394531, 8.35400390625, 7.731064319610596, 10.750709533691406, 7.833522319793701, 8.440191268920898, 11.167999267578125, 9.716864585876465, 8.722419738769531, 10.94034194946289, 12.552145004272461, 7.329736709594727, 10.56363296508789, 10.126175880432129, 8.495959281921387, 11.078325271606445, 10.662071228027344, 9.460705757141113, 8.790261268615723, 9.344304084777832, 8.391209602355957, 9.059416770935059, 8.03130054473877, 9.229591369628906, 12.015419960021973, 10.100202560424805, 9.42520809173584, 10.332069396972656, 11.187743186950684, 10.76989459991455, 10.269750595092773, 8.49502182006836, 10.87212085723877, 10.629630088806152, 12.518253326416016, 9.45955753326416, 8.821040153503418, 9.416058540344238, 9.368050575256348, 9.239715576171875, 10.975677490234375, 10.672086715698242, 10.487732887268066, 11.620499610900879, 7.920370578765869, 10.976356506347656, 8.918741226196289, 9.084287643432617, 11.85158634185791, 7.3995184898376465, 10.773475646972656, 9.920075416564941, 11.310161590576172, 11.285666465759277, 10.324987411499023, 12.005605697631836, 11.296180725097656, 9.249641418457031, 10.263065338134766, 10.362617492675781, 11.550613403320312, 7.30074405670166, 8.205821990966797, 9.627893447875977, 8.816905975341797, 12.61459732055664, 7.858366012573242, 10.286568641662598, 9.210439682006836, 10.08203411102295, 8.941411972045898, 9.6644868850708, 10.454736709594727, 8.915850639343262, 8.857486724853516, 8.549914360046387, 10.46695327758789, 10.569193840026855, 10.922736167907715], \"xaxis\": \"x\", \"y\": [-6.522095680236816, -7.803945064544678, -7.761244297027588, -7.636702060699463, -4.131774425506592, -3.087193012237549, -7.3717265129089355, -5.628449440002441, -3.2960093021392822, -6.591492176055908, -1.6996245384216309, -2.0036585330963135, -3.185407876968384, -3.049053907394409, -3.490463972091675, -3.3167171478271484, -2.831054210662842, -7.505781650543213, -5.743161201477051, -5.550896644592285, -4.267970561981201, -4.164224624633789, -2.923072099685669, -4.0641093254089355, -3.2862367630004883, -4.861500263214111, -1.4201483726501465, -6.060178756713867, -2.3701212406158447, -7.04148530960083, -6.921411514282227, -3.3567371368408203, -1.4009020328521729, -3.055586576461792, -3.2312653064727783, -5.220455169677734, -2.9653518199920654, -4.667730808258057, -3.4998555183410645, -6.849569797515869, -1.9251089096069336, -2.4387459754943848, -5.519410133361816, -6.0523362159729, -4.772695541381836, -4.6395158767700195, -2.1007649898529053, -8.010107040405273, -4.174163341522217, -5.4114813804626465, -2.823012113571167, -2.993952512741089, -6.1650471687316895, -5.235045433044434, -3.922166109085083, -8.083786010742188, -2.6432998180389404, -3.765359401702881, -3.885632276535034, -7.108394622802734, -4.238988876342773, -5.662715435028076, -6.270456790924072, -2.742152452468872, -7.6131391525268555, -6.341273307800293, -3.865882396697998, -3.8254358768463135, -7.649131774902344, -3.3946175575256348, -7.728977680206299, -5.369637966156006, -5.726934432983398, -2.676863670349121, -2.7329866886138916, -3.07016921043396, -3.3384487628936768, -4.936840534210205, -5.47757625579834, -3.6398162841796875, -3.057197332382202, -4.646115303039551, -4.765915870666504, -5.422906875610352, -7.712087631225586, -8.484742164611816, -7.13485860824585, -6.588547706604004, -6.339242935180664, -4.237381935119629, -5.1657280921936035, -4.877319812774658, -8.640551567077637, -3.401545524597168, -3.509350538253784, -5.532208442687988, -3.124176025390625, -2.981987237930298, -4.941696643829346, -7.100385665893555, -3.0659897327423096, -7.758510112762451, -7.153411865234375, -2.9045794010162354, -4.479007720947266, -4.941230297088623, -2.387981653213501, -1.8028310537338257, -6.3546671867370605, -4.993677139282227, -5.666098117828369, -1.5405316352844238, -3.3237805366516113, -4.851438522338867, -7.354796886444092, -2.7587945461273193, -7.422764778137207, -6.241308689117432, -3.9723703861236572, -4.6838788986206055, -3.951423406600952, -4.627741813659668, -8.68640422821045, -6.713437557220459, -7.420379638671875, -4.797389984130859, -6.864729404449463, -1.1064461469650269, -8.049283981323242, -4.7187180519104, -2.0998148918151855, -5.170443534851074, -5.452930450439453, -3.6339199542999268, -2.3952131271362305, -5.545445442199707, -3.5778679847717285, -4.478477954864502, -3.609314203262329, -7.7770466804504395, -6.074644565582275, -5.432711601257324, -3.1501638889312744, -8.521303176879883, -3.893401861190796, -6.892523288726807, -3.339022397994995, -3.8829426765441895, -3.5898277759552, -2.7677528858184814, -3.4979794025421143, -7.4116034507751465, -5.0245866775512695, -5.4210309982299805, -3.775718927383423, -3.3333213329315186, -4.906737327575684, -5.07716703414917, -3.425196409225464, -6.738002777099609, -3.4704134464263916, -5.036371231079102, -1.753533959388733, -8.894852638244629, -7.2762908935546875, -7.72165060043335, -8.024613380432129, -3.8679611682891846, -5.5442914962768555, -8.175826072692871, -5.923172950744629, -5.028725624084473, -5.136867046356201, -6.1814093589782715, -6.506861686706543, -5.282740592956543, -4.652932643890381, -6.375365734100342, -4.968841552734375, -1.850165605545044, -4.45068359375, -3.0970757007598877, -8.072811126708984, -5.0717387199401855, -2.540904998779297, -7.580289840698242, -3.4937682151794434, -4.47739315032959, -1.680416226387024, -3.4712271690368652, -2.819343090057373, -5.797754764556885, -6.441966533660889, -5.928491115570068, -6.436814785003662, -1.2025082111358643, -3.1962831020355225, -7.719639301300049, -6.436609268188477, -1.5227123498916626, -5.934149742126465, -6.9500017166137695, -6.75516939163208, -3.076500654220581, -7.6287431716918945, -5.693173408508301, -5.591175556182861, -1.7108304500579834, -5.148751735687256, -2.6200404167175293, -1.6869934797286987, -4.095168113708496, -5.007174491882324, -8.221882820129395, -6.313393592834473, -4.985886096954346, -6.9567108154296875, -3.058279275894165, -6.069868564605713, -4.075897693634033, -3.242176055908203, -4.390643119812012, -3.3023183345794678, -7.241085529327393, -2.5056073665618896, -4.696881294250488, -8.208146095275879, -5.261119842529297, -1.5626184940338135, -4.952270984649658, -4.441103458404541, -3.776228666305542, -6.072591781616211, -6.3644938468933105, -3.8338539600372314, -3.9462473392486572, -4.867604732513428, -7.343724250793457, -3.226595401763916, -1.1405659914016724, -4.743250846862793, -2.415146589279175, -3.8967642784118652, -1.0973992347717285, -4.595612525939941, -3.9594693183898926, -7.706770896911621, -4.672663688659668, -7.069889545440674, -5.421027660369873, -4.511999130249023, -5.653568744659424, -3.8673062324523926, -5.174522399902344, -7.223517894744873, -8.546403884887695, -4.836350917816162, -5.771831035614014, -5.935504913330078, -7.427032947540283, -4.411719799041748, -6.708651542663574, -4.877293109893799, -4.505652904510498, -6.396673679351807, -4.450964450836182, -3.616591215133667, -7.297021865844727, -7.615882873535156, -4.655396938323975, -4.548208236694336, -4.5433831214904785, -6.603130340576172, -2.5296006202697754, -2.4078381061553955, -5.865105152130127, -6.612617492675781, -4.491424083709717, -4.523233890533447, -5.610592842102051, -7.494544506072998, -3.232113838195801, -4.0285820960998535, -3.9613335132598877, -7.6437764167785645, -3.0553319454193115, -2.712139129638672, -5.33052921295166, -2.5590109825134277, -7.1211724281311035, -6.895719051361084, -7.017621040344238, -8.012772560119629, -5.3675689697265625, -6.137447357177734, -2.923705577850342, -6.2456746101379395, -7.716696262359619, -2.756599187850952, -3.82772159576416, -4.1918044090271, -3.5633394718170166, -4.6368842124938965, -5.419053554534912, -5.4465508460998535, -5.672486782073975, -3.6055049896240234, -4.36821985244751, -3.8025317192077637, -7.980328559875488, -5.308138370513916, -6.026005744934082, -3.897771120071411, -3.4799716472625732, -1.1883763074874878, -5.860632419586182, -4.858567714691162, -3.7957100868225098, -6.350245952606201, -6.159985065460205, -5.490992546081543, -5.598600387573242, -6.733562469482422, -6.620822906494141, -2.1558547019958496, -5.557426929473877, -4.4548492431640625, -5.466526031494141, -4.028520584106445, -6.509917259216309, -5.498881816864014, -3.2050979137420654, -7.392922401428223, -5.547644138336182, -8.104493141174316, -7.73262357711792, -8.667311668395996, -1.3270481824874878, -7.2920098304748535, -5.656057834625244, -6.064936637878418, -3.977961301803589, -4.130171298980713, -8.004077911376953, -7.025684356689453, -5.696102142333984, -7.552338123321533, -4.179131031036377, -5.831291675567627, -7.297392845153809, -3.0019004344940186, -4.2726006507873535, -7.360986709594727, -6.922757625579834, -4.166716575622559, -6.142567157745361, -1.8057148456573486, -4.927320957183838, -2.625920534133911, -6.524372577667236, -4.989924430847168, -7.680732727050781, -4.794833183288574, -3.720320463180542, -6.837078094482422, -5.297990798950195, -7.418793678283691, -5.8393659591674805, -4.278465270996094, -5.330411434173584, -1.7041504383087158, -7.868771076202393, -3.861159324645996, -6.57507848739624, -5.005280017852783, -6.356069564819336, -6.906805992126465, -5.227418899536133, -8.253219604492188, -6.683448314666748, -6.029125690460205, -6.910929203033447, -4.7509684562683105, -5.1144843101501465, -6.786790370941162, -4.61808443069458, -3.449220895767212, -2.2885210514068604, -4.227681636810303, -4.298853874206543, -6.935237407684326, -7.459495544433594, -2.1956725120544434, -7.576705455780029, -4.031829357147217, -7.2831268310546875, -5.386580467224121, -3.3933308124542236, -6.014190196990967, -4.99362850189209, -3.1184959411621094, -5.941612720489502, -4.042966365814209, -4.863615036010742, -6.19425106048584, -8.054617881774902, -5.731385231018066, -3.6111607551574707, -4.1734089851379395, -6.5913543701171875, -4.357631206512451, -4.111008644104004, -4.679903030395508, -6.8673882484436035, -6.041059970855713, -6.318235874176025, -5.343033313751221, -7.310277938842773, -3.324568271636963, -6.620985507965088, -4.138403415679932, -4.032713890075684, -2.414527654647827, -4.260181903839111, -1.2285940647125244, -7.132069110870361, -6.053973197937012, -1.3932145833969116, -1.4902005195617676, -4.845198631286621, -4.8027873039245605, -5.736712455749512, -3.558462381362915, -7.369903564453125, -7.6693434715271, -8.06796932220459, -3.8945422172546387, -6.018503189086914, -7.796810626983643, -3.805328369140625, -4.833456039428711, -7.457892894744873, -5.687325477600098, -4.421529769897461, -3.3994734287261963, -5.3675994873046875, -3.2083065509796143, -5.692978382110596, -4.4688310623168945, -3.0537123680114746, -4.622330665588379, -3.895833969116211, -2.6965975761413574, -3.7617669105529785, -4.18509578704834, -5.4090728759765625, -6.445316314697266, -4.294164180755615, -4.985614776611328, -1.3901351690292358, -6.753976345062256, -5.631978988647461, -5.921006202697754, -6.889205455780029, -4.522798538208008, -5.68848180770874, -6.4411301612854, -3.5244603157043457, -5.693714141845703, -2.9112987518310547, -5.832583904266357, -5.107849597930908, -5.379005432128906, -4.706855773925781, -6.335765361785889, -5.47044563293457, -3.580958604812622, -6.714376449584961, -3.235426187515259, -5.848906517028809, -3.267176389694214, -5.1213531494140625, -3.913752555847168, -4.672699451446533, -3.1398720741271973, -2.4889795780181885, -5.121070861816406, -4.400031566619873, -5.813355445861816, -4.858315944671631, -3.3656842708587646, -4.519542217254639, -5.975809574127197, -5.354989528656006, -7.3575568199157715, -6.511241912841797, -7.793613910675049, -3.663015127182007, -8.055658340454102, -4.116250991821289, -4.660402297973633, -5.038077354431152, -5.808766841888428, -6.87934684753418, -6.865527153015137, -3.8670737743377686, -7.01347017288208, -3.5405023097991943, -5.573207855224609, -5.8499860763549805, -6.095198154449463, -6.472114086151123, -5.308760166168213, -6.4984235763549805, -7.017664432525635, -1.3976585865020752, -4.884621620178223, -4.6112589836120605, -4.448021411895752, -7.702897071838379, -3.4193167686462402, -3.926053047180176, -6.684800624847412, -2.770479917526245, -1.2786766290664673, -5.420486927032471, -2.035994291305542, -5.248446941375732, -6.311106204986572, -5.965672969818115, -6.419891834259033, -4.913266181945801, -4.167841911315918, -6.240637302398682, -3.808934450149536, -3.766173839569092, -8.114365577697754, -3.5580615997314453, -7.750669002532959, -7.786579132080078, -4.5044989585876465, -2.329580307006836, -3.0679941177368164, -7.932021141052246, -4.979841709136963, -8.17380142211914, -5.068178176879883, -6.937724590301514, -6.332036018371582, -4.307825565338135, -4.821781158447266, -5.717087268829346, -2.0413289070129395, -5.869083881378174, -5.3163299560546875, -5.7523980140686035, -5.349605083465576, -5.715656757354736, -3.3734285831451416, -7.24246072769165, -6.800847053527832, -3.92118501663208, -5.668557167053223, -3.5731894969940186, -6.129741191864014, -4.479970455169678, -5.566309928894043, -1.9916640520095825, -5.691230773925781, -6.797802448272705, -7.122314453125, -6.086131572723389, -6.1742401123046875, -4.6187896728515625, -8.230005264282227, -8.18486499786377, -5.671843528747559, -6.776606559753418, -6.383118152618408, -6.280625343322754, -6.33128547668457, -5.106161117553711, -5.497853755950928, -4.75850772857666, -3.3342766761779785, -4.552399158477783, -6.140707015991211, -3.670729160308838, -3.3532352447509766, -8.677570343017578, -6.590135097503662, -6.866605281829834, -6.395932674407959, -4.285853862762451, -5.9383697509765625, -4.957554340362549, -5.285006523132324, -4.810095310211182, -3.403406858444214, -4.005629062652588, -4.86834192276001, -6.3167033195495605, -5.387312889099121, -6.660050392150879, -5.4795002937316895, -5.420476913452148, -4.727194786071777, -6.567898750305176, -4.3725972175598145, -3.1696364879608154, -1.738124132156372, -4.097742080688477, -1.5590978860855103, -3.4399776458740234, -1.442838430404663, -5.258022308349609, -3.2132320404052734, -5.869288444519043, -3.496532678604126, -6.198927402496338, -6.1429667472839355, -4.135614395141602, -4.451738357543945, -6.119729995727539, -5.7503275871276855, -7.363219738006592, -6.686633586883545, -5.524848461151123, -5.921108722686768, -6.651439666748047, -5.4379072189331055, -7.136852264404297, -7.170106410980225, -7.597812652587891, -5.2339348793029785, -5.329528331756592, -4.611985683441162, -4.931456565856934, -3.622453212738037, -3.8110568523406982, -5.225541114807129, -4.044432640075684, -5.979781150817871, -4.216707229614258, -7.102921009063721, -6.834151268005371, -3.890516996383667, -7.182305335998535, -1.259502649307251, -4.690417289733887, -5.332212924957275, -7.043402671813965, -4.307766437530518, -7.412463188171387, -6.751895427703857, -7.078641414642334, -1.2217919826507568, -5.935701847076416, -5.681275844573975, -5.3439435958862305, -6.240688800811768, -3.2763164043426514, -6.637537002563477, -7.59787654876709, -3.3931894302368164, -3.908045530319214, -5.72598123550415, -2.330430507659912, -4.529537677764893, -2.9146718978881836, -4.303983211517334, -2.0291748046875, -2.7535197734832764, -5.5638837814331055, -2.397926092147827, -4.761512756347656, -3.4410228729248047, -6.565500736236572, -3.628831386566162, -6.7120256423950195, -2.5181188583374023, -7.22652530670166, -5.928177356719971, -4.482076168060303, -5.172638893127441, -3.7357099056243896, -6.901101589202881, -6.502321720123291, -8.697839736938477, -5.7686896324157715, -4.533034801483154, -5.579097270965576, -4.304337024688721, -6.241618633270264, -4.170351505279541, -6.116187572479248, -6.180751323699951, -5.435809135437012, -6.341378211975098, -6.806041240692139, -1.423396110534668, -5.566499710083008, -6.5544657707214355, -6.409186840057373, -6.175061225891113, -3.8712644577026367, -3.8302485942840576, -6.715986728668213, -5.269932270050049, -6.796761512756348, -1.9761046171188354, -5.970850467681885, -4.380046844482422, -7.876463413238525, -5.056853294372559, -4.674453258514404, -6.506750583648682, -3.0941269397735596, -4.231747627258301, -7.500701427459717, -4.109594345092773, -5.02274227142334, -1.1554456949234009, -6.5097832679748535, -5.947904109954834, -5.340551376342773, -2.03452205657959, -2.8042266368865967, -5.933236122131348, -6.987866401672363, -4.022446155548096, -2.720747709274292, -3.2071475982666016, -3.3919522762298584, -4.629526138305664, -6.247282028198242, -1.106311559677124, -5.860564231872559, -6.157016754150391, -4.223834991455078, -2.7441747188568115, -7.455994129180908, -4.24692964553833, -7.026838779449463, -3.8828835487365723, -2.6574854850769043, -3.9271278381347656, -7.601482391357422, -7.021434783935547, -7.701062202453613, -5.936700344085693, -5.721108436584473, -6.761855125427246, -4.558016300201416, -5.100511074066162, -5.579003810882568, -5.646154880523682, -5.313399791717529, -4.637190818786621, -4.874482154846191, -2.782661199569702, -7.5293498039245605, -7.389819622039795, -3.1650583744049072, -6.898189067840576, -3.1298999786376953, -3.0626935958862305, -6.004189491271973, -6.87784481048584, -4.727646350860596, -5.9570746421813965, -7.160011291503906, -6.5796332359313965, -7.249898910522461, -7.027894020080566, -4.572601318359375, -7.503359317779541, -7.627224922180176, -3.3235623836517334, -8.934733390808105, -6.2692551612854, -5.917247295379639, -6.598809242248535, -6.1092529296875, -1.4210574626922607, -3.856015920639038, -3.1192071437835693, -2.3725812435150146, -2.2552647590637207, -3.9783084392547607, -6.110937118530273, -4.785343647003174, -1.2157797813415527, -7.352481365203857, -7.297098159790039, -4.896734237670898, -3.580810070037842, -2.646724224090576, -4.82687520980835, -2.9687728881835938, -4.865394115447998, -6.469745635986328, -5.809828758239746, -4.005566120147705, -6.3296122550964355, -6.313216686248779, -4.432687759399414, -7.994379043579102, -8.845102310180664, -5.841049671173096, -5.5083842277526855, -5.526968955993652, -5.516940116882324, -5.987285614013672, -5.871300220489502, -5.762695789337158, -5.849188804626465, -7.049376487731934, -5.709627628326416, -1.5690093040466309, -7.579508304595947, -5.407813549041748, -5.529871463775635, -1.644368052482605, -6.901800632476807, -6.700866222381592, -7.70869779586792, -3.6414809226989746, -7.238009929656982, -6.613462448120117, -7.967886447906494, -7.602831840515137, -5.273519992828369, -8.153619766235352, -4.779725074768066, -6.311915874481201, -4.393143177032471, -6.253983974456787, -4.020166397094727, -5.488504886627197, -3.3035974502563477, -7.0103535652160645, -1.1536294221878052, -6.406121253967285, -6.507258415222168, -5.682316303253174, -6.773265361785889, -5.717423439025879, -5.388186931610107, -4.982327938079834, -6.626580715179443, -5.144125461578369, -6.777796745300293, -6.507926940917969, -3.0942647457122803, -7.445662021636963, -7.155208587646484, -4.115035533905029, -3.7711021900177, -2.746427297592163, -1.5952950716018677, -2.7749204635620117, -5.795995235443115, -7.231743335723877, -7.245469570159912, -3.2878575325012207, -2.2629425525665283, -5.140785217285156, -7.015891075134277, -6.220035076141357, -8.098196983337402, -3.9296681880950928, -5.711609363555908, -4.831140041351318, -3.1076395511627197, -4.921952724456787, -5.141753673553467, -4.1760783195495605, -2.7022573947906494, -5.126338958740234, -5.5208516120910645, -6.298443794250488, -6.417290687561035, -1.4955133199691772, -6.778847694396973, -5.477905750274658, -4.083196640014648, -4.036742210388184, -2.897825241088867, -4.00540018081665, -4.934230804443359, -2.3552870750427246, -1.67173171043396, -4.385985374450684, -4.524234771728516, -4.95025110244751, -6.5277910232543945, -4.997725963592529, -3.6072683334350586, -4.836681365966797, -3.5780386924743652, -3.5904862880706787, -2.520597457885742, -6.194527626037598, -5.899262428283691, -3.355428695678711, -4.724055290222168, -3.856614351272583, -7.691241264343262, -5.227975368499756, -6.627984046936035, -5.060214519500732, -4.0380401611328125, -6.584815979003906, -5.9229278564453125, -5.346241474151611, -3.651378631591797, -1.5553148984909058, -5.682543754577637, -7.249494552612305, -4.624289512634277, -4.484176158905029, -5.297524452209473, -5.122698783874512, -5.397320747375488, -7.187231063842773, -4.445837020874023, -5.114396095275879, -8.166006088256836, -2.854410171508789, -7.83105993270874, -2.828303813934326, -7.247218132019043, -6.615903854370117, -5.920856475830078, -6.598260879516602, -5.693240642547607, -4.634824752807617, -6.2486419677734375, -5.791398525238037, -7.7712626457214355, -5.046699523925781, -5.1381659507751465, -4.983584403991699, -4.603479385375977, -4.687146186828613, -6.018535137176514, -5.160016059875488, -5.11475944519043, -8.013823509216309, -5.710989952087402, -7.203680515289307, -8.144444465637207, -3.3243563175201416, -4.164498329162598, -6.222901344299316, -6.062987804412842, -4.5926008224487305, -6.67291259765625, -3.239976167678833, -6.3724846839904785, -4.809627532958984, -9.500506401062012, -5.398850917816162, -5.455806255340576, -4.3846330642700195, -4.681017875671387, -6.425158500671387, -6.177961826324463, -6.725982189178467, -8.372093200683594, -4.00972843170166, -7.42814826965332, -5.797296524047852, -1.7748057842254639, -1.6782879829406738, -5.299972057342529, -2.643264055252075, -4.9257283210754395, -3.4855446815490723, -5.706177234649658, -7.864161491394043, -7.398587703704834, -5.859591960906982, -6.565431594848633, -7.931192874908447, -5.326784133911133, -5.3489837646484375, -3.3573660850524902, -7.140468120574951, -1.4041682481765747, -5.3795552253723145, -5.885201454162598, -4.025579929351807, -4.785340309143066, -4.238993167877197, -5.842929363250732, -6.228485584259033, -6.133096694946289, -6.136514186859131, -7.13758659362793, -6.035400867462158, -5.527537822723389, -7.989537239074707, -5.7223100662231445, -5.52602481842041, -5.601916790008545, -7.19651985168457, -5.77083683013916, -5.494970798492432, -6.224276542663574, -7.484538555145264, -7.0003838539123535, -7.700793266296387, -6.388866424560547, -6.010184288024902, -5.7161664962768555, -5.035924911499023, -3.5883326530456543, -5.074624538421631, -6.346221923828125, -5.481433868408203, -6.41142463684082, -6.120500087738037, -6.387280464172363, -5.396550178527832, -6.884385108947754, -6.093191623687744, -6.378461837768555, -7.616866588592529, -4.630556583404541, -3.6404616832733154, -3.5964314937591553, -4.427057266235352, -7.23158597946167, -7.037533283233643, -6.051750659942627, -7.3241095542907715, -7.300724029541016, -2.5043411254882812, -4.660374164581299, -4.066590785980225, -7.509542942047119, -7.337728500366211, -2.8489389419555664, -5.889354228973389, -3.3891992568969727, -7.500781536102295, -8.729369163513184, -4.4398040771484375, -3.515591859817505, -7.380162715911865, -7.25128698348999, -7.570181846618652, -7.05868673324585, -6.29969596862793, -5.689426898956299, -3.9337453842163086, -3.4228272438049316, -3.136094331741333, -6.024755954742432, -5.965226650238037, -7.574780464172363, -7.116477012634277, -5.645158290863037, -5.88464879989624, -7.4425458908081055, -3.823887348175049, -1.4781477451324463, -7.942005634307861, -7.686481952667236, -5.385658264160156, -4.877839088439941, -6.7337822914123535, -6.617502689361572, -5.739541053771973, -6.57081413269043, -4.764916896820068, -8.537927627563477, -6.002200126647949, -5.9471354484558105, -6.44029426574707, -6.175271987915039, -6.901817321777344, -5.283560276031494, -3.191690444946289, -5.636934757232666, -1.1027318239212036, -6.792020320892334, -4.034355640411377, -4.866124629974365, -6.566466808319092, -3.025665760040283, -5.019558906555176, -5.263144016265869, -6.6026387214660645, -6.492355823516846, -8.164684295654297, -6.96782922744751, -3.4908969402313232, -4.963741302490234, -5.818619728088379, -4.474947452545166, -4.222646236419678, -5.816915035247803, -4.6891045570373535, -6.367902755737305, -5.098953723907471, -4.324418544769287, -6.481863498687744, -5.455979824066162, -4.045771598815918, -3.439175605773926, -3.8355801105499268, -2.281683921813965, -3.7156765460968018, -4.154792785644531, -2.0458669662475586, -2.7974603176116943, -3.814809799194336, -6.139708042144775, -4.945235729217529, -2.464867115020752, -5.562656879425049, -2.81925630569458, -6.671830177307129, -4.31296443939209, -3.322169780731201, -5.469165802001953, -4.3135600090026855, -2.9381263256073, -4.799306392669678, -5.37272834777832, -3.972667694091797, -6.116857051849365, -4.952182292938232, -5.793149948120117, -6.586459159851074, -3.853158712387085, -3.4219906330108643, -4.795711994171143, -8.658228874206543, -3.4675509929656982, -8.707695007324219, -3.751364231109619, -5.658420562744141, -4.540586948394775, -3.821366310119629, -4.636406898498535, -3.995209217071533, -4.841809272766113, -4.327068328857422, -6.99548864364624, -2.8898277282714844, -2.79333233833313, -5.570791721343994, -4.851438522338867, -3.275791645050049, -1.2303388118743896, -5.874699592590332, -5.826715469360352, -5.045500755310059, -3.3393938541412354, -4.738405227661133, -3.548811674118042, -4.315639019012451, -6.556381702423096, -5.923181533813477, -6.785538196563721, -4.220943927764893, -5.44294548034668, -6.885074138641357, -5.943981647491455, -6.008731365203857, -6.993091583251953, -2.8163986206054688, -4.4153056144714355, -5.660594940185547, -5.282989025115967, -4.014507293701172, -4.625767230987549, -7.126888275146484, -4.277667999267578, -5.373049736022949, -4.877543926239014, -7.07192325592041, -6.706215858459473, -7.107585906982422, -5.748190402984619, -3.517986297607422, -5.180065155029297, -6.875209331512451, -7.704361915588379, -4.475570201873779, -1.810295820236206, -3.2415671348571777, -5.635828971862793, -5.152202129364014, -4.995074272155762, -5.42543363571167, -2.068618059158325, -7.4711432456970215, -2.647623300552368, -7.439844131469727, -5.928605556488037, -6.171248435974121, -7.238276481628418, -7.27200174331665, -7.749382495880127, -6.681922435760498, -3.569735527038574, -7.326369762420654, -6.296810626983643, -7.606820106506348, -7.602337837219238, -3.47987961769104, -5.434622287750244, -2.5785157680511475, -5.195483207702637, -6.556485176086426, -6.636874198913574, -5.816617488861084, -7.309665203094482, -3.977675199508667, -3.9179067611694336, -6.24467134475708, -4.338148593902588, -5.53101110458374, -2.8438243865966797, -3.3296587467193604, -3.502573251724243, -6.474274158477783, -5.990792751312256, -3.2511518001556396, -5.65637731552124, -7.332216262817383, -4.453094005584717, -7.448363304138184, -4.607517719268799, -3.7715418338775635, -4.840327739715576, -5.995905876159668, -3.21022891998291, -5.615538597106934, -6.239230155944824, -7.984302520751953, -7.932672023773193, -2.0054187774658203, -5.555994510650635, -7.503951549530029, -8.796286582946777, -7.266157150268555, -6.147885322570801, -6.086347579956055, -7.251460552215576, -5.745168209075928, -5.412722110748291, -6.4416327476501465, -6.878971099853516, -7.477100372314453, -5.878991603851318, -1.621150016784668, -5.4087066650390625, -3.7446446418762207, -7.316105365753174, -6.436852931976318, -4.230781078338623, -4.939792633056641, -5.879360675811768, -2.867762565612793, -5.782497406005859, -6.560439586639404, -6.141291618347168, -4.884585857391357, -7.478578090667725, -7.4329833984375, -7.402196884155273, -7.341054439544678, -7.414375305175781, -6.234585762023926, -5.518395900726318, -5.97321891784668, -7.7894134521484375, -5.9060282707214355, -7.418798446655273, -2.2906882762908936, -5.997380256652832, -4.188225269317627, -6.077984809875488, -6.880199909210205, -3.7853188514709473, -4.738189697265625, -4.556636810302734, -7.756968975067139, -4.315174579620361, -6.0768632888793945, -4.832563400268555, -4.7857208251953125, -2.6389811038970947, -6.649649620056152, -4.670026779174805, -5.215369701385498, -4.569706916809082, -5.240929126739502, -5.437066078186035, -4.812722206115723, -5.28887414932251, -6.84838342666626, -2.9137606620788574, -6.108410358428955, -5.789549827575684, -6.443737983703613, -7.812666893005371, -5.472838878631592, -4.734661102294922, -7.164397716522217, -6.856244087219238, -8.677276611328125, -5.059706687927246, -6.735808849334717, -2.785745620727539, -4.953605651855469, -3.344688892364502, -4.300462245941162, -7.797538757324219, -3.649348020553589, -4.695156574249268, -3.4880831241607666, -6.576040744781494, -7.7222418785095215, -3.1939034461975098, -3.54901123046875, -6.896824836730957, -3.6592955589294434, -6.617416858673096, -6.856156349182129, -3.2749626636505127, -7.104833602905273, -5.547719955444336, -5.630791187286377, -4.129605770111084, -8.928214073181152, -6.845975875854492, -4.781200408935547, -4.373944282531738, -5.550440788269043, -6.764476299285889, -8.329748153686523, -3.3713135719299316, -2.783130407333374, -4.8947014808654785, -5.750675678253174, -7.504147052764893, -6.88977575302124, -4.671300411224365, -5.753636837005615, -1.4080231189727783, -7.3276543617248535, -6.2249321937561035, -7.311591625213623, -4.432669162750244, -2.4700722694396973, -4.252122402191162, -6.723180770874023, -5.441542148590088, -6.726900100708008, -5.978483200073242, -8.055659294128418, -2.631885528564453, -5.943057537078857, -6.5576491355896, -6.864828586578369, -6.341243267059326, -5.571636199951172, -5.669416427612305, -5.779158592224121, -5.757826805114746, -4.107989311218262, -4.112346172332764, -5.815445423126221, -5.821898460388184, -5.789818286895752, -5.828226566314697, -7.730340957641602, -7.460161209106445, -4.303957939147949, -6.238982677459717, -3.5685484409332275, -6.976558685302734, -6.091018199920654, -5.5684895515441895, -5.476110458374023, -6.249131202697754, -7.575304985046387, -6.5087103843688965, -5.268064498901367, -7.946804046630859, -5.5323896408081055, -6.304194927215576, -5.928537845611572, -6.600432872772217, -6.300276756286621, -6.491545677185059, -5.7063679695129395, -6.5538249015808105, -7.250823497772217, -7.139303684234619, -6.077047824859619, -7.061522960662842, -6.743974685668945, -3.1197707653045654, -7.317765712738037, -7.744786262512207, -4.05591344833374, -3.2436790466308594, -6.987409591674805, -1.9463355541229248, -3.355320453643799, -4.026810169219971, -7.338386535644531, -7.205250263214111, -6.931434154510498, -4.920387268066406, -5.032099723815918, -4.950771808624268, -3.523515224456787, -7.643402099609375, -5.395188808441162, -3.3205580711364746, -6.319664001464844, -5.733008861541748, -4.0511860847473145, -6.528186321258545, -1.3487735986709595, -3.035737991333008, -7.324512004852295, -6.866067886352539, -5.449428558349609, -4.512335300445557, -3.4329066276550293, -1.8316030502319336, -5.575306415557861, -5.519222259521484, -6.132993698120117, -3.300473213195801, -5.478402614593506, -4.872686386108398, -4.31019401550293, -4.739383220672607, -4.127870082855225, -5.518520832061768, -5.473507404327393, -3.561267852783203, -4.4455485343933105, -5.16779088973999, -5.298928260803223, -6.290018081665039, -6.696288108825684, -6.667912006378174, -2.8113253116607666, -3.8745906352996826, -6.586851119995117, -5.653532981872559, -8.535493850708008, -5.643786907196045, -4.3736348152160645, -5.8867411613464355, -5.669284343719482, -3.2747631072998047, -5.081457614898682, -3.4296555519104004, -3.6266255378723145, -4.991004467010498, -6.115085124969482, -4.645575046539307, -4.756250858306885, -3.0188333988189697, -4.762640953063965, -4.9648332595825195, -6.234128475189209, -1.4370719194412231, -3.791938066482544, -3.52618670463562, -3.3759188652038574, -5.446714878082275, -4.959457874298096, -4.355403900146484, -5.244873523712158, -6.160874366760254, -1.4931294918060303, -3.4065780639648438, -6.113888263702393, -3.997553586959839, -1.508881688117981, -3.0352721214294434, -6.3918986320495605, -4.440094470977783, -5.477993965148926, -1.4357255697250366, -2.065396785736084, -2.7058348655700684, -6.230301856994629, -3.329802989959717, -6.420539379119873, -6.2008256912231445, -4.8160080909729, -4.2750420570373535, -4.596590518951416, -5.753297805786133, -5.79669713973999, -7.394705772399902, -8.139684677124023, -8.59738540649414, -5.345959663391113, -4.441582202911377, -4.432680606842041, -3.462907075881958, -2.742027521133423, -4.6466498374938965, -1.305873155593872, -4.798013687133789, -4.453358173370361, -4.466534614562988, -1.5460554361343384, -7.200013160705566, -5.926453590393066, -3.2553822994232178, -4.697188377380371, -3.6620640754699707, -6.410781383514404, -1.8460005521774292, -5.50938081741333, -6.092996120452881, -1.249803066253662, -5.0940446853637695, -4.483628749847412, -5.461184978485107, -2.5048348903656006, -4.046702861785889, -1.568318247795105, -3.7429370880126953, -5.168041229248047, -3.484889268875122, -3.9037342071533203, -3.649728298187256, -4.037526607513428, -5.796800136566162, -4.837699890136719, -6.425739765167236, -8.615970611572266, -4.982160568237305, -4.10591983795166, -5.577704429626465, -3.718794822692871, -4.597945213317871, -3.2686946392059326, -6.11945915222168, -5.371628761291504, -6.47819185256958, -3.273568630218506, -4.04004430770874, -1.9976986646652222, -4.002675533294678, -1.4155248403549194, -4.60910177230835, -4.726596832275391, -4.778717994689941, -5.323685169219971, -5.484777450561523, -3.3312695026397705, -8.698941230773926, -6.84873628616333, -4.422791481018066, -3.01678466796875, -5.442581653594971, -6.822544097900391, -5.922455310821533, -5.397411823272705, -5.57322359085083, -3.836301565170288, -5.158263206481934, -4.905966758728027, -3.055251359939575, -6.713900089263916, -5.110531806945801, -5.698635578155518, -4.112023830413818, -2.103379964828491, -6.0389814376831055, -6.077690124511719, -4.138397693634033, -6.089229106903076, -6.642452716827393, -7.011338710784912, -8.68350887298584, -6.328917026519775, -7.590753555297852, -5.228760242462158, -3.929856538772583, -7.108522415161133, -1.869515061378479, -1.1938483715057373, -7.081887722015381, -6.1832756996154785, -6.301501750946045, -4.581874847412109, -3.9331753253936768, -6.601344585418701, -3.344212293624878, -6.70454216003418, -4.425078392028809, -3.2149436473846436, -4.832721710205078, -4.636486530303955, -4.897866249084473, -3.355332136154175, -4.760252475738525, -5.106484413146973, -5.081730365753174, -5.103248119354248, -1.7291531562805176, -5.917151927947998, -5.724870681762695, -4.496603965759277, -4.812620162963867, -3.515399694442749, -4.883819103240967, -4.148465633392334, -1.7636793851852417, -5.234832763671875, -7.5310235023498535, -7.387228012084961, -6.662686347961426, -6.685694694519043, -7.048825740814209, -4.6514997482299805, -5.890775680541992, -5.691312789916992, -4.673677921295166, -6.586498737335205, -5.256148338317871, -7.2148613929748535, -3.9323208332061768, -5.545139789581299, -3.0669713020324707, -4.769157409667969, -4.550161838531494, -5.3531880378723145, -2.7579705715179443, -6.2104010581970215, -8.193294525146484, -7.067976951599121, -3.4866137504577637, -6.685014724731445, -5.891190052032471, -4.243049144744873, -7.4939961433410645, -7.4528727531433105, -7.181709289550781, -5.4060444831848145, -5.313987731933594, -3.557116746902466, -4.886064529418945, -1.638547420501709, -3.56729793548584, -6.319250583648682, -3.489776849746704, -3.1250383853912354, -2.9109814167022705, -6.494833946228027, -3.0949301719665527, -6.904504299163818, -2.030688524246216, -5.274504661560059, -1.9216541051864624, -3.7745625972747803, -6.741984844207764, -6.594630241394043, -2.2680954933166504, -7.749134540557861, -4.9773945808410645, -5.702385902404785, -4.504264831542969, -6.306979656219482, -6.164740562438965, -5.591058731079102, -1.4133857488632202, -3.0663630962371826, -8.084355354309082, -2.249340295791626, -4.433894157409668, -6.906909942626953, -7.517895698547363, -6.284087657928467, -8.52906322479248, -7.602308750152588, -5.903102397918701, -8.239794731140137, -3.845374584197998, -1.8074814081192017, -1.1882357597351074, -7.259125232696533, -6.438361167907715, -5.558141231536865, -5.666100025177002, -5.6295695304870605, -3.6973209381103516, -3.8095366954803467, -5.749691486358643, -5.707424640655518, -5.483946323394775, -7.730993270874023, -7.724131107330322, -6.330674648284912, -6.373602390289307, -6.0468668937683105, -7.199178695678711, -7.240880012512207, -7.7619757652282715, -5.629778861999512, -6.321977138519287, -6.02072811126709, -3.433487892150879, -5.182458400726318, -4.247756481170654, -5.519009590148926, -7.190014839172363, -2.577338218688965, -6.594976902008057, -5.635944843292236, -5.443537712097168, -4.451205253601074, -4.4712629318237305, -3.5990993976593018, -3.356828212738037, -6.006396293640137, -7.233373165130615, -6.450830459594727, -4.60506010055542, -7.291464328765869, -5.730016231536865, -6.998117446899414, -7.50231409072876, -4.14788818359375, -4.159205913543701, -6.422328472137451, -6.8551836013793945, -1.4300036430358887, -4.56746244430542, -3.7749829292297363, -6.877457618713379, -6.819807052612305, -4.060532569885254, -8.127399444580078, -5.720271587371826, -6.624154567718506, -6.37277364730835, -6.621823310852051, -6.077358245849609, -6.848326206207275, -6.267409801483154, -6.112124919891357, -6.1645684242248535, -6.320650100708008, -6.337657928466797, -6.192819595336914, -5.95813512802124, -5.36514139175415, -5.516026973724365, -5.240887641906738, -5.262748718261719, -1.6348671913146973, -6.293148040771484, -5.974232196807861, -7.115817546844482, -1.52972412109375, -5.509693622589111, -6.639826774597168, -6.398955821990967, -6.440177917480469, -5.203710079193115, -3.9251153469085693, -5.005995750427246, -5.5795159339904785, -1.4697043895721436, -4.658456325531006, -5.286736488342285, -5.128278732299805, -2.5117592811584473, -7.649371147155762, -7.6665215492248535, -2.9776768684387207, -2.9125888347625732, -3.638742208480835, -6.96906042098999, -5.607632637023926, -7.795651435852051, -5.4128947257995605, -1.7338881492614746, -5.276752948760986, -4.6974992752075195, -2.7821860313415527, -2.8453969955444336, -5.646659851074219, -5.147155284881592, -5.228353977203369, -3.3564534187316895, -7.038337707519531, -7.152876853942871, -7.115373134613037, -8.043844223022461, -5.96007776260376, -4.9221343994140625, -4.747635841369629, -4.244859218597412, -7.318127155303955, -3.959851026535034, -6.859927177429199, -4.59952974319458, -5.07668924331665, -7.692290306091309, -8.96021842956543, -4.785274982452393, -1.8498988151550293, -7.216647148132324, -6.513479232788086, -3.3251254558563232, -6.649286270141602, -3.918612241744995, -5.089068412780762, -4.9733710289001465, -5.31861686706543, -5.5367350578308105, -2.579341173171997, -4.6269402503967285, -4.529300689697266, -4.133692741394043, -6.636789798736572, -1.091802716255188, -5.898489952087402, -5.714301586151123, -6.30711555480957, -6.453403949737549, -6.564406871795654, -6.851799488067627, -6.7654805183410645, -4.516336441040039, -4.763370037078857, -5.933639049530029, -2.710895538330078, -7.329516887664795, -4.7488861083984375, -5.233252048492432, -7.345566749572754, -5.7977495193481445, -5.94047737121582, -7.470722198486328, -5.814572334289551, -3.4643847942352295, -4.371870517730713, -6.975318431854248, -5.263580322265625, -6.417026519775391, -5.650937557220459, -5.4813995361328125, -6.70958948135376, -3.9705419540405273, -6.6851701736450195, -6.487456321716309, -6.896758079528809, -2.8563337326049805, -4.7454071044921875, -6.153424263000488, -3.196253776550293, -4.28972864151001, -7.312992095947266, -5.15418815612793, -6.322762489318848, -4.94929313659668, -2.725865602493286, -3.194218873977661, -6.2996673583984375, -3.264586925506592, -7.959423542022705, -4.670159339904785, -4.493569374084473, -8.531737327575684, -4.951269626617432, -5.000670433044434, -5.48642635345459, -7.0673418045043945, -8.186625480651855, -7.722835063934326, -6.445084571838379, -6.415778636932373, -5.500829696655273, -7.0908684730529785, -5.921064853668213, -7.359346389770508, -5.24952507019043, -6.376926422119141, -4.7874908447265625, -2.8493173122406006, -6.1627068519592285, -6.015517234802246, -4.387595176696777, -8.0899076461792, -7.596569061279297, -5.709603309631348, -6.365524768829346, -4.685041427612305, -4.442759037017822, -3.4542927742004395, -3.2192254066467285, -3.922086238861084, -2.702218532562256, -2.744025468826294, -3.567553997039795, -4.842933177947998, -8.128941535949707, -5.820239067077637, -3.5390188694000244, -4.348813533782959, -6.032275199890137, -6.906824588775635, -3.2934024333953857, -1.4070771932601929, -4.402505397796631, -4.7549333572387695, -5.159265995025635, -4.179182529449463, -2.784517526626587, -4.453011989593506, -2.7887256145477295, -6.200091361999512, -3.407668352127075, -5.890531063079834, -5.741207122802734, -5.3469343185424805, -4.3803019523620605, -5.901614189147949, -3.097405433654785, -3.773935556411743, -5.029641628265381, -5.029272556304932, -4.458772659301758, -4.827810287475586, -5.677046775817871, -4.696117877960205, -3.3245255947113037, -4.952710151672363, -4.1352152824401855, -6.38652229309082, -6.020349025726318, -3.7544775009155273, -6.186831474304199, -3.6812503337860107, -4.327480316162109, -5.989688396453857, -6.05370569229126, -4.475037097930908, -6.908246040344238, -2.4054646492004395, -4.254082679748535, -4.951172351837158, -3.3671481609344482, -1.1287933588027954, -6.287730693817139, -6.474035263061523, -7.758598327636719, -5.681342601776123, -2.020533323287964, -3.1180009841918945, -4.400952339172363, -4.853858947753906, -4.475978374481201, -6.728132247924805, -6.714117527008057, -4.444590091705322, -3.45927095413208, -4.663409233093262, -3.9851224422454834, -5.254729270935059, -5.176934242248535, -6.9088969230651855, -7.651796340942383, -7.308842658996582, -4.045160293579102, -3.5830976963043213, -7.50518798828125, -4.366322040557861, -8.6448392868042, -4.445112705230713, -6.995578765869141, -8.216097831726074, -6.887120723724365, -3.5275657176971436, -5.039234638214111, -6.556447982788086, -4.543098449707031, -3.968623399734497, -6.602470397949219, -5.146366596221924, -4.623328685760498, -5.6042399406433105, -3.9453442096710205, -3.9090898036956787, -5.956387996673584, -1.6043827533721924, -4.4895339012146, -6.377415180206299, -1.9289982318878174, -3.6649434566497803, -1.686226725578308, -1.8543905019760132, -5.29843282699585, -4.355998516082764, -4.662825584411621, -5.3080854415893555, -5.308174133300781, -6.0494771003723145, -8.085746765136719, -5.651920795440674, -5.104660511016846, -5.8081488609313965, -2.9664344787597656, -4.003085136413574, -1.158914566040039, -1.1678552627563477, -6.239765167236328, -4.942495822906494, -6.263473987579346, -3.815335750579834, -6.998912811279297, -5.662750244140625, -5.456465721130371, -5.392148494720459, -3.158517599105835, -5.898022651672363, -4.664564609527588, -4.593291759490967, -4.745819568634033, -3.9230263233184814, -4.237009525299072, -4.650343894958496, -7.245656490325928, -1.2452906370162964, -1.8455837965011597, -5.650877952575684, -1.8782390356063843, -5.931553840637207, -5.416886806488037, -6.158269882202148, -4.659433841705322, -4.65768575668335, -5.7314605712890625, -5.7381415367126465, -6.737180709838867, -6.785831928253174, -4.594491481781006, -3.6820242404937744, -4.808598518371582, -4.054956436157227, -8.189068794250488, -3.9206020832061768, -8.655532836914062, -5.475608825683594, -6.626595973968506, -4.293717861175537, -5.3140058517456055, -5.378447532653809, -4.962466716766357, -6.16073751449585, -4.049736976623535, -2.743424654006958, -5.168843746185303, -4.19088077545166, -3.74098539352417, -6.325962543487549, -5.879308700561523, -7.5980095863342285, -3.180410385131836, -6.013324737548828, -4.76077938079834, -5.143601417541504, -3.3361222743988037, -5.204126834869385, -7.113768577575684, -5.411035537719727, -5.9321489334106445, -5.960416793823242, -3.985590934753418, -5.773881912231445, -4.295639991760254, -4.529874801635742, -5.843574523925781, -2.9795894622802734, -1.7008997201919556, -4.471850872039795, -5.472909927368164, -3.8283016681671143, -3.491605043411255, -6.3131585121154785, -6.8902387619018555, -4.218731880187988, -6.54288911819458, -4.059981346130371, -5.047222137451172, -5.1024861335754395, -7.651242256164551, -5.61163330078125, -4.2455596923828125, -1.4720304012298584, -3.315901756286621, -3.6105806827545166, -4.894632816314697, -5.548748016357422, -5.5125298500061035, -5.0282182693481445, -3.4699018001556396, -5.820897102355957, -6.023533344268799, -5.534371852874756, -4.27764368057251, -6.955451011657715, -4.975529670715332, -4.42875862121582, -6.887077331542969, -5.93782377243042, -6.803813934326172, -6.775050640106201, -5.448317050933838, -4.765084743499756, -4.7802629470825195, -5.308901786804199, -3.321568012237549, -5.0247368812561035, -5.214547157287598, -5.1042304039001465, -3.4315059185028076, -4.512087821960449, -4.477338790893555, -1.966428518295288, -5.041121482849121, -4.66984748840332, -6.190635681152344, -6.207298278808594, -5.154498100280762, -1.3184481859207153, -3.323911666870117, -5.349886894226074, -3.2831287384033203, -8.034152030944824, -3.8035991191864014, -5.548771858215332, -5.5470757484436035, -3.8486578464508057, -8.083483695983887, -3.335026979446411, -3.695542335510254, -3.0604476928710938, -3.651172161102295, -4.234043598175049, -3.3378171920776367, -3.53587007522583, -3.8448777198791504, -4.861509799957275, -3.5394949913024902, -3.6433727741241455, -6.579660892486572, -2.3323965072631836, -5.922520160675049, -3.8503830432891846, -3.038764715194702, -1.5497442483901978, -5.561891555786133, -2.285505771636963, -2.287132740020752, -2.218592405319214, -5.007240295410156, -7.172662258148193, -6.829570770263672, -5.7672882080078125, -7.446052074432373, -4.027921676635742, -3.8802216053009033, -4.006475448608398, -4.995178699493408, -3.9188809394836426, -2.685703992843628, -5.913252830505371, -7.47176456451416, -3.1586287021636963, -2.680342197418213, -3.164469003677368, -6.6404128074646, -1.2945221662521362, -3.8305535316467285, -6.468914985656738, -5.5780839920043945, -2.810605764389038, -4.9529266357421875, -4.044477939605713, -2.7779178619384766, -6.163189888000488, -3.080559253692627, -5.709200382232666, -3.6076385974884033, -3.539414405822754, -3.658397674560547, -2.5860726833343506, -7.521630764007568, -4.281300067901611, -5.967121124267578, -3.3692400455474854, -8.389687538146973, -1.6614238023757935, -2.168894052505493, -2.036161422729492, -5.737299919128418, -7.726630210876465, -5.588902473449707, -1.3813893795013428, -6.2966837882995605, -5.170592784881592, -5.960597038269043, -6.860628604888916, -5.094735622406006, -3.9546661376953125, -4.344982147216797, -5.123847961425781, -1.8188295364379883, -5.107278823852539, -5.98708963394165, -5.856322765350342, -5.565218925476074, -6.598575115203857, -5.578567981719971, -5.57252311706543, -6.318058967590332, -5.992232799530029, -2.6766574382781982, -2.402930974960327, -3.950664758682251, -5.958016872406006, -5.397989749908447, -6.403143405914307, -5.03879976272583, -4.695323944091797, -4.1609015464782715, -1.3785996437072754, -4.432807922363281, -6.37293004989624, -6.174342155456543, -5.110764503479004, -5.345168113708496, -4.160013198852539, -6.423075199127197, -4.149532794952393, -6.221131801605225, -5.375369071960449, -5.410852432250977, -5.312596797943115, -4.11527681350708, -6.580610752105713, -6.974919319152832, -5.812350273132324, -6.451656341552734, -7.899737358093262, -4.865387439727783, -6.054208278656006, -6.972036361694336, -5.343327522277832, -6.683804035186768, -3.834198236465454, -3.928704023361206, -3.5966405868530273, -7.995288848876953, -6.907713413238525, -3.634296178817749, -7.169740676879883, -4.521305084228516, -4.43114709854126, -6.425845146179199, -7.705000877380371, -6.895549774169922, -5.498655796051025, -5.13392448425293, -4.9935302734375, -5.043507099151611, -5.740863800048828, -5.308409214019775, -2.399893283843994, -4.65814733505249, -4.361240386962891, -5.716010093688965, -6.3384504318237305, -4.971493721008301, -4.43966817855835, -5.406056880950928, -5.969736576080322, -4.700069427490234, -1.771933674812317, -4.709205627441406, -2.938227653503418, -5.827157020568848, -7.1336565017700195, -6.811678886413574, -6.841948986053467, -6.081143379211426, -3.1261327266693115, -6.286967754364014, -7.9697675704956055, -6.886228561401367, -7.442836284637451, -6.249406814575195, -6.260651588439941, -6.220911026000977, -4.095682621002197, -4.433848857879639, -2.4854042530059814, -5.452160358428955, -5.62819766998291, -5.969780921936035, -6.988001823425293, -6.084372043609619, -3.925851583480835, -6.4034743309021, -1.6204066276550293, -7.611380100250244, -3.7714006900787354, -6.944504737854004, -6.857823371887207, -6.57533597946167, -4.972890853881836, -5.493292808532715, -3.81376576423645, -6.9194793701171875, -4.666449069976807, -1.736754298210144, -5.062253475189209, -7.347141742706299, -4.317753314971924, -4.407597541809082, -4.333477973937988, -5.972519397735596, -4.808775901794434, -1.6880347728729248, -6.5313568115234375, -6.2536468505859375, -6.5052595138549805, -5.764766216278076, -5.668393611907959, -5.632529258728027, -5.274839401245117, -5.369162082672119, -7.027397632598877, -5.527777671813965, -6.290477275848389, -6.213266849517822, -8.37305736541748, -6.2187018394470215, -3.2725963592529297, -5.433281421661377, -4.860809803009033, -5.733865737915039, -4.835045337677002, -3.554517984390259, -6.928703308105469, -4.459978103637695, -5.999582290649414, -2.668686866760254, -3.4103188514709473, -3.072301149368286, -6.280163288116455, -3.559506893157959, -9.517014503479004, -6.2465901374816895, -7.459597110748291, -8.035579681396484, -7.495686054229736, -7.049095153808594, -6.738267421722412, -6.194339752197266, -6.724679946899414, -5.520520210266113, -5.736517429351807, -6.548472881317139, -6.447988986968994, -3.2694742679595947, -5.365882873535156, -5.665062427520752, -7.653161525726318, -5.959395408630371, -6.185660362243652, -6.1728715896606445, -6.979872226715088, -7.180774211883545, -3.251929759979248, -7.882199287414551, -5.839838027954102, -3.3218300342559814, -8.604852676391602, -5.265789031982422, -6.080540180206299, -5.306838512420654, -5.9665117263793945, -5.214447498321533, -7.0338521003723145, -8.057132720947266, -6.0834150314331055, -6.3610382080078125, -4.587947845458984, -5.961310863494873, -6.858391284942627, -6.250779151916504, -7.331359386444092, -7.104094505310059, -4.687736988067627, -4.856593608856201, -6.656824588775635, -6.460538864135742, -6.588405132293701, -4.997204303741455, -6.3011579513549805, -6.008610248565674, -6.232819557189941, -3.7530312538146973, -2.7757833003997803, -7.432861804962158, -4.081561088562012, -7.492144584655762, -1.1203045845031738, -7.280050277709961, -5.9127936363220215, -8.177964210510254, -5.777158737182617, -5.889603137969971, -6.58345365524292, -1.4631376266479492, -4.430858135223389, -2.484583616256714, -5.365490913391113, -6.739622116088867, -5.128332614898682, -5.944499969482422, -6.738961696624756, -5.862499237060547, -6.116231918334961, -1.872222661972046, -6.742226600646973, -2.923086643218994, -3.019090175628662, -6.4012980461120605, -5.877418518066406, -3.4859766960144043, -6.851166248321533, -2.7953920364379883, -3.3371992111206055, -7.348020553588867, -5.408647537231445, -8.181899070739746, -6.502037525177002, -5.459813594818115, -4.817983627319336, -5.888247013092041, -1.819743275642395, -4.534885406494141, -7.4131178855896, -4.924025535583496, -6.758670330047607, -5.044875621795654, -6.042315483093262, -5.971039295196533, -3.1386139392852783, -2.9426026344299316, -3.5249006748199463, -5.234958171844482, -4.534924030303955, -5.056425094604492, -5.477697849273682, -6.771204948425293, -6.630516529083252, -4.790397644042969, -3.5285274982452393, -5.999068260192871, -6.050747394561768, -2.362565040588379, -3.9209513664245605, -6.103620529174805, -3.0970335006713867, -4.4984354972839355, -5.295314311981201, -5.265718936920166, -5.681114673614502, -5.247465133666992, -4.6130828857421875, -5.95163106918335, -7.620982646942139, -5.5198211669921875, -5.949115753173828, -5.526401519775391, -3.8922901153564453, -5.889963626861572, -4.767244338989258, -5.538224697113037, -2.4562087059020996, -5.689216613769531, -3.265672445297241, -3.222987413406372, -3.723914861679077, -4.388507843017578, -4.476522922515869, -3.880855083465576, -5.062467098236084, -3.716343641281128, -5.146800994873047, -5.702709674835205, -7.570598602294922, -7.209867477416992, -6.173842430114746, -4.816761493682861, -5.617852687835693, -6.288573741912842, -4.682567596435547, -4.240675926208496, -3.081721305847168, -3.474700689315796, -5.028224945068359, -3.2067925930023193, -4.561229705810547, -4.0544610023498535, -4.878904342651367, -4.52362585067749, -4.848772048950195, -3.940714120864868, -4.814468860626221, -5.901839733123779, -8.94713020324707, -5.254069805145264, -5.159746170043945, -4.446839809417725, -7.241751194000244, -6.544256210327148, -1.5451552867889404, -4.077078819274902, -2.8003337383270264, -2.7734110355377197, -5.870383262634277, -4.862957954406738, -5.0638813972473145, -5.77470064163208, -6.051808834075928, -4.147749900817871, -5.594936370849609, -6.523500442504883, -3.170848846435547, -1.1933218240737915, -3.0843617916107178, -1.2651723623275757, -5.887473106384277, -4.455184459686279, -4.587045669555664, -5.624765872955322, -5.476326942443848, -5.885973930358887, -6.3917951583862305, -6.079983711242676, -6.457728862762451, -5.641128063201904, -5.524877548217773, -4.44797945022583, -7.000983238220215, -3.1094179153442383, -7.092690944671631, -7.009532451629639, -7.103737831115723, -6.863265514373779, -5.170731067657471, -3.959052324295044, -2.74937105178833, -6.873184680938721, -5.264469146728516, -4.978664875030518, -4.823667049407959, -5.9663004875183105, -5.076192855834961, -2.828772783279419, -9.50496768951416, -5.377653121948242, -6.3219146728515625, -5.264027118682861, -2.4350056648254395, -6.183557510375977, -2.8610644340515137, -5.236448287963867, -3.259418249130249, -5.145143508911133, -2.059856653213501, -4.151808738708496, -6.629406929016113, -4.256604194641113, -4.894891262054443, -3.7954905033111572, -4.649179458618164, -5.6717047691345215, -6.638343811035156, -5.706246376037598, -6.143181800842285, -3.516911745071411, -3.2394158840179443, -1.63161301612854, -4.107007026672363, -5.265878200531006, -5.244028091430664, -3.1213924884796143, -3.6030163764953613, -5.180462837219238, -1.333510398864746, -4.626878261566162, -4.481439113616943, -4.108478546142578, -4.229196548461914, -5.017834663391113, -4.395457744598389, -3.865584135055542, -5.147690773010254, -6.389153957366943, -6.406095027923584, -4.242560863494873, -2.427351236343384, -6.321959495544434, -5.655869960784912, -4.8316240310668945, -2.6271579265594482, -6.538159370422363, -6.037211894989014, -4.609832286834717, -6.924192905426025, -4.7401204109191895, -3.2129735946655273, -5.3876729011535645, -4.2356767654418945, -2.9003400802612305, -5.534043788909912, -6.394428253173828, -6.502477645874023, -5.4707183837890625, -7.639564037322998, -8.06626033782959, -4.090345859527588, -4.8594560623168945, -1.8171894550323486, -4.274696350097656, -5.355254173278809, -3.9419493675231934, -4.4871907234191895, -4.312781810760498, -5.76331090927124, -4.611917972564697, -5.148309707641602, -4.9047369956970215, -7.6971869468688965, -3.7075798511505127, -1.4231884479522705, -5.923371315002441, -4.643411636352539, -5.868462085723877, -6.40333366394043, -5.6764678955078125, -6.671194553375244, -6.527687072753906, -6.3568315505981445, -7.225309371948242, -4.464580535888672, -3.6920254230499268, -5.565371036529541, -3.3436691761016846, -3.071481227874756, -3.398482322692871, -5.577927112579346, -4.117425441741943, -4.236263275146484, -5.216109752655029, -4.9625139236450195, -5.390386581420898, -4.473746299743652, -4.4452948570251465, -7.527847766876221, -5.581944465637207, -6.355921268463135, -5.2146687507629395, -2.7058908939361572, -7.335063457489014, -2.609628677368164, -5.939245223999023, -5.420868396759033, -5.083742141723633, -4.427477836608887, -4.9771528244018555, -4.092432022094727, -9.515400886535645, -6.783475875854492, -6.718189716339111, -5.797737121582031, -6.644533157348633, -3.158778190612793, -2.520899772644043, -3.0028586387634277, -5.816954135894775, -5.504446029663086, -2.8947691917419434, -4.57102108001709, -5.183955669403076, -2.2620861530303955, -4.387191295623779, -4.0464558601379395, -7.267282485961914, -4.4369587898254395, -6.413030624389648, -3.5597078800201416, -5.433517932891846, -5.434370994567871, -4.974433898925781, -5.168947219848633, -6.612851142883301, -7.359219074249268, -8.02981185913086, -5.283576011657715, -6.730400085449219, -5.054073810577393, -4.9229583740234375, -6.621108531951904, -4.533096790313721, -5.420629978179932, -3.8523099422454834, -3.3190386295318604, -2.166853189468384, -5.268064498901367, -1.5532734394073486, -6.4295220375061035, -6.132070064544678, -4.220066547393799, -1.5908842086791992, -5.29583740234375, -2.7326908111572266, -1.29269540309906, -4.440942287445068, -5.307285785675049, -4.15222692489624, -3.99607515335083, -4.703699111938477, -7.761815547943115, -4.500574588775635, -6.644665718078613, -3.5440518856048584, -8.17636775970459, -5.185849189758301, -4.281337738037109, -6.501077651977539, -4.719829559326172, -3.5680339336395264, -5.48494291305542, -5.248031139373779, -3.608837604522705, -6.109600067138672, -4.284842491149902, -6.678533554077148, -5.645621299743652, -6.771423816680908, -6.206018447875977, -5.349534034729004, -5.634413719177246, -4.648178577423096, -4.679484844207764, -2.6317944526672363, -5.477181911468506, -6.012486457824707, -4.302258014678955, -3.6403136253356934, -5.199313163757324, -4.616394519805908, -2.6072371006011963, -5.038939476013184, -6.069540500640869, -5.40001916885376, -5.230782508850098, -7.171077728271484, -4.545399188995361, -4.165838718414307, -4.828783988952637, -2.8771445751190186, -6.2024335861206055, -4.137180328369141, -6.200951099395752, -7.031165599822998, -5.929134368896484, -4.118876934051514, -4.479386329650879, -2.690185070037842, -3.1696889400482178, -4.116566181182861, -3.909766435623169, -3.230731725692749, -1.1606661081314087, -3.9277164936065674, -5.370655059814453, -5.574094772338867, -3.878441095352173, -5.44993257522583, -7.110084056854248, -4.5294365882873535, -4.171932697296143, -4.734441757202148, -3.8073530197143555, -5.28717041015625, -2.9715046882629395, -5.082694053649902, -3.9121079444885254, -1.0989049673080444, -4.267685413360596, -4.7855610847473145, -7.4178361892700195, -8.187721252441406, -5.350678443908691, -8.018122673034668, -7.107433795928955, -8.893731117248535, -4.2535505294799805, -5.6820292472839355, -5.930811882019043, -5.813385009765625, -4.804814338684082, -6.0308732986450195, -5.201798439025879, -4.840799331665039, -1.738593339920044, -6.592501640319824, -7.554137706756592, -6.958373546600342, -3.9838056564331055, -2.677781820297241, -1.6639759540557861, -3.4348413944244385, -4.067887783050537, -4.465856552124023, -5.175615310668945, -4.544668674468994, -5.894432544708252, -5.723726749420166, -4.438457489013672, -4.7810163497924805, -5.357781410217285, -5.636044502258301, -7.395660877227783, -5.825026988983154, -2.009582996368408, -2.1454267501831055, -5.272110939025879, -5.4803314208984375, -6.416501522064209, -5.132767200469971, -7.74926233291626, -2.441289186477661, -5.699686527252197, -5.583529949188232, -1.7447882890701294, -4.934336185455322, -2.040874481201172, -5.565062522888184, -3.1496963500976562, -2.051805257797241, -2.061412811279297, -1.9149466753005981, -4.051640033721924, -4.6908135414123535, -3.218644857406616, -5.769277095794678, -4.8748698234558105, -3.939260482788086, -8.656794548034668, -5.883886814117432, -3.08917236328125, -5.130392074584961, -5.971621990203857, -1.2506872415542603, -1.531970500946045, -5.58372163772583, -6.633411407470703, -2.71958327293396, -4.086406707763672, -1.4756174087524414, -1.588333249092102, -6.070497512817383, -4.188779354095459, -6.281200885772705, -4.582430839538574, -6.253377914428711, -8.87948989868164, -5.698373317718506, -5.468827247619629, -4.541177749633789, -5.6824188232421875, -2.98993182182312, -5.220654010772705, -4.347977161407471, -5.779025077819824, -4.782719135284424, -4.714000701904297, -4.3328166007995605, -5.122270107269287, -3.559692144393921, -6.054579734802246, -5.222254276275635, -5.044393539428711, -4.8384504318237305, -4.786231517791748, -3.02629017829895, -7.7551751136779785, -3.8445751667022705, -4.303348541259766, -3.953498125076294, -5.768190860748291, -6.535517692565918, -7.868835926055908, -3.6663382053375244, -4.009341716766357, -4.910078525543213, -3.8758907318115234, -6.900491714477539, -3.4629359245300293, -3.2553751468658447, -5.096524238586426, -3.6954474449157715, -5.227289199829102, -4.845011234283447, -6.201385974884033, -6.537652015686035, -5.482324600219727, -4.410299301147461, -3.557020902633667, -4.481964111328125, -4.0641326904296875, -5.200299263000488, -4.382845401763916, -5.7634100914001465, -4.342026710510254, -4.88071870803833, -1.868654489517212, -4.73492431640625, -2.7716763019561768, -4.13011360168457, -4.843886375427246, -5.644552707672119, -7.481117248535156, -4.336183071136475, -3.8633182048797607, -4.24082612991333, -5.1550116539001465, -4.5663886070251465, -5.223449230194092, -4.091913223266602, -5.138964653015137, -4.811242580413818, -4.617586135864258, -4.390497207641602, -2.4660778045654297, -6.015417575836182, -1.600911259651184, -4.4588704109191895, -4.852147579193115, -5.181786060333252, -4.752815246582031, -3.282548666000366, -3.370770215988159, -5.005873680114746, -4.781423091888428, -4.492774963378906, -8.930577278137207, -5.836581230163574, -4.572357177734375, -4.519498348236084, -2.7205538749694824, -5.586045265197754, -5.462955474853516, -4.955944061279297, -3.9959535598754883, -3.466905355453491, -3.3874473571777344, -6.989668846130371, -5.628368854522705, -4.06780481338501, -5.1976776123046875, -1.6655060052871704, -4.584385395050049, -3.975069046020508, -7.650913238525391, -6.029016971588135, -7.734961032867432, -3.113776206970215, -4.1711039543151855, -5.016489028930664, -6.410208225250244, -4.069767951965332, -4.685146808624268, -5.312760353088379, -8.885442733764648, -6.008022308349609, -3.142861843109131, -5.350261211395264, -3.009219169616699, -3.376856803894043, -1.1896482706069946, -5.0159502029418945, -1.5423985719680786, -5.166004180908203, -3.396132230758667, -4.421092510223389, -4.388051509857178, -7.299294471740723, -5.094864368438721, -3.5427122116088867, -2.747889995574951, -2.8424630165100098, -1.702958106994629, -1.2633445262908936, -4.053632736206055, -3.837455987930298, -4.821822643280029, -5.629420757293701, -6.838027000427246, -3.4991655349731445, -2.9731388092041016, -5.640267848968506, -3.6364266872406006, -1.6704448461532593, -3.44978404045105, -2.9610860347747803, -4.479334831237793, -4.429670810699463, -1.8580046892166138, -5.223579406738281, -6.4657793045043945, -7.715049743652344, -6.349122047424316, -7.725639820098877, -3.2751364707946777, -4.89572286605835, -4.863093376159668, -8.738380432128906, -4.391620635986328, -5.225395679473877, -6.878137588500977, -4.706860542297363, -1.4906444549560547, -6.577682971954346, -7.580950736999512, -6.98729944229126, -6.510406970977783, -3.201972723007202, -3.5568151473999023, -3.8877675533294678, -4.042263031005859, -3.5818679332733154, -5.170255184173584, -2.7116591930389404, -5.120189666748047, -4.437686920166016, -2.7446322441101074, -3.116236448287964, -2.9950923919677734, -8.539347648620605, -3.7007594108581543, -3.056182861328125, -5.245118618011475, -4.93256950378418, -3.492285966873169, -3.435333013534546, -1.6312315464019775, -5.472005367279053, -4.619515895843506, -3.177222967147827, -3.1865787506103516, -3.9036927223205566, -4.80903434753418, -3.49984073638916, -5.03161096572876, -3.5210275650024414, -8.546024322509766, -4.843171119689941, -5.60367488861084, -8.9049072265625, -4.89510440826416, -4.648632049560547, -5.867718696594238, -6.091079235076904, -5.639057159423828, -3.0641467571258545, -5.68571138381958, -6.252801418304443, -6.334349632263184, -4.894475936889648, -5.384198188781738, -5.029960632324219, -3.882093906402588, -1.253002405166626, -6.876036643981934, -5.423802852630615, -5.553024768829346, -7.704269886016846, -4.177370071411133, -6.888019561767578, -5.217188358306885, -6.702544689178467, -5.719945430755615, -5.069360733032227, -1.3411896228790283, -5.855947971343994, -4.758867263793945, -6.805989742279053, -5.071094512939453, -2.789792776107788, -7.449431896209717, -2.682400703430176, -3.3954594135284424, -5.38250732421875, -4.074246406555176, -5.947977066040039, -6.9247727394104, -6.155035972595215, -7.307464599609375, -4.343313217163086, -4.593508720397949, -3.8957529067993164, -5.033126354217529, -5.235183238983154, -5.319934844970703, -7.803753852844238, -5.656435489654541, -7.7278151512146, -4.9316792488098145, -4.4564714431762695, -5.75320291519165, -6.190489292144775, -6.339414119720459, -4.6087822914123535, -6.004037857055664, -3.2367701530456543, -5.513296127319336, -8.186460494995117, -7.253097057342529, -1.316825270652771, -8.218941688537598, -8.727194786071777, -6.146248817443848, -2.892037868499756, -4.910992622375488, -8.699666023254395, -7.816496849060059, -7.201895713806152, -1.4566534757614136, -2.4985501766204834, -5.096231937408447, -5.349185943603516, -5.506577014923096, -5.060051918029785, -5.776259422302246, -5.875476837158203, -5.7493767738342285, -6.3702392578125, -4.364680767059326, -4.511617660522461, -4.536306858062744, -5.711915969848633, -3.561516523361206, -4.172100067138672, -4.889507293701172, -1.3538384437561035, -5.643230438232422, -4.763912677764893, -6.373689651489258, -4.365431308746338, -4.345857620239258, -1.7449729442596436, -4.794426918029785, -5.7939887046813965, -7.2604193687438965, -4.551199913024902, -3.2987661361694336, -2.850005865097046, -4.076029300689697, -4.455947399139404, -5.894320964813232, -4.60671854019165, -4.074150085449219, -3.632770299911499, -5.292862892150879, -1.4900590181350708, -4.402917385101318, -2.1328537464141846, -7.355485439300537, -5.521487236022949, -4.677563667297363, -4.719383716583252, -4.878076076507568, -6.484060764312744, -6.507745742797852, -3.9454195499420166, -3.191363573074341, -5.387866020202637, -7.18833065032959, -4.462347030639648, -8.088133811950684, -3.963801383972168, -2.720374345779419, -4.310025691986084, -4.260190486907959, -3.2905161380767822, -5.698761463165283, -5.392242908477783, -5.177027702331543, -1.5442383289337158, -7.263870716094971, -5.129605293273926, -5.407130241394043, -5.464593887329102, -7.035645961761475, -6.373569488525391, -4.009708881378174, -4.7013163566589355, -3.279179096221924, -6.027768135070801, -3.1934680938720703, -6.82440710067749, -1.223751187324524, -3.6222240924835205, -4.14056396484375, -4.07655143737793, -6.15783166885376, -4.104733467102051, -3.0415797233581543, -5.481170654296875, -5.1271071434021, -5.472112655639648, -1.7540520429611206, -6.939151763916016, -5.152867317199707, -4.20797061920166, -3.9594428539276123, -4.131828308105469, -4.083572864532471, -6.637576103210449, -5.416351795196533, -5.27883243560791, -5.447049617767334, -4.634209632873535, -5.730214595794678, -2.6659936904907227, -3.730742931365967, -3.806417226791382, -3.1900696754455566, -6.387166976928711, -4.339338779449463, -3.1255030632019043, -5.8571624755859375, -5.3347649574279785, -5.1222429275512695, -5.474602699279785, -3.0559070110321045, -5.6469502449035645, -6.12040901184082, -6.187911510467529, -3.0458498001098633, -2.8741769790649414, -4.069985389709473, -4.198508262634277, -6.929210186004639, -6.45148229598999, -5.17864990234375, -8.713945388793945, -3.47495436668396, -4.114887237548828, -6.887629985809326, -3.685828447341919, -5.703615665435791, -5.364715576171875, -5.65246057510376, -5.7485432624816895, -6.048919200897217, -4.953358173370361, -6.052825927734375, -5.828549385070801, -6.640533924102783, -4.406307697296143, -3.4282033443450928, -3.8382303714752197, -5.655989646911621, -5.8346943855285645, -5.2710652351379395, -6.772807598114014, -6.71145486831665, -5.360735893249512, -6.452454090118408, -4.99898624420166, -4.786824703216553, -4.184972763061523, -7.429703712463379, -5.8852763175964355, -1.5357599258422852, -3.288360357284546, -7.5048699378967285, -5.003209590911865, -5.351104259490967, -3.7716047763824463, -6.5729756355285645, -1.6955301761627197, -5.237919330596924, -3.4138402938842773, -7.423665523529053, -4.288491249084473, -2.8240580558776855, -1.7046211957931519, -5.034984111785889, -2.9041824340820312, -2.656379461288452, -8.6673002243042, -4.756133079528809, -4.753937244415283, -4.686976909637451, -3.3959500789642334, -5.307085990905762, -2.9835121631622314, -5.0620341300964355, -4.9306440353393555, -5.005492210388184, -3.6469173431396484, -4.473872661590576, -3.173579216003418, -5.3723015785217285, -7.037091255187988, -3.2540245056152344, -5.040594577789307, -3.972144842147827, -7.1752095222473145, -4.721743106842041, -3.2883617877960205, -5.993668556213379, -5.991241455078125, -5.528395175933838, -2.812112331390381, -5.956328868865967, -5.473621368408203, -5.4859395027160645, -7.0822601318359375, -5.513545036315918, -4.866387367248535, -5.410612106323242, -4.7489800453186035, -6.705715656280518, -5.167159557342529, -5.2734270095825195, -2.9938502311706543, -5.507716178894043, -5.394846439361572, -5.204969882965088, -5.4594645500183105, -3.6883583068847656, -5.138836860656738, -5.2687883377075195, -4.547000885009766, -2.5560944080352783, -4.311832904815674, -6.485200881958008, -5.708057880401611, -3.747115135192871, -3.444789171218872, -4.282712936401367, -5.051688194274902, -4.555873870849609, -5.583256721496582, -2.9959473609924316, -7.34701681137085, -7.344537258148193, -2.8091847896575928, -2.8045408725738525, -5.419061183929443, -2.739665985107422, -6.689966678619385, -2.9511559009552, -3.721421480178833, -4.7277021408081055, -7.51833438873291, -5.749955654144287, -6.965461730957031, -4.156090259552002, -4.156002998352051, -3.1964612007141113, -4.545643329620361, -2.7706472873687744, -3.5773375034332275, -2.184741973876953, -3.406869649887085, -5.166776657104492, -6.080002784729004, -5.568768501281738, -4.757811546325684, -4.158144950866699, -4.7209343910217285, -5.829105377197266, -3.6997921466827393, -1.2251521348953247, -4.316460132598877, -1.8422194719314575, -4.627889156341553, -2.437173843383789, -5.752333164215088, -7.184187412261963, -5.0799946784973145, -3.9708611965179443, -6.38379430770874, -8.009086608886719, -6.811064720153809, -6.267531394958496, -2.239466428756714, -5.588149547576904, -3.291196584701538, -2.006197929382324, -2.0262680053710938, -4.156082630157471, -4.80063533782959, -4.842507839202881, -5.359970569610596, -5.368035316467285, -4.963237762451172, -6.369938850402832, -6.797844409942627, -4.088356018066406, -6.48114538192749, -7.0041117668151855, -4.797945499420166, -4.825737953186035, -2.850654363632202, -5.05018424987793, -2.414611339569092, -5.350719928741455, -5.525542736053467, -5.704273700714111, -5.1282172203063965, -5.382666110992432, -5.930515289306641, -4.131930828094482, -4.361314296722412, -4.141069412231445, -5.623094081878662, -6.063847064971924, -6.371532440185547, -2.6943283081054688, -6.0047173500061035, -4.67145299911499, -5.858193874359131, -5.425690174102783, -5.680234432220459, -5.847789287567139, -3.6984195709228516, -2.7310431003570557, -6.1930623054504395, -5.289433002471924, -3.85703182220459, -4.695070266723633, -5.533332824707031, -2.1812901496887207, -4.44960880279541, -3.7441956996917725, -4.88560676574707, -5.094668388366699, -2.899319887161255, -3.391914129257202, -5.9559760093688965, -6.160808086395264, -3.831556558609009, -5.019759654998779, -5.031548023223877, -5.292382717132568, -5.599194049835205, -6.3085618019104, -4.348738670349121, -5.285278797149658, -6.252100944519043, -5.66737174987793, -5.518950939178467, -5.648313999176025, -6.414689540863037, -2.9072518348693848, -5.673105239868164, -6.585373878479004, -5.4272027015686035, -7.40885066986084, -4.74506950378418, -6.2422261238098145, -4.827879428863525, -5.325039863586426, -5.440110206604004, -5.546975612640381, -5.1041154861450195, -6.451977729797363, -5.267242908477783, -4.969030380249023, -1.682545781135559, -4.518006801605225, -3.7130868434906006, -4.862422466278076, -6.406975269317627, -6.4365153312683105, -4.517017364501953, -4.437679290771484, -5.342311382293701, -4.09394645690918, -1.1822420358657837, -4.484584331512451, -4.845889091491699, -3.8850948810577393, -6.001597881317139, -3.7689208984375, -5.6607890129089355, -5.778393268585205, -2.6512200832366943, -6.1439642906188965, -6.055613040924072, -6.5219011306762695, -7.011552810668945, -6.367674827575684, -5.3940277099609375, -5.496562480926514, -5.648609161376953, -6.260025501251221, -5.57173490524292, -5.919316291809082, -7.508398532867432, -7.596437454223633, -2.642615556716919, -2.8464341163635254, -5.160691261291504, -3.8763203620910645, -4.670567512512207, -6.140526294708252, -3.152667999267578, -3.3448948860168457, -4.094563961029053, -1.290183424949646, -4.332353115081787, -4.3698577880859375, -5.883978843688965, -6.522454738616943, -6.5144500732421875, -5.053483009338379, -4.002579689025879, -6.989850044250488, -7.233368873596191, -5.112252235412598, -3.4172611236572266, -6.2415595054626465, -4.391380310058594, -2.698768138885498, -5.885223865509033, -5.90170955657959, -5.671138286590576, -4.5453033447265625, -2.8028557300567627, -1.515351414680481, -1.8558481931686401, -6.470954418182373, -8.599417686462402, -4.456621170043945, -5.911756992340088, -8.1632080078125, -6.37474250793457, -5.829669952392578, -6.039859771728516, -4.403468132019043, -4.46531867980957, -3.648061513900757, -5.999847412109375, -3.9054620265960693, -7.4214768409729, -7.23238468170166, -8.943611145019531, -8.713485717773438, -4.784453392028809, -9.508028030395508, -7.1516947746276855, -1.518654704093933, -4.547333717346191, -3.379906415939331, -6.561243534088135, -3.814661741256714, -6.970765590667725, -6.2960968017578125, -3.083301305770874, -4.313204288482666, -5.074981212615967, -5.476450443267822, -2.7707295417785645, -6.397104740142822, -6.191537380218506, -5.717106819152832, -4.42618989944458, -3.953019380569458, -5.321854114532471, -6.051411151885986, -3.5685338973999023, -3.8855040073394775, -9.516676902770996, -6.328751564025879, -6.091208457946777, -6.246489524841309, -3.4234671592712402, -4.22063684463501, -3.3731541633605957, -5.6361188888549805, -7.166207313537598, -3.557596206665039, -2.7034530639648438, -3.037992477416992, -7.815741539001465, -4.548594951629639, -6.000101089477539, -8.194670677185059, -3.4147567749023438, -4.451176643371582, -6.317013263702393, -4.740177631378174, -4.748692035675049, -1.4584729671478271, -1.6803548336029053, -5.288564205169678, -6.839503765106201, -3.8108389377593994, -2.702345848083496, -3.6339972019195557, -1.52960205078125, -4.265908241271973, -5.3355607986450195, -6.417640209197998, -6.563052654266357, -2.3810312747955322, -3.6591601371765137, -4.498010158538818, -4.742203235626221, -5.054712772369385, -4.85838508605957, -5.952664852142334, -4.575773239135742, -4.609684944152832, -4.726103782653809, -6.164517879486084, -4.778262615203857, -2.806455373764038, -5.217071056365967, -4.9774556159973145, -4.092911243438721, -3.6904749870300293, -2.280240535736084, -4.190045356750488, -3.5064711570739746, -3.95646595954895, -5.761774063110352, -4.284834861755371, -6.046971797943115, -1.7888113260269165, -6.459720134735107, -3.519282102584839, -7.655827522277832, -7.360953330993652, -3.846353054046631, -4.506622314453125, -3.5271668434143066, -1.1800451278686523, -1.2010395526885986, -3.175631284713745, -1.118359088897705, -6.17862606048584, -8.943044662475586, -5.737514972686768, -4.345831394195557, -5.973794937133789, -6.642151355743408, -6.094099521636963, -6.19696569442749, -5.755694389343262, -2.8640754222869873, -5.0904154777526855, -4.409727096557617, -5.588040351867676, -4.62565803527832, -4.108545780181885, -6.128988265991211, -3.9285664558410645, -5.825018882751465, -5.680702209472656, -5.151127815246582, -4.808321475982666, -4.928153038024902, -4.922476291656494, -3.51220703125, -5.120319843292236, -5.925244331359863, -5.3546366691589355, -5.243260860443115, -5.386228561401367, -4.108236312866211, -3.795964479446411, -3.1706578731536865, -3.2450718879699707, -5.508402347564697, -4.1426496505737305, -4.420927047729492, -4.8171772956848145, -5.866814613342285, -5.672862529754639, -7.0613813400268555, -2.175739288330078, -5.15431022644043, -6.007645130157471, -4.108462810516357, -5.355459690093994, -2.6997015476226807, -3.930619955062866, -5.131685733795166, -5.0575456619262695, -1.6372054815292358, -3.392859935760498, -8.127312660217285, -3.1989080905914307, -3.3809778690338135, -2.5216639041900635, -6.395740985870361, -5.259961128234863, -3.605788230895996, -4.640326499938965, -4.911834716796875, -2.694812297821045, -2.649035930633545, -5.4773850440979, -5.805063247680664, -1.4372384548187256, -3.7542309761047363, -3.278661012649536, -3.0021395683288574, -4.05324649810791, -5.55763578414917, -5.83664608001709, -3.6354665756225586, -2.784334182739258, -7.273895740509033, -5.675531387329102, -8.000510215759277, -5.4554033279418945, -7.44243860244751, -6.145111560821533, -1.6953165531158447, -6.713057041168213, -4.813202381134033, -5.348757743835449, -5.774132251739502, -6.0725884437561035, -4.745149612426758, -5.916200637817383, -4.761351108551025, -6.903189659118652, -6.973482608795166, -4.683243751525879, -4.5590500831604, -4.7880473136901855, -3.116009473800659, -4.540956020355225, -3.9157557487487793, -5.180428504943848, -3.896848201751709, -4.06693696975708, -1.3321468830108643, -5.253269672393799, -4.32252311706543, -1.9366751909255981, -3.997987985610962, -4.788687229156494, -5.093015670776367, -5.231767654418945, -5.096038818359375, -5.498380661010742, -4.960005760192871, -5.06243896484375, -5.2645134925842285, -4.735480308532715, -4.7889509201049805, -6.269430637359619, -5.13340425491333, -5.8035454750061035, -6.123990535736084, -5.4460625648498535, -5.690182685852051, -4.703222751617432, -7.245170593261719, -5.559410572052002, -5.662680625915527, -6.5743889808654785, -7.029171943664551, -4.232839584350586, -5.301953315734863, -3.68373966217041, -6.0992841720581055, -7.658879280090332, -4.86436128616333, -7.1649675369262695, -5.671463966369629, -5.357760906219482, -5.276442050933838, -5.806654453277588, -6.529020309448242, -5.007803440093994, -4.981625080108643, -5.682646751403809, -5.966039180755615, -5.0819783210754395, -5.300076007843018, -3.274979591369629, -4.324901103973389, -3.7119288444519043, -4.569980621337891, -4.413461685180664, -2.91009521484375, -4.436234951019287, -4.449614524841309, -7.847383499145508, -5.294712543487549, -3.97971248626709, -4.029818534851074, -4.466552257537842, -6.7144646644592285, -1.6303974390029907, -6.080877304077148, -5.162892818450928, -4.622973918914795, -5.025318622589111, -5.515161514282227, -3.586242198944092, -3.339134931564331, -7.057143688201904, -4.928425312042236, -4.029831409454346, -3.2154412269592285, -5.569941520690918, -3.936661958694458, -2.0280165672302246, -6.354189872741699, -1.231168508529663, -4.663209438323975, -4.504031658172607, -7.410745143890381, -5.594048023223877, -4.839080810546875, -4.713258266448975, -5.053013324737549, -5.605850696563721, -5.670315742492676, -4.2407331466674805, -1.5302871465682983, -5.2004923820495605, -6.408450126647949, -6.227131366729736, -1.1702083349227905, -2.7436411380767822, -4.82069730758667, -5.951901435852051, -5.353052139282227, -3.208040475845337, -2.7233526706695557, -3.500243902206421, -4.8001275062561035, -8.215001106262207, -5.086246013641357, -4.326345443725586, -5.176477432250977, -5.255768299102783, -6.2334771156311035, -5.511760711669922, -5.974867343902588, -6.15636682510376, -2.8578553199768066, -5.515198230743408, -2.7796471118927, -3.479846715927124, -5.273459434509277, -4.744724273681641, -6.366196632385254, -3.4264605045318604, -2.3801324367523193, -7.304032325744629, -6.500486373901367, -6.696998596191406, -6.210899829864502, -5.944660186767578, -2.9386377334594727, -5.907139778137207, -4.7510085105896, -4.937653541564941, -4.863283157348633, -5.0910420417785645, -7.823362827301025, -2.282637357711792, -6.621956825256348, -4.722280502319336, -8.172256469726562, -7.716122150421143, -6.408197402954102, -5.904170036315918, -3.4733333587646484, -4.422985076904297, -7.830703258514404, -6.078871726989746, -1.6956337690353394, -4.045319557189941, -6.929365634918213, -6.941941738128662, -5.567104816436768, -5.824165344238281, -5.881902694702148, -5.22380256652832, -3.1218113899230957, -2.7685019969940186, -6.876769065856934, -6.479610919952393, -6.1044087409973145, -8.16102409362793, -4.465487957000732, -4.27783203125, -6.926010608673096, -7.592068195343018, -4.3734259605407715, -5.034788131713867, -4.429200649261475, -4.583340644836426, -1.1107560396194458, -4.740503787994385, -2.9435079097747803, -5.679835319519043, -3.856627941131592, -4.745696067810059, -8.0603609085083, -7.143890857696533, -5.239613056182861, -5.848618030548096, -6.766406059265137, -5.511163234710693, -6.351892471313477, -5.508713722229004, -5.921600341796875, -4.02194356918335, -2.6153995990753174, -1.5654916763305664, -3.1262753009796143, -5.646430492401123, -5.597957611083984, -3.5062828063964844, -4.772241592407227, -6.868638515472412, -5.324814796447754, -3.272104501724243, -4.338995456695557, -3.2995800971984863, -3.6401021480560303, -5.108071804046631, -4.640021800994873, -5.338242530822754, -8.18117904663086, -2.802022695541382, -6.698624134063721, -3.269388198852539, -3.3926477432250977, -5.642989158630371, -3.644885301589966, -3.95658278465271, -2.838425397872925, -3.8180689811706543, -4.639132499694824, -5.154644966125488, -5.219851016998291, -5.298738479614258, -5.856024742126465, -2.6303980350494385, -4.716817855834961, -6.634602069854736, -8.171162605285645, -8.194990158081055, -7.571539402008057, -7.6475372314453125, -6.963914394378662, -4.256689071655273, -5.709109783172607, -3.814199924468994, -5.68707275390625, -2.158798933029175, -6.171156406402588, -6.153805255889893, -6.126798629760742, -8.093705177307129, -2.867600917816162, -5.084770679473877, -5.155351161956787, -6.652278900146484, -6.0649590492248535, -6.057485103607178, -5.764244079589844, -5.068203449249268, -3.913672685623169, -3.8894968032836914, -4.602877140045166, -4.1907548904418945, -4.793100357055664, -3.557176113128662, -5.038585662841797, -4.586777687072754, -4.071915149688721, -2.700958728790283, -2.850782632827759, -3.985595226287842, -3.974912405014038, -3.2135462760925293, -4.057844638824463, -5.742913246154785, -8.670477867126465, -5.207568168640137, -5.3411865234375, -3.831460475921631, -6.732059955596924, -7.740087985992432, -5.375804424285889, -5.4014081954956055, -2.045408248901367, -4.506589889526367, -4.041637420654297, -2.080343246459961, -2.6023850440979004, -5.187222957611084, -5.981756687164307, -7.4732537269592285, -6.284175395965576, -3.5502071380615234, -2.823793411254883, -5.503790855407715, -5.62380313873291, -4.4346208572387695, -2.738133192062378, -5.497900485992432, -5.044268608093262, -6.9006571769714355, -1.561535358428955, -4.354330539703369, -5.115330219268799, -5.65967321395874, -5.542990684509277, -3.9668655395507812, -5.4903998374938965, -4.498680591583252, -6.763927936553955, -6.237724304199219, -3.281888484954834, -6.139507293701172, -4.304949760437012, -5.587916851043701, -5.52782678604126, -3.9035866260528564, -4.145951747894287, -4.3513665199279785, -6.894229412078857, -5.672086715698242, -5.747210502624512, -7.941349506378174, -4.403707981109619, -4.671118259429932, -5.407410144805908, -5.784460067749023, -5.499514579772949, -1.1715750694274902, -4.844211578369141, -4.387085437774658, -2.3039848804473877, -5.648832321166992, -1.9303804636001587, -5.881803512573242, -5.326159954071045, -5.982285976409912, -5.3805131912231445, -5.135923862457275, -6.025732040405273, -6.021719455718994, -5.449888229370117, -5.106869220733643, -2.8733460903167725, -6.3104729652404785, -5.929438591003418, -5.141593933105469, -2.446791172027588, -2.4204039573669434, -8.111706733703613, -8.4102783203125, -2.6433818340301514, -7.393160820007324, -1.820313811302185, -3.233762741088867, -4.363040447235107, -4.850450038909912, -3.427720546722412, -6.301194190979004, -4.04494571685791, -5.364718437194824, -5.147682189941406, -5.1600446701049805, -5.291315078735352, -3.970170736312866, -5.254793643951416, -6.955296516418457, -6.479061126708984, -5.861810684204102, -4.502299785614014, -5.7582526206970215, -5.744009971618652, -2.946506977081299, -4.064068794250488, -7.702054023742676, -6.473720073699951, -5.005502223968506, -5.624455451965332, -5.962499141693115, -5.674692153930664, -3.1243762969970703, -4.345744609832764, -1.8059298992156982, -4.511284351348877, -6.413839340209961, -4.709019184112549, -5.037458896636963, -5.752896785736084, -3.634617567062378, -2.598102569580078, -3.092514991760254, -6.836758613586426, -8.689581871032715, -8.648425102233887, -5.427987098693848, -5.387999534606934, -6.892459392547607, -3.1076509952545166, -3.161471128463745, -5.8049845695495605, -5.864837169647217, -6.428295612335205, -3.1375107765197754, -3.5451693534851074, -6.018307209014893, -5.893141269683838, -5.847443580627441, -3.6644535064697266, -4.4516167640686035, -4.403055667877197, -4.419416427612305, -4.842740058898926, -6.183337688446045, -3.545710802078247, -5.732091903686523, -6.067025661468506, -5.638280391693115, -7.568087100982666, -8.733949661254883, -5.711117744445801, -4.272603988647461, -2.9630050659179688, -3.8513591289520264, -4.669456481933594, -6.321338653564453, -4.468339443206787, -5.545301914215088, -6.1279497146606445, -3.8969013690948486, -6.699527263641357, -3.6913881301879883, -2.963770627975464, -5.303617000579834, -5.096391677856445, -4.484550952911377, -5.3673481941223145, -4.858142852783203, -1.3598449230194092, -3.431231737136841, -4.1123175621032715, -1.668370246887207, -4.9499101638793945, -3.2834248542785645, -4.038164138793945, -6.151089668273926, -2.7817585468292236, -5.3088250160217285, -5.228194236755371, -5.514913082122803, -7.720251083374023, -6.195092678070068, -5.637219429016113, -5.268333435058594, -6.648614406585693, -5.78438663482666, -6.3676605224609375, -2.8923122882843018, -5.877034664154053, -5.812449932098389, -4.163372993469238, -6.185033321380615, -4.671916484832764, -5.930042743682861, -2.47245192527771, -4.2870707511901855, -4.86111307144165, -3.4726572036743164, -5.054650783538818, -5.645951747894287, -5.764137268066406, -5.71273136138916, -5.255714416503906, -2.0148234367370605, -4.185441970825195, -4.348659038543701, -5.264175891876221, -8.156068801879883, -9.517267227172852, -4.220004558563232, -3.338789463043213, -5.1661505699157715, -3.904810667037964, -6.31196403503418, -6.209413051605225, -5.484524726867676, -5.890862464904785, -3.4717772006988525, -4.579634666442871, -7.63060998916626, -5.26798677444458, -4.911464214324951, -5.034491539001465, -6.814681529998779, -5.286825656890869, -5.007582664489746, -4.966054916381836, -5.770741939544678, -6.082267761230469, -7.132082939147949, -7.489612102508545, -1.9743317365646362, -5.894354343414307, -5.156872272491455, -5.469948768615723, -5.520661354064941, -1.6239676475524902, -4.746227741241455, -8.405784606933594, -3.4226441383361816, -7.731815814971924, -7.685507297515869, -6.2168426513671875, -3.296083927154541, -4.928387641906738, -5.158441543579102, -8.954952239990234, -8.15401554107666, -1.5345160961151123, -3.859422445297241, -4.973756313323975, -6.408762454986572, -6.891175270080566, -4.43110466003418, -2.639874219894409, -4.7168073654174805, -5.318454742431641, -5.830199241638184, -6.92765998840332, -4.3683247566223145, -4.646522045135498, -4.5515546798706055, -5.653574466705322, -5.474134922027588, -6.007862091064453, -5.843218803405762, -5.861893653869629], \"yaxis\": \"y\"}],\n",
              "                        {\"height\": 900, \"legend\": {\"tracegroupgap\": 0}, \"margin\": {\"t\": 60}, \"template\": {\"data\": {\"bar\": [{\"error_x\": {\"color\": \"#2a3f5f\"}, \"error_y\": {\"color\": \"#2a3f5f\"}, \"marker\": {\"line\": {\"color\": \"#E5ECF6\", \"width\": 0.5}}, \"type\": \"bar\"}], \"barpolar\": [{\"marker\": {\"line\": {\"color\": \"#E5ECF6\", \"width\": 0.5}}, \"type\": \"barpolar\"}], \"carpet\": [{\"aaxis\": {\"endlinecolor\": \"#2a3f5f\", \"gridcolor\": \"white\", \"linecolor\": \"white\", \"minorgridcolor\": \"white\", \"startlinecolor\": \"#2a3f5f\"}, \"baxis\": {\"endlinecolor\": \"#2a3f5f\", \"gridcolor\": \"white\", \"linecolor\": \"white\", \"minorgridcolor\": \"white\", \"startlinecolor\": \"#2a3f5f\"}, \"type\": \"carpet\"}], \"choropleth\": [{\"colorbar\": {\"outlinewidth\": 0, \"ticks\": \"\"}, \"type\": \"choropleth\"}], \"contour\": [{\"colorbar\": {\"outlinewidth\": 0, \"ticks\": \"\"}, \"colorscale\": [[0.0, \"#0d0887\"], [0.1111111111111111, \"#46039f\"], [0.2222222222222222, \"#7201a8\"], [0.3333333333333333, \"#9c179e\"], [0.4444444444444444, \"#bd3786\"], [0.5555555555555556, \"#d8576b\"], [0.6666666666666666, \"#ed7953\"], [0.7777777777777778, \"#fb9f3a\"], [0.8888888888888888, \"#fdca26\"], [1.0, \"#f0f921\"]], \"type\": \"contour\"}], \"contourcarpet\": [{\"colorbar\": {\"outlinewidth\": 0, \"ticks\": \"\"}, \"type\": \"contourcarpet\"}], \"heatmap\": [{\"colorbar\": {\"outlinewidth\": 0, \"ticks\": \"\"}, \"colorscale\": [[0.0, \"#0d0887\"], [0.1111111111111111, \"#46039f\"], [0.2222222222222222, \"#7201a8\"], [0.3333333333333333, \"#9c179e\"], [0.4444444444444444, \"#bd3786\"], [0.5555555555555556, \"#d8576b\"], [0.6666666666666666, \"#ed7953\"], [0.7777777777777778, \"#fb9f3a\"], [0.8888888888888888, \"#fdca26\"], [1.0, \"#f0f921\"]], \"type\": \"heatmap\"}], \"heatmapgl\": [{\"colorbar\": {\"outlinewidth\": 0, \"ticks\": \"\"}, \"colorscale\": [[0.0, \"#0d0887\"], [0.1111111111111111, \"#46039f\"], [0.2222222222222222, \"#7201a8\"], [0.3333333333333333, \"#9c179e\"], [0.4444444444444444, \"#bd3786\"], [0.5555555555555556, \"#d8576b\"], [0.6666666666666666, \"#ed7953\"], [0.7777777777777778, \"#fb9f3a\"], [0.8888888888888888, \"#fdca26\"], [1.0, \"#f0f921\"]], \"type\": \"heatmapgl\"}], \"histogram\": [{\"marker\": {\"colorbar\": {\"outlinewidth\": 0, \"ticks\": \"\"}}, \"type\": \"histogram\"}], \"histogram2d\": [{\"colorbar\": {\"outlinewidth\": 0, \"ticks\": \"\"}, \"colorscale\": [[0.0, \"#0d0887\"], [0.1111111111111111, \"#46039f\"], [0.2222222222222222, \"#7201a8\"], [0.3333333333333333, \"#9c179e\"], [0.4444444444444444, \"#bd3786\"], [0.5555555555555556, \"#d8576b\"], [0.6666666666666666, \"#ed7953\"], [0.7777777777777778, \"#fb9f3a\"], [0.8888888888888888, \"#fdca26\"], [1.0, \"#f0f921\"]], \"type\": \"histogram2d\"}], \"histogram2dcontour\": [{\"colorbar\": {\"outlinewidth\": 0, \"ticks\": \"\"}, \"colorscale\": [[0.0, \"#0d0887\"], [0.1111111111111111, \"#46039f\"], [0.2222222222222222, \"#7201a8\"], [0.3333333333333333, \"#9c179e\"], [0.4444444444444444, \"#bd3786\"], [0.5555555555555556, \"#d8576b\"], [0.6666666666666666, \"#ed7953\"], [0.7777777777777778, \"#fb9f3a\"], [0.8888888888888888, \"#fdca26\"], [1.0, \"#f0f921\"]], \"type\": \"histogram2dcontour\"}], \"mesh3d\": [{\"colorbar\": {\"outlinewidth\": 0, \"ticks\": \"\"}, \"type\": \"mesh3d\"}], \"parcoords\": [{\"line\": {\"colorbar\": {\"outlinewidth\": 0, \"ticks\": \"\"}}, \"type\": \"parcoords\"}], \"pie\": [{\"automargin\": true, \"type\": \"pie\"}], \"scatter\": [{\"marker\": {\"colorbar\": {\"outlinewidth\": 0, \"ticks\": \"\"}}, \"type\": \"scatter\"}], \"scatter3d\": [{\"line\": {\"colorbar\": {\"outlinewidth\": 0, \"ticks\": \"\"}}, \"marker\": {\"colorbar\": {\"outlinewidth\": 0, \"ticks\": \"\"}}, \"type\": \"scatter3d\"}], \"scattercarpet\": [{\"marker\": {\"colorbar\": {\"outlinewidth\": 0, \"ticks\": \"\"}}, \"type\": \"scattercarpet\"}], \"scattergeo\": [{\"marker\": {\"colorbar\": {\"outlinewidth\": 0, \"ticks\": \"\"}}, \"type\": \"scattergeo\"}], \"scattergl\": [{\"marker\": {\"colorbar\": {\"outlinewidth\": 0, \"ticks\": \"\"}}, \"type\": \"scattergl\"}], \"scattermapbox\": [{\"marker\": {\"colorbar\": {\"outlinewidth\": 0, \"ticks\": \"\"}}, \"type\": \"scattermapbox\"}], \"scatterpolar\": [{\"marker\": {\"colorbar\": {\"outlinewidth\": 0, \"ticks\": \"\"}}, \"type\": \"scatterpolar\"}], \"scatterpolargl\": [{\"marker\": {\"colorbar\": {\"outlinewidth\": 0, \"ticks\": \"\"}}, \"type\": \"scatterpolargl\"}], \"scatterternary\": [{\"marker\": {\"colorbar\": {\"outlinewidth\": 0, \"ticks\": \"\"}}, \"type\": \"scatterternary\"}], \"surface\": [{\"colorbar\": {\"outlinewidth\": 0, \"ticks\": \"\"}, \"colorscale\": [[0.0, \"#0d0887\"], [0.1111111111111111, \"#46039f\"], [0.2222222222222222, \"#7201a8\"], [0.3333333333333333, \"#9c179e\"], [0.4444444444444444, \"#bd3786\"], [0.5555555555555556, \"#d8576b\"], [0.6666666666666666, \"#ed7953\"], [0.7777777777777778, \"#fb9f3a\"], [0.8888888888888888, \"#fdca26\"], [1.0, \"#f0f921\"]], \"type\": \"surface\"}], \"table\": [{\"cells\": {\"fill\": {\"color\": \"#EBF0F8\"}, \"line\": {\"color\": \"white\"}}, \"header\": {\"fill\": {\"color\": \"#C8D4E3\"}, \"line\": {\"color\": \"white\"}}, \"type\": \"table\"}]}, \"layout\": {\"annotationdefaults\": {\"arrowcolor\": \"#2a3f5f\", \"arrowhead\": 0, \"arrowwidth\": 1}, \"coloraxis\": {\"colorbar\": {\"outlinewidth\": 0, \"ticks\": \"\"}}, \"colorscale\": {\"diverging\": [[0, \"#8e0152\"], [0.1, \"#c51b7d\"], [0.2, \"#de77ae\"], [0.3, \"#f1b6da\"], [0.4, \"#fde0ef\"], [0.5, \"#f7f7f7\"], [0.6, \"#e6f5d0\"], [0.7, \"#b8e186\"], [0.8, \"#7fbc41\"], [0.9, \"#4d9221\"], [1, \"#276419\"]], \"sequential\": [[0.0, \"#0d0887\"], [0.1111111111111111, \"#46039f\"], [0.2222222222222222, \"#7201a8\"], [0.3333333333333333, \"#9c179e\"], [0.4444444444444444, \"#bd3786\"], [0.5555555555555556, \"#d8576b\"], [0.6666666666666666, \"#ed7953\"], [0.7777777777777778, \"#fb9f3a\"], [0.8888888888888888, \"#fdca26\"], [1.0, \"#f0f921\"]], \"sequentialminus\": [[0.0, \"#0d0887\"], [0.1111111111111111, \"#46039f\"], [0.2222222222222222, \"#7201a8\"], [0.3333333333333333, \"#9c179e\"], [0.4444444444444444, \"#bd3786\"], [0.5555555555555556, \"#d8576b\"], [0.6666666666666666, \"#ed7953\"], [0.7777777777777778, \"#fb9f3a\"], [0.8888888888888888, \"#fdca26\"], [1.0, \"#f0f921\"]]}, \"colorway\": [\"#636efa\", \"#EF553B\", \"#00cc96\", \"#ab63fa\", \"#FFA15A\", \"#19d3f3\", \"#FF6692\", \"#B6E880\", \"#FF97FF\", \"#FECB52\"], \"font\": {\"color\": \"#2a3f5f\"}, \"geo\": {\"bgcolor\": \"white\", \"lakecolor\": \"white\", \"landcolor\": \"#E5ECF6\", \"showlakes\": true, \"showland\": true, \"subunitcolor\": \"white\"}, \"hoverlabel\": {\"align\": \"left\"}, \"hovermode\": \"closest\", \"mapbox\": {\"style\": \"light\"}, \"paper_bgcolor\": \"white\", \"plot_bgcolor\": \"#E5ECF6\", \"polar\": {\"angularaxis\": {\"gridcolor\": \"white\", \"linecolor\": \"white\", \"ticks\": \"\"}, \"bgcolor\": \"#E5ECF6\", \"radialaxis\": {\"gridcolor\": \"white\", \"linecolor\": \"white\", \"ticks\": \"\"}}, \"scene\": {\"xaxis\": {\"backgroundcolor\": \"#E5ECF6\", \"gridcolor\": \"white\", \"gridwidth\": 2, \"linecolor\": \"white\", \"showbackground\": true, \"ticks\": \"\", \"zerolinecolor\": \"white\"}, \"yaxis\": {\"backgroundcolor\": \"#E5ECF6\", \"gridcolor\": \"white\", \"gridwidth\": 2, \"linecolor\": \"white\", \"showbackground\": true, \"ticks\": \"\", \"zerolinecolor\": \"white\"}, \"zaxis\": {\"backgroundcolor\": \"#E5ECF6\", \"gridcolor\": \"white\", \"gridwidth\": 2, \"linecolor\": \"white\", \"showbackground\": true, \"ticks\": \"\", \"zerolinecolor\": \"white\"}}, \"shapedefaults\": {\"line\": {\"color\": \"#2a3f5f\"}}, \"ternary\": {\"aaxis\": {\"gridcolor\": \"white\", \"linecolor\": \"white\", \"ticks\": \"\"}, \"baxis\": {\"gridcolor\": \"white\", \"linecolor\": \"white\", \"ticks\": \"\"}, \"bgcolor\": \"#E5ECF6\", \"caxis\": {\"gridcolor\": \"white\", \"linecolor\": \"white\", \"ticks\": \"\"}}, \"title\": {\"x\": 0.05}, \"xaxis\": {\"automargin\": true, \"gridcolor\": \"white\", \"linecolor\": \"white\", \"ticks\": \"\", \"title\": {\"standoff\": 15}, \"zerolinecolor\": \"white\", \"zerolinewidth\": 2}, \"yaxis\": {\"automargin\": true, \"gridcolor\": \"white\", \"linecolor\": \"white\", \"ticks\": \"\", \"title\": {\"standoff\": 15}, \"zerolinecolor\": \"white\", \"zerolinewidth\": 2}}}, \"title\": {\"text\": \"Reduce FastText Visualization\"}, \"xaxis\": {\"anchor\": \"y\", \"domain\": [0.0, 1.0], \"title\": {\"text\": \"umap1\"}}, \"yaxis\": {\"anchor\": \"x\", \"domain\": [0.0, 1.0], \"title\": {\"text\": \"umap2\"}}},\n",
              "                        {\"responsive\": true}\n",
              "                    ).then(function(){\n",
              "                            \n",
              "var gd = document.getElementById('10442953-ce38-4b40-8635-f6df079b0898');\n",
              "var x = new MutationObserver(function (mutations, observer) {{\n",
              "        var display = window.getComputedStyle(gd).display;\n",
              "        if (!display || display === 'none') {{\n",
              "            console.log([gd, 'removed!']);\n",
              "            Plotly.purge(gd);\n",
              "            observer.disconnect();\n",
              "        }}\n",
              "}});\n",
              "\n",
              "// Listen for the removal of the full notebook cells\n",
              "var notebookContainer = gd.closest('#notebook-container');\n",
              "if (notebookContainer) {{\n",
              "    x.observe(notebookContainer, {childList: true});\n",
              "}}\n",
              "\n",
              "// Listen for the clearing of the current output cell\n",
              "var outputEl = gd.closest('.output');\n",
              "if (outputEl) {{\n",
              "    x.observe(outputEl, {childList: true});\n",
              "}}\n",
              "\n",
              "                        })\n",
              "                };\n",
              "                \n",
              "            </script>\n",
              "        </div>\n",
              "</body>\n",
              "</html>"
            ]
          },
          "metadata": {
            "tags": []
          }
        }
      ]
    },
    {
      "cell_type": "markdown",
      "metadata": {
        "id": "Z64FHpuuFe49"
      },
      "source": [
        "#SENTIMEN ANALISIS With Fast Text"
      ]
    },
    {
      "cell_type": "code",
      "metadata": {
        "colab": {
          "base_uri": "https://localhost:8080/"
        },
        "id": "4rtJURc0FlUO",
        "outputId": "b8a6fbcc-bdc3-464f-b6dd-c10a73a855da"
      },
      "source": [
        "%pip install jcopml"
      ],
      "execution_count": 29,
      "outputs": [
        {
          "output_type": "stream",
          "text": [
            "Collecting jcopml\n",
            "  Downloading https://files.pythonhosted.org/packages/c9/18/dbcdc47e1fdeee2271701a192cc1bae0ea3d10d8694e873bc12f936a850b/jcopml-1.1.10.tar.gz\n",
            "Requirement already satisfied: numpy in /usr/local/lib/python3.6/dist-packages (from jcopml) (1.19.4)\n",
            "Requirement already satisfied: scipy in /usr/local/lib/python3.6/dist-packages (from jcopml) (1.4.1)\n",
            "Requirement already satisfied: pandas in /usr/local/lib/python3.6/dist-packages (from jcopml) (1.1.5)\n",
            "Requirement already satisfied: scikit-learn in /usr/local/lib/python3.6/dist-packages (from jcopml) (0.22.2.post1)\n",
            "Requirement already satisfied: matplotlib in /usr/local/lib/python3.6/dist-packages (from jcopml) (3.2.2)\n",
            "Requirement already satisfied: seaborn in /usr/local/lib/python3.6/dist-packages (from jcopml) (0.11.0)\n",
            "Collecting scikit-optimize\n",
            "\u001b[?25l  Downloading https://files.pythonhosted.org/packages/8b/03/be33e89f55866065a02e515c5b319304a801a9f1027a9b311a9b1d1f8dc7/scikit_optimize-0.8.1-py2.py3-none-any.whl (101kB)\n",
            "\u001b[K     |████████████████████████████████| 102kB 6.4MB/s \n",
            "\u001b[?25hRequirement already satisfied: ipywidgets in /usr/local/lib/python3.6/dist-packages (from jcopml) (7.5.1)\n",
            "Requirement already satisfied: statsmodels in /usr/local/lib/python3.6/dist-packages (from jcopml) (0.10.2)\n",
            "Requirement already satisfied: python-dateutil>=2.7.3 in /usr/local/lib/python3.6/dist-packages (from pandas->jcopml) (2.8.1)\n",
            "Requirement already satisfied: pytz>=2017.2 in /usr/local/lib/python3.6/dist-packages (from pandas->jcopml) (2018.9)\n",
            "Requirement already satisfied: joblib>=0.11 in /usr/local/lib/python3.6/dist-packages (from scikit-learn->jcopml) (1.0.0)\n",
            "Requirement already satisfied: cycler>=0.10 in /usr/local/lib/python3.6/dist-packages (from matplotlib->jcopml) (0.10.0)\n",
            "Requirement already satisfied: pyparsing!=2.0.4,!=2.1.2,!=2.1.6,>=2.0.1 in /usr/local/lib/python3.6/dist-packages (from matplotlib->jcopml) (2.4.7)\n",
            "Requirement already satisfied: kiwisolver>=1.0.1 in /usr/local/lib/python3.6/dist-packages (from matplotlib->jcopml) (1.3.1)\n",
            "Collecting pyaml>=16.9\n",
            "  Downloading https://files.pythonhosted.org/packages/15/c4/1310a054d33abc318426a956e7d6df0df76a6ddfa9c66f6310274fb75d42/pyaml-20.4.0-py2.py3-none-any.whl\n",
            "Requirement already satisfied: ipykernel>=4.5.1 in /usr/local/lib/python3.6/dist-packages (from ipywidgets->jcopml) (4.10.1)\n",
            "Requirement already satisfied: ipython>=4.0.0; python_version >= \"3.3\" in /usr/local/lib/python3.6/dist-packages (from ipywidgets->jcopml) (5.5.0)\n",
            "Requirement already satisfied: nbformat>=4.2.0 in /usr/local/lib/python3.6/dist-packages (from ipywidgets->jcopml) (5.0.8)\n",
            "Requirement already satisfied: traitlets>=4.3.1 in /usr/local/lib/python3.6/dist-packages (from ipywidgets->jcopml) (4.3.3)\n",
            "Requirement already satisfied: widgetsnbextension~=3.5.0 in /usr/local/lib/python3.6/dist-packages (from ipywidgets->jcopml) (3.5.1)\n",
            "Requirement already satisfied: patsy>=0.4.0 in /usr/local/lib/python3.6/dist-packages (from statsmodels->jcopml) (0.5.1)\n",
            "Requirement already satisfied: six>=1.5 in /usr/local/lib/python3.6/dist-packages (from python-dateutil>=2.7.3->pandas->jcopml) (1.15.0)\n",
            "Requirement already satisfied: PyYAML in /usr/local/lib/python3.6/dist-packages (from pyaml>=16.9->scikit-optimize->jcopml) (3.13)\n",
            "Requirement already satisfied: jupyter-client in /usr/local/lib/python3.6/dist-packages (from ipykernel>=4.5.1->ipywidgets->jcopml) (5.3.5)\n",
            "Requirement already satisfied: tornado>=4.0 in /usr/local/lib/python3.6/dist-packages (from ipykernel>=4.5.1->ipywidgets->jcopml) (5.1.1)\n",
            "Requirement already satisfied: pexpect; sys_platform != \"win32\" in /usr/local/lib/python3.6/dist-packages (from ipython>=4.0.0; python_version >= \"3.3\"->ipywidgets->jcopml) (4.8.0)\n",
            "Requirement already satisfied: decorator in /usr/local/lib/python3.6/dist-packages (from ipython>=4.0.0; python_version >= \"3.3\"->ipywidgets->jcopml) (4.4.2)\n",
            "Requirement already satisfied: pickleshare in /usr/local/lib/python3.6/dist-packages (from ipython>=4.0.0; python_version >= \"3.3\"->ipywidgets->jcopml) (0.7.5)\n",
            "Requirement already satisfied: simplegeneric>0.8 in /usr/local/lib/python3.6/dist-packages (from ipython>=4.0.0; python_version >= \"3.3\"->ipywidgets->jcopml) (0.8.1)\n",
            "Requirement already satisfied: setuptools>=18.5 in /usr/local/lib/python3.6/dist-packages (from ipython>=4.0.0; python_version >= \"3.3\"->ipywidgets->jcopml) (51.0.0)\n",
            "Requirement already satisfied: prompt-toolkit<2.0.0,>=1.0.4 in /usr/local/lib/python3.6/dist-packages (from ipython>=4.0.0; python_version >= \"3.3\"->ipywidgets->jcopml) (1.0.18)\n",
            "Requirement already satisfied: pygments in /usr/local/lib/python3.6/dist-packages (from ipython>=4.0.0; python_version >= \"3.3\"->ipywidgets->jcopml) (2.6.1)\n",
            "Requirement already satisfied: jsonschema!=2.5.0,>=2.4 in /usr/local/lib/python3.6/dist-packages (from nbformat>=4.2.0->ipywidgets->jcopml) (2.6.0)\n",
            "Requirement already satisfied: ipython-genutils in /usr/local/lib/python3.6/dist-packages (from nbformat>=4.2.0->ipywidgets->jcopml) (0.2.0)\n",
            "Requirement already satisfied: jupyter-core in /usr/local/lib/python3.6/dist-packages (from nbformat>=4.2.0->ipywidgets->jcopml) (4.7.0)\n",
            "Requirement already satisfied: notebook>=4.4.1 in /usr/local/lib/python3.6/dist-packages (from widgetsnbextension~=3.5.0->ipywidgets->jcopml) (5.3.1)\n",
            "Requirement already satisfied: pyzmq>=13 in /usr/local/lib/python3.6/dist-packages (from jupyter-client->ipykernel>=4.5.1->ipywidgets->jcopml) (20.0.0)\n",
            "Requirement already satisfied: ptyprocess>=0.5 in /usr/local/lib/python3.6/dist-packages (from pexpect; sys_platform != \"win32\"->ipython>=4.0.0; python_version >= \"3.3\"->ipywidgets->jcopml) (0.6.0)\n",
            "Requirement already satisfied: wcwidth in /usr/local/lib/python3.6/dist-packages (from prompt-toolkit<2.0.0,>=1.0.4->ipython>=4.0.0; python_version >= \"3.3\"->ipywidgets->jcopml) (0.2.5)\n",
            "Requirement already satisfied: jinja2 in /usr/local/lib/python3.6/dist-packages (from notebook>=4.4.1->widgetsnbextension~=3.5.0->ipywidgets->jcopml) (2.11.2)\n",
            "Requirement already satisfied: terminado>=0.8.1 in /usr/local/lib/python3.6/dist-packages (from notebook>=4.4.1->widgetsnbextension~=3.5.0->ipywidgets->jcopml) (0.9.1)\n",
            "Requirement already satisfied: nbconvert in /usr/local/lib/python3.6/dist-packages (from notebook>=4.4.1->widgetsnbextension~=3.5.0->ipywidgets->jcopml) (5.6.1)\n",
            "Requirement already satisfied: Send2Trash in /usr/local/lib/python3.6/dist-packages (from notebook>=4.4.1->widgetsnbextension~=3.5.0->ipywidgets->jcopml) (1.5.0)\n",
            "Requirement already satisfied: MarkupSafe>=0.23 in /usr/local/lib/python3.6/dist-packages (from jinja2->notebook>=4.4.1->widgetsnbextension~=3.5.0->ipywidgets->jcopml) (1.1.1)\n",
            "Requirement already satisfied: entrypoints>=0.2.2 in /usr/local/lib/python3.6/dist-packages (from nbconvert->notebook>=4.4.1->widgetsnbextension~=3.5.0->ipywidgets->jcopml) (0.3)\n",
            "Requirement already satisfied: testpath in /usr/local/lib/python3.6/dist-packages (from nbconvert->notebook>=4.4.1->widgetsnbextension~=3.5.0->ipywidgets->jcopml) (0.4.4)\n",
            "Requirement already satisfied: pandocfilters>=1.4.1 in /usr/local/lib/python3.6/dist-packages (from nbconvert->notebook>=4.4.1->widgetsnbextension~=3.5.0->ipywidgets->jcopml) (1.4.3)\n",
            "Requirement already satisfied: mistune<2,>=0.8.1 in /usr/local/lib/python3.6/dist-packages (from nbconvert->notebook>=4.4.1->widgetsnbextension~=3.5.0->ipywidgets->jcopml) (0.8.4)\n",
            "Requirement already satisfied: bleach in /usr/local/lib/python3.6/dist-packages (from nbconvert->notebook>=4.4.1->widgetsnbextension~=3.5.0->ipywidgets->jcopml) (3.2.1)\n",
            "Requirement already satisfied: defusedxml in /usr/local/lib/python3.6/dist-packages (from nbconvert->notebook>=4.4.1->widgetsnbextension~=3.5.0->ipywidgets->jcopml) (0.6.0)\n",
            "Requirement already satisfied: packaging in /usr/local/lib/python3.6/dist-packages (from bleach->nbconvert->notebook>=4.4.1->widgetsnbextension~=3.5.0->ipywidgets->jcopml) (20.8)\n",
            "Requirement already satisfied: webencodings in /usr/local/lib/python3.6/dist-packages (from bleach->nbconvert->notebook>=4.4.1->widgetsnbextension~=3.5.0->ipywidgets->jcopml) (0.5.1)\n",
            "Building wheels for collected packages: jcopml\n",
            "  Building wheel for jcopml (setup.py) ... \u001b[?25l\u001b[?25hdone\n",
            "  Created wheel for jcopml: filename=jcopml-1.1.10-py2.py3-none-any.whl size=33230 sha256=7b186159c09e4eaded3988e0a96ab7fb92e756e21c2108d7ce725c4cc9742029\n",
            "  Stored in directory: /root/.cache/pip/wheels/82/22/ce/b8b4c3400f788e5050b5b4b4d988884b8ec72b6b8751693914\n",
            "Successfully built jcopml\n",
            "Installing collected packages: pyaml, scikit-optimize, jcopml\n",
            "Successfully installed jcopml-1.1.10 pyaml-20.4.0 scikit-optimize-0.8.1\n"
          ],
          "name": "stdout"
        }
      ]
    },
    {
      "cell_type": "code",
      "metadata": {
        "id": "mYZhenDV77Sv"
      },
      "source": [
        "import numpy as np\n",
        "import pandas as pd\n",
        "\n",
        "from sklearn.model_selection import train_test_split\n",
        "from sklearn.pipeline import Pipeline\n",
        "from sklearn.compose import ColumnTransformer\n",
        "\n",
        "from jcopml.pipeline import num_pipe, cat_pipe\n",
        "from jcopml.utils import save_model, load_model\n",
        "from jcopml.plot import plot_missing_value\n",
        "from jcopml.feature_importance import mean_score_decrease\n",
        "\n"
      ],
      "execution_count": 30,
      "outputs": []
    },
    {
      "cell_type": "code",
      "metadata": {
        "colab": {
          "base_uri": "https://localhost:8080/"
        },
        "id": "Sh3qwozo8cLp",
        "outputId": "48075c4b-07ff-4641-c528-93377a656106"
      },
      "source": [
        "%pip install xgboost"
      ],
      "execution_count": 31,
      "outputs": [
        {
          "output_type": "stream",
          "text": [
            "Requirement already satisfied: xgboost in /usr/local/lib/python3.6/dist-packages (0.90)\n",
            "Requirement already satisfied: scipy in /usr/local/lib/python3.6/dist-packages (from xgboost) (1.4.1)\n",
            "Requirement already satisfied: numpy in /usr/local/lib/python3.6/dist-packages (from xgboost) (1.19.4)\n"
          ],
          "name": "stdout"
        }
      ]
    },
    {
      "cell_type": "code",
      "metadata": {
        "id": "M_spa58C9h1l"
      },
      "source": [
        "from nltk.tokenize import word_tokenize\n",
        "from nltk.corpus import stopwords\n",
        "from string import punctuation\n",
        "\n",
        "sw_english = stopwords.words (\"english\") + list(punctuation)"
      ],
      "execution_count": 32,
      "outputs": []
    },
    {
      "cell_type": "code",
      "metadata": {
        "colab": {
          "base_uri": "https://localhost:8080/",
          "height": 715
        },
        "id": "kZk93BUf9jpL",
        "outputId": "0cb129e9-639d-4b00-b020-bd1554206668"
      },
      "source": [
        "df = pd.read_csv(\"dataclean.csv\")\n",
        "df.head()"
      ],
      "execution_count": 33,
      "outputs": [
        {
          "output_type": "execute_result",
          "data": {
            "text/html": [
              "<div>\n",
              "<style scoped>\n",
              "    .dataframe tbody tr th:only-of-type {\n",
              "        vertical-align: middle;\n",
              "    }\n",
              "\n",
              "    .dataframe tbody tr th {\n",
              "        vertical-align: top;\n",
              "    }\n",
              "\n",
              "    .dataframe thead th {\n",
              "        text-align: right;\n",
              "    }\n",
              "</style>\n",
              "<table border=\"1\" class=\"dataframe\">\n",
              "  <thead>\n",
              "    <tr style=\"text-align: right;\">\n",
              "      <th></th>\n",
              "      <th>Unnamed: 0</th>\n",
              "      <th>userid</th>\n",
              "      <th>post</th>\n",
              "      <th>ques</th>\n",
              "      <th>ans</th>\n",
              "      <th>asker</th>\n",
              "      <th>ans1</th>\n",
              "      <th>severity1 LOW</th>\n",
              "      <th>bully1</th>\n",
              "      <th>ans2</th>\n",
              "      <th>severity2 Middle</th>\n",
              "      <th>bully2</th>\n",
              "      <th>ans3</th>\n",
              "      <th>severity3 hight</th>\n",
              "      <th>bully3</th>\n",
              "      <th>tokenized_post</th>\n",
              "      <th>lowered_tokenized_post</th>\n",
              "      <th>stop_words_lower_tokenized_post</th>\n",
              "      <th>filtered_tokenized_post</th>\n",
              "      <th>stemmed_post</th>\n",
              "    </tr>\n",
              "  </thead>\n",
              "  <tbody>\n",
              "    <tr>\n",
              "      <th>0</th>\n",
              "      <td>4351</td>\n",
              "      <td>lauraaatxd</td>\n",
              "      <td>Q: (.) (.) boobies are my passion!&lt;br&gt;A: ... c...</td>\n",
              "      <td>(.) (.) boobies are my passion!</td>\n",
              "      <td>... cool?</td>\n",
              "      <td>None</td>\n",
              "      <td>Yes</td>\n",
              "      <td>6.0</td>\n",
              "      <td>(.) (.) boobies are my passion!</td>\n",
              "      <td>No</td>\n",
              "      <td>0.0</td>\n",
              "      <td>NaN</td>\n",
              "      <td>No</td>\n",
              "      <td>0.0</td>\n",
              "      <td>NaN</td>\n",
              "      <td>['Q', ':', '(', '.', ')', '(', '.', ')', 'boob...</td>\n",
              "      <td>['q', ':', '(', '.', ')', '(', '.', ')', 'boob...</td>\n",
              "      <td>['q', ':', '(', '.', ')', '(', '.', ')', 'boob...</td>\n",
              "      <td>['boobies', 'passion', '...', 'cool']</td>\n",
              "      <td>['booby', 'passion', '...', 'cool']</td>\n",
              "    </tr>\n",
              "    <tr>\n",
              "      <th>1</th>\n",
              "      <td>11585</td>\n",
              "      <td>outlaw9000</td>\n",
              "      <td>Q: Real outlaw? Nice(: Bad to the bone?&lt;br&gt;A: ...</td>\n",
              "      <td>Real outlaw? Nice(: Bad to the bone?</td>\n",
              "      <td>very In Dec I got out of jail after a 6 month ...</td>\n",
              "      <td>None</td>\n",
              "      <td>Yes</td>\n",
              "      <td>3.0</td>\n",
              "      <td>I am still on probation for that shit.</td>\n",
              "      <td>No</td>\n",
              "      <td>0.0</td>\n",
              "      <td>NaN</td>\n",
              "      <td>No</td>\n",
              "      <td>0.0</td>\n",
              "      <td>NaN</td>\n",
              "      <td>['Q', ':', 'Real', 'outlaw', '?', 'Nice', '(',...</td>\n",
              "      <td>['q', ':', 'real', 'outlaw', '?', 'nice', '(',...</td>\n",
              "      <td>['q', ':', 'real', 'outlaw', 'nice', '(', ':',...</td>\n",
              "      <td>['real', 'outlaw', 'nice', 'bad', 'bone', 'dec...</td>\n",
              "      <td>['real', 'outlaw', 'nice', 'bad', 'bone', 'dec...</td>\n",
              "    </tr>\n",
              "    <tr>\n",
              "      <th>2</th>\n",
              "      <td>9702</td>\n",
              "      <td>lalabitches</td>\n",
              "      <td>Q: peyton (ugly wite skranyy hoeish  stank  wa...</td>\n",
              "      <td>peyton (ugly wite skranyy hoeish  stank  wanna...</td>\n",
              "      <td>yup i think i rote this myself lol ahaaa;] and...</td>\n",
              "      <td>None</td>\n",
              "      <td>Yes</td>\n",
              "      <td>8.0</td>\n",
              "      <td>peyton (ugly wite skranyy hoeish stank wannabe...</td>\n",
              "      <td>No</td>\n",
              "      <td>0.0</td>\n",
              "      <td>NaN</td>\n",
              "      <td>No</td>\n",
              "      <td>0.0</td>\n",
              "      <td>NaN</td>\n",
              "      <td>['Q', ':', 'peyton', '(', 'ugly', 'wite', 'skr...</td>\n",
              "      <td>['q', ':', 'peyton', '(', 'ugly', 'wite', 'skr...</td>\n",
              "      <td>['q', ':', 'peyton', '(', 'ugly', 'wite', 'skr...</td>\n",
              "      <td>['peyton', 'ugly', 'wite', 'skranyy', 'hoeish'...</td>\n",
              "      <td>['peyton', 'ugly', 'wite', 'skranyy', 'hoeish'...</td>\n",
              "    </tr>\n",
              "    <tr>\n",
              "      <th>3</th>\n",
              "      <td>4395</td>\n",
              "      <td>lauraaatxd</td>\n",
              "      <td>Q: Did you hangout with moises today  because ...</td>\n",
              "      <td>Did you hangout with moises today  because i s...</td>\n",
              "      <td>yes i did and dont worry about it:)</td>\n",
              "      <td>None</td>\n",
              "      <td>Yes</td>\n",
              "      <td>4.0</td>\n",
              "      <td>Did you hangout with moises today because i sa...</td>\n",
              "      <td>Yes</td>\n",
              "      <td>4.0</td>\n",
              "      <td>your in 7th grade for crying out loud???</td>\n",
              "      <td>No</td>\n",
              "      <td>0.0</td>\n",
              "      <td>NaN</td>\n",
              "      <td>['Q', ':', 'Did', 'you', 'hangout', 'with', 'm...</td>\n",
              "      <td>['q', ':', 'did', 'you', 'hangout', 'with', 'm...</td>\n",
              "      <td>['q', ':', 'hangout', 'moises', 'today', 'saw'...</td>\n",
              "      <td>['hangout', 'moises', 'today', 'saw', 'status'...</td>\n",
              "      <td>['hangout', 'moises', 'today', 'saw', 'status'...</td>\n",
              "    </tr>\n",
              "    <tr>\n",
              "      <th>4</th>\n",
              "      <td>11580</td>\n",
              "      <td>outlaw9000</td>\n",
              "      <td>Q: r u a boy or girl?&lt;br&gt;A: Man</td>\n",
              "      <td>r u a boy or girl?</td>\n",
              "      <td>Man</td>\n",
              "      <td>None</td>\n",
              "      <td>Yes</td>\n",
              "      <td>4.0</td>\n",
              "      <td>are u a boy or girl</td>\n",
              "      <td>No</td>\n",
              "      <td>0.0</td>\n",
              "      <td>NaN</td>\n",
              "      <td>No</td>\n",
              "      <td>0.0</td>\n",
              "      <td>NaN</td>\n",
              "      <td>['Q', ':', 'r', 'u', 'a', 'boy', 'or', 'girl',...</td>\n",
              "      <td>['q', ':', 'r', 'u', 'a', 'boy', 'or', 'girl',...</td>\n",
              "      <td>['q', ':', 'r', 'u', 'boy', 'girl', '&lt;', 'br',...</td>\n",
              "      <td>['boy', 'girl', 'man']</td>\n",
              "      <td>['boy', 'girl', 'man']</td>\n",
              "    </tr>\n",
              "  </tbody>\n",
              "</table>\n",
              "</div>"
            ],
            "text/plain": [
              "   Unnamed: 0  ...                                       stemmed_post\n",
              "0        4351  ...                ['booby', 'passion', '...', 'cool']\n",
              "1       11585  ...  ['real', 'outlaw', 'nice', 'bad', 'bone', 'dec...\n",
              "2        9702  ...  ['peyton', 'ugly', 'wite', 'skranyy', 'hoeish'...\n",
              "3        4395  ...  ['hangout', 'moises', 'today', 'saw', 'status'...\n",
              "4       11580  ...                             ['boy', 'girl', 'man']\n",
              "\n",
              "[5 rows x 20 columns]"
            ]
          },
          "metadata": {
            "tags": []
          },
          "execution_count": 33
        }
      ]
    },
    {
      "cell_type": "code",
      "metadata": {
        "colab": {
          "base_uri": "https://localhost:8080/"
        },
        "id": "BLbbc9E--AY1",
        "outputId": "820b0162-8427-427f-fb45-ca5fd2824c3d"
      },
      "source": [
        "df.ans1.value_counts(normalize=True)"
      ],
      "execution_count": 34,
      "outputs": [
        {
          "output_type": "execute_result",
          "data": {
            "text/plain": [
              "No     0.5\n",
              "Yes    0.5\n",
              "Name: ans1, dtype: float64"
            ]
          },
          "metadata": {
            "tags": []
          },
          "execution_count": 34
        }
      ]
    },
    {
      "cell_type": "code",
      "metadata": {
        "id": "PGtqA21nA5I-"
      },
      "source": [
        "from gensim.models import FastText"
      ],
      "execution_count": 35,
      "outputs": []
    },
    {
      "cell_type": "code",
      "metadata": {
        "id": "W_btwax_A8b2"
      },
      "source": [
        "w2v = FastText.load(\"model/fasttext/cyberbullying.fasttext\").wv"
      ],
      "execution_count": 36,
      "outputs": []
    },
    {
      "cell_type": "code",
      "metadata": {
        "id": "Y4Q7_i6KBOgY"
      },
      "source": [
        "def sent_vector(sentence, w2v_model, stopwords):\n",
        "    vecs = [w2v_model[word.lower()] for word in word_tokenize(sentence) if word not in stopwords]\n",
        "    sent_vec = np.mean(vecs, axis=0)\n",
        "    return sent_vec\n",
        "\n",
        "def norm_sent_vector(sentence, w2v_model, stopwords):\n",
        "    vecs = [w2v_model[word.lower()] for word in word_tokenize(sentence) if word not in stopwords]\n",
        "    norm_vecs = [vec / np.linalg.norm(vec) for vec in vecs if np.linalg.norm(vec) > 0]\n",
        "    sent_vec = np.mean(norm_vecs, axis=0)\n",
        "    return sent_vec\n",
        "    "
      ],
      "execution_count": 37,
      "outputs": []
    },
    {
      "cell_type": "code",
      "metadata": {
        "colab": {
          "base_uri": "https://localhost:8080/"
        },
        "id": "yhjX96SgBVXh",
        "outputId": "d004723c-cefa-4b24-fbf1-d5b86e3322d4"
      },
      "source": [
        "vecs = [norm_sent_vector(sentence, w2v, sw_english) for sentence in df.ans1]\n",
        "vecs = np.array(vecs)\n",
        "vecs"
      ],
      "execution_count": 38,
      "outputs": [
        {
          "output_type": "execute_result",
          "data": {
            "text/plain": [
              "array([[-0.02403806, -0.01592385, -0.00841133, ..., -0.03197677,\n",
              "        -0.06263378, -0.19695777],\n",
              "       [-0.02403806, -0.01592385, -0.00841133, ..., -0.03197677,\n",
              "        -0.06263378, -0.19695777],\n",
              "       [-0.02403806, -0.01592385, -0.00841133, ..., -0.03197677,\n",
              "        -0.06263378, -0.19695777],\n",
              "       ...,\n",
              "       [ 0.20343523,  0.01278446, -0.0228087 , ..., -0.04002877,\n",
              "        -0.09330375,  0.00993961],\n",
              "       [ 0.20343523,  0.01278446, -0.0228087 , ..., -0.04002877,\n",
              "        -0.09330375,  0.00993961],\n",
              "       [ 0.20343523,  0.01278446, -0.0228087 , ..., -0.04002877,\n",
              "        -0.09330375,  0.00993961]], dtype=float32)"
            ]
          },
          "metadata": {
            "tags": []
          },
          "execution_count": 38
        }
      ]
    },
    {
      "cell_type": "code",
      "metadata": {
        "colab": {
          "base_uri": "https://localhost:8080/"
        },
        "id": "6PVOZqNgEP_r",
        "outputId": "1c3f542d-ee78-4870-8c5c-0c8f0b2ec486"
      },
      "source": [
        "vecs.shape"
      ],
      "execution_count": 39,
      "outputs": [
        {
          "output_type": "execute_result",
          "data": {
            "text/plain": [
              "(1600, 128)"
            ]
          },
          "metadata": {
            "tags": []
          },
          "execution_count": 39
        }
      ]
    },
    {
      "cell_type": "code",
      "metadata": {
        "colab": {
          "base_uri": "https://localhost:8080/"
        },
        "id": "XSYgn-AYEcvz",
        "outputId": "e215e5a6-ba0c-4080-dbb6-ee0ed6321f33"
      },
      "source": [
        "X = vecs\n",
        "y = df.ans1\n",
        "\n",
        "X_train, X_test, y_train, y_test = train_test_split(X, y, test_size=0.2, stratify=y, random_state=42)\n",
        "X_train.shape, X_test.shape, y_train.shape, y_test.shape"
      ],
      "execution_count": 40,
      "outputs": [
        {
          "output_type": "execute_result",
          "data": {
            "text/plain": [
              "((1280, 128), (320, 128), (1280,), (320,))"
            ]
          },
          "metadata": {
            "tags": []
          },
          "execution_count": 40
        }
      ]
    },
    {
      "cell_type": "code",
      "metadata": {
        "id": "j2iApkX_EsNS"
      },
      "source": [
        "from sklearn.svm import SVC\n",
        "from sklearn.model_selection import RandomizedSearchCV\n",
        "from jcopml.tuning import random_search_params as rsp\n",
        "\n",
        "from sklearn.feature_extraction.text import CountVectorizer"
      ],
      "execution_count": 41,
      "outputs": []
    },
    {
      "cell_type": "code",
      "metadata": {
        "colab": {
          "base_uri": "https://localhost:8080/"
        },
        "id": "MAkCoEuhE1cV",
        "outputId": "1b1182bd-1cb3-4481-9eea-cdcb9196414e"
      },
      "source": [
        "pipeline = Pipeline([\n",
        "    ('algo', SVC(max_iter=500))\n",
        "])\n",
        "\n",
        "model = RandomizedSearchCV(pipeline, rsp.svm_params, cv=4, n_iter=50, n_jobs=-1, verbose=1, random_state=12)\n",
        "model.fit(X_train, y_train)\n",
        "\n",
        "print(model.best_params_)\n",
        "print(model.score(X_train, y_train), model.best_score_, model.score(X_test, y_test))"
      ],
      "execution_count": 42,
      "outputs": [
        {
          "output_type": "stream",
          "text": [
            "Fitting 4 folds for each of 50 candidates, totalling 200 fits\n"
          ],
          "name": "stdout"
        },
        {
          "output_type": "stream",
          "text": [
            "[Parallel(n_jobs=-1)]: Using backend LokyBackend with 2 concurrent workers.\n",
            "[Parallel(n_jobs=-1)]: Done 110 tasks      | elapsed:    5.8s\n"
          ],
          "name": "stderr"
        },
        {
          "output_type": "stream",
          "text": [
            "{'algo__C': 0.008413506881469935, 'algo__gamma': 27.56120358523939}\n",
            "1.0 1.0 1.0\n"
          ],
          "name": "stdout"
        },
        {
          "output_type": "stream",
          "text": [
            "[Parallel(n_jobs=-1)]: Done 200 out of 200 | elapsed:   10.0s finished\n"
          ],
          "name": "stderr"
        }
      ]
    },
    {
      "cell_type": "code",
      "metadata": {
        "id": "b6PR17nqFJaE"
      },
      "source": [
        "from jcopml.plot import plot_confusion_matrix"
      ],
      "execution_count": 43,
      "outputs": []
    },
    {
      "cell_type": "markdown",
      "metadata": {
        "id": "Nyzqp5i4F5k9"
      },
      "source": [
        "# Visualisasi Classification SVM"
      ]
    },
    {
      "cell_type": "code",
      "metadata": {
        "colab": {
          "base_uri": "https://localhost:8080/",
          "height": 355
        },
        "id": "jzkXvbNxFP1T",
        "outputId": "3d1497f2-0911-4aa1-fe4c-6b15a67f6cda"
      },
      "source": [
        "plot_confusion_matrix(X_train, y_train, X_test, y_test, model)"
      ],
      "execution_count": 44,
      "outputs": [
        {
          "output_type": "display_data",
          "data": {
            "image/png": "[encoded data removed]",
            "text/plain": [
              "<Figure size 792x360 with 2 Axes>"
            ]
          },
          "metadata": {
            "tags": [],
            "needs_background": "light"
          }
        }
      ]
    },
    {
      "cell_type": "code",
      "metadata": {
        "colab": {
          "base_uri": "https://localhost:8080/"
        },
        "id": "atHcTQ5vsB30",
        "outputId": "639d8a15-afa9-4abc-c3cc-65345bb4580b"
      },
      "source": [
        "from sklearn.metrics import f1_score, precision_score, recall_score\n",
        "y_pred = model.predict(X_test)\n",
        "\n",
        "print('recall: {}'.format(recall_score(y_test, y_pred, average='weighted')))\n",
        "print('precission: {}'.format(precision_score(y_test, y_pred, average='weighted')))\n",
        "print('f1-score: {}'.format(f1_score(y_test, y_pred, average='weighted'))) \n"
      ],
      "execution_count": 45,
      "outputs": [
        {
          "output_type": "stream",
          "text": [
            "recall: 1.0\n",
            "precission: 1.0\n",
            "f1-score: 1.0\n"
          ],
          "name": "stdout"
        }
      ]
    },
    {
      "cell_type": "code",
      "metadata": {
        "colab": {
          "base_uri": "https://localhost:8080/"
        },
        "id": "IuxaHdqDujtc",
        "outputId": "6e9be484-d5f0-49ff-bca2-dbfed761d1b1"
      },
      "source": [
        "from sklearn.metrics import classification_report\n",
        "print(classification_report(y_test,y_pred))"
      ],
      "execution_count": 46,
      "outputs": [
        {
          "output_type": "stream",
          "text": [
            "              precision    recall  f1-score   support\n",
            "\n",
            "          No       1.00      1.00      1.00       160\n",
            "         Yes       1.00      1.00      1.00       160\n",
            "\n",
            "    accuracy                           1.00       320\n",
            "   macro avg       1.00      1.00      1.00       320\n",
            "weighted avg       1.00      1.00      1.00       320\n",
            "\n"
          ],
          "name": "stdout"
        }
      ]
    },
    {
      "cell_type": "code",
      "metadata": {
        "id": "a55bogune0qC"
      },
      "source": [
        "from sklearn.naive_bayes import GaussianNB"
      ],
      "execution_count": 47,
      "outputs": []
    },
    {
      "cell_type": "markdown",
      "metadata": {
        "id": "_9aJTVu9GQcd"
      },
      "source": [
        "#Visualisasi Classification Naive Bayes"
      ]
    },
    {
      "cell_type": "code",
      "metadata": {
        "colab": {
          "base_uri": "https://localhost:8080/",
          "height": 403
        },
        "id": "W2rTaIUljtKb",
        "outputId": "fc93dbbd-ae22-4373-96f8-3f072c29cb0b"
      },
      "source": [
        "modelnb = GaussianNB()\n",
        "\n",
        "nbtrain = modelnb.fit(X_train, y_train)\n",
        "\n",
        "plot_confusion_matrix(X_train, y_train, X_test, y_test, modelnb)\n",
        "\n",
        "from sklearn.metrics import f1_score, precision_score, recall_score\n",
        "y_predNB = model.predict(X_test)\n",
        "\n",
        "print('recall: {}'.format(recall_score(y_test, y_predNB, average='weighted')))\n",
        "print('precission: {}'.format(precision_score(y_test, y_predNB, average='weighted')))\n",
        "print('f1-score: {}'.format(f1_score(y_test, y_predNB, average='weighted'))) "
      ],
      "execution_count": 48,
      "outputs": [
        {
          "output_type": "stream",
          "text": [
            "recall: 1.0\n",
            "precission: 1.0\n",
            "f1-score: 1.0\n"
          ],
          "name": "stdout"
        },
        {
          "output_type": "display_data",
          "data": {
            "image/png": "[encoded data removed]",
            "text/plain": [
              "<Figure size 792x360 with 2 Axes>"
            ]
          },
          "metadata": {
            "tags": [],
            "needs_background": "light"
          }
        }
      ]
    },
    {
      "cell_type": "code",
      "metadata": {
        "colab": {
          "base_uri": "https://localhost:8080/"
        },
        "id": "uOfu4CZRj3GL",
        "outputId": "84e263b6-833f-40d1-8a2f-06c8d78d239b"
      },
      "source": [
        "from sklearn.metrics import classification_report\n",
        "print(classification_report(y_test,y_pred))"
      ],
      "execution_count": 49,
      "outputs": [
        {
          "output_type": "stream",
          "text": [
            "              precision    recall  f1-score   support\n",
            "\n",
            "          No       1.00      1.00      1.00       160\n",
            "         Yes       1.00      1.00      1.00       160\n",
            "\n",
            "    accuracy                           1.00       320\n",
            "   macro avg       1.00      1.00      1.00       320\n",
            "weighted avg       1.00      1.00      1.00       320\n",
            "\n"
          ],
          "name": "stdout"
        }
      ]
    }
  ]
}